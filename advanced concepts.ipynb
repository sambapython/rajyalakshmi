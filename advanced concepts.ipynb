{
 "cells": [
  {
   "cell_type": "code",
   "execution_count": 1,
   "metadata": {},
   "outputs": [
    {
     "data": {
      "text/plain": [
       "{'k1': 'v1', 'k2': 'v2', 'k3': 'v3'}"
      ]
     },
     "execution_count": 1,
     "metadata": {},
     "output_type": "execute_result"
    }
   ],
   "source": [
    "#list comorehensions\n",
    "#tuple comprehensions\n",
    "keys = [1,2,3,4]\n",
    "values=[\"one\",\"two\",\"three\",\"four\"]\n",
    "dict([('k1','v1'),('k2','v2'),('k3','v3')])"
   ]
  },
  {
   "cell_type": "code",
   "execution_count": 2,
   "metadata": {},
   "outputs": [
    {
     "data": {
      "text/plain": [
       "<zip at 0x1d4ebdb1440>"
      ]
     },
     "execution_count": 2,
     "metadata": {},
     "output_type": "execute_result"
    }
   ],
   "source": [
    "keys = [1,2,3,4]\n",
    "values=[\"one\",\"two\",\"three\",\"four\"]\n",
    "zip(keys, values)"
   ]
  },
  {
   "cell_type": "code",
   "execution_count": 3,
   "metadata": {},
   "outputs": [
    {
     "data": {
      "text/plain": [
       "[(1, 'one'), (2, 'two'), (3, 'three'), (4, 'four')]"
      ]
     },
     "execution_count": 3,
     "metadata": {},
     "output_type": "execute_result"
    }
   ],
   "source": [
    "keys = [1,2,3,4]\n",
    "values=[\"one\",\"two\",\"three\",\"four\"]\n",
    "list(zip(keys, values))"
   ]
  },
  {
   "cell_type": "code",
   "execution_count": 4,
   "metadata": {},
   "outputs": [
    {
     "data": {
      "text/plain": [
       "{1: 'one', 2: 'two', 3: 'three', 4: 'four'}"
      ]
     },
     "execution_count": 4,
     "metadata": {},
     "output_type": "execute_result"
    }
   ],
   "source": [
    "keys = [1,2,3,4]\n",
    "values=[\"one\",\"two\",\"three\",\"four\"]\n",
    "dict(zip(keys, values))"
   ]
  },
  {
   "cell_type": "code",
   "execution_count": 5,
   "metadata": {},
   "outputs": [
    {
     "data": {
      "text/plain": [
       "{1: 'one', 2: 'two', 3: 'three', 4: 'four'}"
      ]
     },
     "execution_count": 5,
     "metadata": {},
     "output_type": "execute_result"
    }
   ],
   "source": [
    "keys = [1,2,3,4,5,6]\n",
    "values=[\"one\",\"two\",\"three\",\"four\"]\n",
    "dict(zip(keys, values))"
   ]
  },
  {
   "cell_type": "code",
   "execution_count": 6,
   "metadata": {},
   "outputs": [
    {
     "data": {
      "text/plain": [
       "{1: 'one', 2: 'two', 3: 'three', 4: 'four'}"
      ]
     },
     "execution_count": 6,
     "metadata": {},
     "output_type": "execute_result"
    }
   ],
   "source": [
    "keys = [1,2,3,4]\n",
    "values=[\"one\",\"two\",\"three\",\"four\",\"five\",\"six\"]\n",
    "dict(zip(keys, values))"
   ]
  },
  {
   "cell_type": "code",
   "execution_count": 7,
   "metadata": {},
   "outputs": [
    {
     "name": "stdout",
     "output_type": "stream",
     "text": [
      "this is elase\n"
     ]
    }
   ],
   "source": [
    "l=[1,2]\n",
    "for i in l:\n",
    "    if i==10:\n",
    "        break\n",
    "else:\n",
    "    print(\"this is elase\")"
   ]
  },
  {
   "cell_type": "code",
   "execution_count": 8,
   "metadata": {},
   "outputs": [
    {
     "name": "stdout",
     "output_type": "stream",
     "text": [
      "1\n",
      "2\n",
      "this is elase\n"
     ]
    }
   ],
   "source": [
    "l=[1,2]\n",
    "for i in l:\n",
    "    print(i)\n",
    "else:\n",
    "    print(\"this is elase\")"
   ]
  },
  {
   "cell_type": "code",
   "execution_count": 9,
   "metadata": {},
   "outputs": [
    {
     "name": "stdout",
     "output_type": "stream",
     "text": [
      "1\n",
      "this is elase\n"
     ]
    }
   ],
   "source": [
    "l=[1,2]\n",
    "for i in l:\n",
    "    print(i)\n",
    "    l.pop()\n",
    "else:\n",
    "    print(\"this is elase\")"
   ]
  },
  {
   "cell_type": "code",
   "execution_count": 10,
   "metadata": {},
   "outputs": [
    {
     "name": "stdout",
     "output_type": "stream",
     "text": [
      "this is elase\n"
     ]
    }
   ],
   "source": [
    "l=[]\n",
    "for i in l:\n",
    "    print(i)\n",
    "    l.pop()\n",
    "else:\n",
    "    print(\"this is elase\")"
   ]
  },
  {
   "cell_type": "code",
   "execution_count": 11,
   "metadata": {},
   "outputs": [
    {
     "name": "stdout",
     "output_type": "stream",
     "text": [
      "1\n",
      "this is elase\n"
     ]
    }
   ],
   "source": [
    "l=[1]\n",
    "for i in l:\n",
    "    print(i)\n",
    "    l.pop()\n",
    "else:\n",
    "    print(\"this is elase\")"
   ]
  },
  {
   "cell_type": "code",
   "execution_count": 12,
   "metadata": {},
   "outputs": [
    {
     "name": "stdout",
     "output_type": "stream",
     "text": [
      "1\n"
     ]
    }
   ],
   "source": [
    "l=[1]\n",
    "for i in l:\n",
    "    print(i)\n",
    "    l.pop()\n",
    "    break\n",
    "else:\n",
    "    print(\"this is elase\")"
   ]
  },
  {
   "cell_type": "code",
   "execution_count": 13,
   "metadata": {},
   "outputs": [
    {
     "name": "stdout",
     "output_type": "stream",
     "text": [
      "sachin\n",
      "sehwag\n",
      "rohit\n",
      "dhavan\n",
      "ganguly\n",
      "dravid\n"
     ]
    }
   ],
   "source": [
    "scores={\"sachin\":23,\"sehwag\":22,\"rohit\":23,\"dhavan\":22,\"ganguly\":24,\"dravid\":24}\n",
    "# i want to club the same scorred people\n",
    "# {23:[\"sachin\",\"rohit\"],22:[\"sehhwag\",\"dhavan\"],24:[\"ganguly\",\"dravid\"]}\n",
    "for key in scores:\n",
    "    print(key)\n"
   ]
  },
  {
   "cell_type": "code",
   "execution_count": 16,
   "metadata": {},
   "outputs": [
    {
     "name": "stdout",
     "output_type": "stream",
     "text": [
      "{23: ['sachin', 'rohit'], 22: ['sehwag', 'dhavan'], 24: ['ganguly', 'dravid']}\n"
     ]
    }
   ],
   "source": [
    "scores={\"sachin\":23,\"sehwag\":22,\"rohit\":23,\"dhavan\":22,\"ganguly\":24,\"dravid\":24}\n",
    "# i want to club the same scorred people\n",
    "# {23:[\"sachin\",\"rohit\"],22:[\"sehhwag\",\"dhavan\"],24:[\"ganguly\",\"dravid\"]}\n",
    "res={}\n",
    "values = list(scores.values()).copy()\n",
    "for res_key in values:\n",
    "    for key,value in scores.items():\n",
    "            if value==res_key:\n",
    "                break\n",
    "    res_value = scores.pop(key)\n",
    "    if res_key in res:\n",
    "        res[res_key].append(key)\n",
    "    else:\n",
    "        res[res_key]=[]\n",
    "        res[res_key].append(key)\n",
    "        \n",
    "print(res)\n"
   ]
  },
  {
   "cell_type": "code",
   "execution_count": 18,
   "metadata": {},
   "outputs": [],
   "source": [
    "from collections import defaultdict"
   ]
  },
  {
   "cell_type": "code",
   "execution_count": 19,
   "metadata": {},
   "outputs": [
    {
     "data": {
      "text/plain": [
       "[]"
      ]
     },
     "execution_count": 19,
     "metadata": {},
     "output_type": "execute_result"
    }
   ],
   "source": [
    "d=defaultdict(list)\n",
    "d[1]"
   ]
  },
  {
   "cell_type": "code",
   "execution_count": 20,
   "metadata": {},
   "outputs": [
    {
     "data": {
      "text/plain": [
       "[]"
      ]
     },
     "execution_count": 20,
     "metadata": {},
     "output_type": "execute_result"
    }
   ],
   "source": [
    "d[2]"
   ]
  },
  {
   "cell_type": "code",
   "execution_count": 21,
   "metadata": {},
   "outputs": [
    {
     "data": {
      "text/plain": [
       "[]"
      ]
     },
     "execution_count": 21,
     "metadata": {},
     "output_type": "execute_result"
    }
   ],
   "source": [
    "d[\"sdfdsd\"]"
   ]
  },
  {
   "cell_type": "code",
   "execution_count": 25,
   "metadata": {},
   "outputs": [
    {
     "name": "stdout",
     "output_type": "stream",
     "text": [
      "defaultdict(<class 'list'>, {23: ['sachin', 'rohit'], 22: ['sehwag', 'dhavan'], 24: ['ganguly', 'dravid']})\n"
     ]
    }
   ],
   "source": [
    "from collections import defaultdict\n",
    "scores={\"sachin\":23,\"sehwag\":22,\"rohit\":23,\"dhavan\":22,\"ganguly\":24,\"dravid\":24}\n",
    "# i want to club the same scorred people\n",
    "# {23:[\"sachin\",\"rohit\"],22:[\"sehhwag\",\"dhavan\"],24:[\"ganguly\",\"dravid\"]}\n",
    "res=defaultdict(list)\n",
    "for key,value in scores.items():\n",
    "    res[value].append(key) # res[23].append(\"sachin\")\n",
    "print(res)"
   ]
  },
  {
   "cell_type": "code",
   "execution_count": null,
   "metadata": {},
   "outputs": [],
   "source": [
    "# numpy pandas matplotlib"
   ]
  }
 ],
 "metadata": {
  "kernelspec": {
   "display_name": "Python 3",
   "language": "python",
   "name": "python3"
  },
  "language_info": {
   "codemirror_mode": {
    "name": "ipython",
    "version": 3
   },
   "file_extension": ".py",
   "mimetype": "text/x-python",
   "name": "python",
   "nbconvert_exporter": "python",
   "pygments_lexer": "ipython3",
   "version": "3.8.3"
  }
 },
 "nbformat": 4,
 "nbformat_minor": 4
}

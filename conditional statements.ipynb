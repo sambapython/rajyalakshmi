{
 "cells": [
  {
   "cell_type": "code",
   "execution_count": 1,
   "metadata": {},
   "outputs": [
    {
     "name": "stdout",
     "output_type": "stream",
     "text": [
      "program started\n",
      "a is big\n",
      "b is big\n",
      "program ended\n"
     ]
    }
   ],
   "source": [
    "print(\"program started\")\n",
    "a=10\n",
    "b=20\n",
    "print(\"a is big\")\n",
    "print(\"b is big\")\n",
    "print(\"program ended\")"
   ]
  },
  {
   "cell_type": "code",
   "execution_count": 2,
   "metadata": {},
   "outputs": [
    {
     "name": "stdout",
     "output_type": "stream",
     "text": [
      "program started\n",
      "a is big\n",
      "program ended\n"
     ]
    }
   ],
   "source": [
    "print(\"program started\")\n",
    "a=10\n",
    "b=20\n",
    "if True: \n",
    "    print(\"a is big\")\n",
    "else:\n",
    "    print(\"b is big\")\n",
    "print(\"program ended\")"
   ]
  },
  {
   "cell_type": "code",
   "execution_count": 3,
   "metadata": {},
   "outputs": [
    {
     "name": "stdout",
     "output_type": "stream",
     "text": [
      "program started\n",
      "b is big\n",
      "program ended\n"
     ]
    }
   ],
   "source": [
    "print(\"program started\")\n",
    "a=10\n",
    "b=20\n",
    "if False: \n",
    "    print(\"a is big\")\n",
    "else:\n",
    "    print(\"b is big\")\n",
    "print(\"program ended\")"
   ]
  },
  {
   "cell_type": "code",
   "execution_count": 4,
   "metadata": {},
   "outputs": [
    {
     "name": "stdout",
     "output_type": "stream",
     "text": [
      "program started\n",
      "False\n",
      "b is big\n",
      "program ended\n"
     ]
    }
   ],
   "source": [
    "print(\"program started\")\n",
    "a=10\n",
    "b=20\n",
    "print(a>b)#10>20\n",
    "if a>b: \n",
    "    print(\"a is big\")\n",
    "else:\n",
    "    print(\"b is big\")\n",
    "print(\"program ended\")"
   ]
  },
  {
   "cell_type": "code",
   "execution_count": 5,
   "metadata": {},
   "outputs": [
    {
     "name": "stdout",
     "output_type": "stream",
     "text": [
      "program started\n",
      "True\n",
      "a is big\n",
      "program ended\n"
     ]
    }
   ],
   "source": [
    "print(\"program started\")\n",
    "a=10\n",
    "b=20\n",
    "print(a<b)\n",
    "if a<b: \n",
    "    print(\"a is big\")\n",
    "else:\n",
    "    print(\"b is big\")\n",
    "print(\"program ended\")"
   ]
  },
  {
   "cell_type": "code",
   "execution_count": 6,
   "metadata": {},
   "outputs": [
    {
     "name": "stdout",
     "output_type": "stream",
     "text": [
      "program started\n",
      "True\n",
      "b is big\n",
      "program ended\n"
     ]
    }
   ],
   "source": [
    "print(\"program started\")\n",
    "a=10\n",
    "b=20\n",
    "print(a<b)\n",
    "if a<b: \n",
    "    print(\"b is big\")\n",
    "else:\n",
    "    print(\"a is big\")\n",
    "print(\"program ended\")"
   ]
  },
  {
   "cell_type": "code",
   "execution_count": 7,
   "metadata": {},
   "outputs": [
    {
     "name": "stdout",
     "output_type": "stream",
     "text": [
      "program started\n",
      "True\n",
      "if block started\n",
      "b is big\n",
      "if block ended\n",
      "program ended\n"
     ]
    }
   ],
   "source": [
    "print(\"program started\")\n",
    "a=10\n",
    "b=20\n",
    "print(a<b)\n",
    "if a<b: \n",
    "    print(\"if block started\")\n",
    "    print(\"b is big\")\n",
    "    print(\"if block ended\")\n",
    "else:\n",
    "    print(\"else blcok started\")\n",
    "    print(\"a is big\")\n",
    "    print(\"else block ended\")\n",
    "print(\"program ended\")"
   ]
  },
  {
   "cell_type": "code",
   "execution_count": 8,
   "metadata": {},
   "outputs": [
    {
     "data": {
      "text/plain": [
       "0"
      ]
     },
     "execution_count": 8,
     "metadata": {},
     "output_type": "execute_result"
    }
   ],
   "source": [
    "a=10\n",
    "a%2"
   ]
  },
  {
   "cell_type": "code",
   "execution_count": 9,
   "metadata": {},
   "outputs": [
    {
     "data": {
      "text/plain": [
       "1"
      ]
     },
     "execution_count": 9,
     "metadata": {},
     "output_type": "execute_result"
    }
   ],
   "source": [
    "a=9\n",
    "a%2"
   ]
  },
  {
   "cell_type": "code",
   "execution_count": 10,
   "metadata": {},
   "outputs": [
    {
     "data": {
      "text/plain": [
       "False"
      ]
     },
     "execution_count": 10,
     "metadata": {},
     "output_type": "execute_result"
    }
   ],
   "source": [
    "a%2 == 0"
   ]
  },
  {
   "cell_type": "code",
   "execution_count": 11,
   "metadata": {},
   "outputs": [
    {
     "name": "stdout",
     "output_type": "stream",
     "text": [
      "Emter a value:12\n",
      "It's a even number\n"
     ]
    }
   ],
   "source": [
    "a=input(\"Emter a value:\")\n",
    "a=int(a)\n",
    "if a%2==0:\n",
    "    print(\"It's a even number\")\n",
    "else:\n",
    "    print(\"It's a odd number\")\n",
    "    "
   ]
  },
  {
   "cell_type": "code",
   "execution_count": 12,
   "metadata": {},
   "outputs": [
    {
     "name": "stdout",
     "output_type": "stream",
     "text": [
      "Emter a value:\n"
     ]
    },
    {
     "ename": "ValueError",
     "evalue": "invalid literal for int() with base 10: ''",
     "output_type": "error",
     "traceback": [
      "\u001b[1;31m---------------------------------------------------------------------------\u001b[0m",
      "\u001b[1;31mValueError\u001b[0m                                Traceback (most recent call last)",
      "\u001b[1;32m<ipython-input-12-f1b491786675>\u001b[0m in \u001b[0;36m<module>\u001b[1;34m\u001b[0m\n\u001b[0;32m      1\u001b[0m \u001b[0ma\u001b[0m\u001b[1;33m=\u001b[0m\u001b[0minput\u001b[0m\u001b[1;33m(\u001b[0m\u001b[1;34m\"Emter a value:\"\u001b[0m\u001b[1;33m)\u001b[0m\u001b[1;33m\u001b[0m\u001b[1;33m\u001b[0m\u001b[0m\n\u001b[1;32m----> 2\u001b[1;33m \u001b[0ma\u001b[0m\u001b[1;33m=\u001b[0m\u001b[0mint\u001b[0m\u001b[1;33m(\u001b[0m\u001b[0ma\u001b[0m\u001b[1;33m)\u001b[0m\u001b[1;33m\u001b[0m\u001b[1;33m\u001b[0m\u001b[0m\n\u001b[0m\u001b[0;32m      3\u001b[0m \u001b[1;32mif\u001b[0m \u001b[0ma\u001b[0m\u001b[1;33m%\u001b[0m\u001b[1;36m2\u001b[0m\u001b[1;33m==\u001b[0m\u001b[1;36m0\u001b[0m\u001b[1;33m:\u001b[0m\u001b[1;33m\u001b[0m\u001b[1;33m\u001b[0m\u001b[0m\n\u001b[0;32m      4\u001b[0m     \u001b[0mprint\u001b[0m\u001b[1;33m(\u001b[0m\u001b[1;34m\"It's a even number\"\u001b[0m\u001b[1;33m)\u001b[0m\u001b[1;33m\u001b[0m\u001b[1;33m\u001b[0m\u001b[0m\n\u001b[0;32m      5\u001b[0m \u001b[1;32melse\u001b[0m\u001b[1;33m:\u001b[0m\u001b[1;33m\u001b[0m\u001b[1;33m\u001b[0m\u001b[0m\n",
      "\u001b[1;31mValueError\u001b[0m: invalid literal for int() with base 10: ''"
     ]
    }
   ],
   "source": [
    "a=input(\"Emter a value:\")\n",
    "a=int(a)\n",
    "if a%2==0:\n",
    "    print(\"It's a even number\")\n",
    "else:\n",
    "    print(\"It's a odd number\")\n",
    "    "
   ]
  },
  {
   "cell_type": "code",
   "execution_count": 13,
   "metadata": {},
   "outputs": [
    {
     "name": "stdout",
     "output_type": "stream",
     "text": [
      "Emter a value:\n",
      "it's invalid number\n"
     ]
    },
    {
     "ename": "TypeError",
     "evalue": "not all arguments converted during string formatting",
     "output_type": "error",
     "traceback": [
      "\u001b[1;31m---------------------------------------------------------------------------\u001b[0m",
      "\u001b[1;31mTypeError\u001b[0m                                 Traceback (most recent call last)",
      "\u001b[1;32m<ipython-input-13-1aab6185f414>\u001b[0m in \u001b[0;36m<module>\u001b[1;34m\u001b[0m\n\u001b[0;32m      4\u001b[0m \u001b[1;32melse\u001b[0m\u001b[1;33m:\u001b[0m\u001b[1;33m\u001b[0m\u001b[1;33m\u001b[0m\u001b[0m\n\u001b[0;32m      5\u001b[0m     \u001b[0ma\u001b[0m\u001b[1;33m=\u001b[0m\u001b[0mint\u001b[0m\u001b[1;33m(\u001b[0m\u001b[0ma\u001b[0m\u001b[1;33m)\u001b[0m\u001b[1;33m\u001b[0m\u001b[1;33m\u001b[0m\u001b[0m\n\u001b[1;32m----> 6\u001b[1;33m \u001b[1;32mif\u001b[0m \u001b[0ma\u001b[0m\u001b[1;33m%\u001b[0m\u001b[1;36m2\u001b[0m\u001b[1;33m==\u001b[0m\u001b[1;36m0\u001b[0m\u001b[1;33m:\u001b[0m\u001b[1;33m\u001b[0m\u001b[1;33m\u001b[0m\u001b[0m\n\u001b[0m\u001b[0;32m      7\u001b[0m     \u001b[0mprint\u001b[0m\u001b[1;33m(\u001b[0m\u001b[1;34m\"It's a even number\"\u001b[0m\u001b[1;33m)\u001b[0m\u001b[1;33m\u001b[0m\u001b[1;33m\u001b[0m\u001b[0m\n\u001b[0;32m      8\u001b[0m \u001b[1;32melse\u001b[0m\u001b[1;33m:\u001b[0m\u001b[1;33m\u001b[0m\u001b[1;33m\u001b[0m\u001b[0m\n",
      "\u001b[1;31mTypeError\u001b[0m: not all arguments converted during string formatting"
     ]
    }
   ],
   "source": [
    "a=input(\"Emter a value:\")\n",
    "if a == \"\":\n",
    "    print(\"it's invalid number\")\n",
    "else:\n",
    "    a=int(a)\n",
    "if a%2==0:\n",
    "    print(\"It's a even number\")\n",
    "else:\n",
    "    print(\"It's a odd number\")\n",
    "    "
   ]
  },
  {
   "cell_type": "code",
   "execution_count": 14,
   "metadata": {},
   "outputs": [
    {
     "name": "stdout",
     "output_type": "stream",
     "text": [
      "program started\n",
      "Enter a value:12\n",
      "It's a even number\n",
      "program ended\n"
     ]
    }
   ],
   "source": [
    "print(\"program started\")\n",
    "a=input(\"Enter a value:\")\n",
    "if a == \"\":\n",
    "    print(\"it's invalid number\")\n",
    "else:\n",
    "    a=int(a)\n",
    "    if a%2==0:\n",
    "        print(\"It's a even number\")\n",
    "    else:\n",
    "        print(\"It's a odd number\")\n",
    "print(\"program ended\")"
   ]
  },
  {
   "cell_type": "code",
   "execution_count": 15,
   "metadata": {},
   "outputs": [
    {
     "name": "stdout",
     "output_type": "stream",
     "text": [
      "program started\n",
      "Enter a value:\n",
      "it's invalid number\n",
      "program ended\n"
     ]
    }
   ],
   "source": [
    "print(\"program started\")\n",
    "a=input(\"Enter a value:\")\n",
    "if a == \"\":\n",
    "    print(\"it's invalid number\")\n",
    "else:\n",
    "    a=int(a)\n",
    "    if a%2==0:\n",
    "        print(\"It's a even number\")\n",
    "    else:\n",
    "        print(\"It's a odd number\")\n",
    "print(\"program ended\")"
   ]
  },
  {
   "cell_type": "code",
   "execution_count": 16,
   "metadata": {},
   "outputs": [
    {
     "name": "stdout",
     "output_type": "stream",
     "text": [
      "program started\n",
      "Enter a value:23we\n"
     ]
    },
    {
     "ename": "ValueError",
     "evalue": "invalid literal for int() with base 10: '23we'",
     "output_type": "error",
     "traceback": [
      "\u001b[1;31m---------------------------------------------------------------------------\u001b[0m",
      "\u001b[1;31mValueError\u001b[0m                                Traceback (most recent call last)",
      "\u001b[1;32m<ipython-input-16-26ba6775d7f7>\u001b[0m in \u001b[0;36m<module>\u001b[1;34m\u001b[0m\n\u001b[0;32m      4\u001b[0m     \u001b[0mprint\u001b[0m\u001b[1;33m(\u001b[0m\u001b[1;34m\"it's invalid number\"\u001b[0m\u001b[1;33m)\u001b[0m\u001b[1;33m\u001b[0m\u001b[1;33m\u001b[0m\u001b[0m\n\u001b[0;32m      5\u001b[0m \u001b[1;32melse\u001b[0m\u001b[1;33m:\u001b[0m\u001b[1;33m\u001b[0m\u001b[1;33m\u001b[0m\u001b[0m\n\u001b[1;32m----> 6\u001b[1;33m     \u001b[0ma\u001b[0m\u001b[1;33m=\u001b[0m\u001b[0mint\u001b[0m\u001b[1;33m(\u001b[0m\u001b[0ma\u001b[0m\u001b[1;33m)\u001b[0m\u001b[1;33m\u001b[0m\u001b[1;33m\u001b[0m\u001b[0m\n\u001b[0m\u001b[0;32m      7\u001b[0m     \u001b[1;32mif\u001b[0m \u001b[0ma\u001b[0m\u001b[1;33m%\u001b[0m\u001b[1;36m2\u001b[0m\u001b[1;33m==\u001b[0m\u001b[1;36m0\u001b[0m\u001b[1;33m:\u001b[0m\u001b[1;33m\u001b[0m\u001b[1;33m\u001b[0m\u001b[0m\n\u001b[0;32m      8\u001b[0m         \u001b[0mprint\u001b[0m\u001b[1;33m(\u001b[0m\u001b[1;34m\"It's a even number\"\u001b[0m\u001b[1;33m)\u001b[0m\u001b[1;33m\u001b[0m\u001b[1;33m\u001b[0m\u001b[0m\n",
      "\u001b[1;31mValueError\u001b[0m: invalid literal for int() with base 10: '23we'"
     ]
    }
   ],
   "source": [
    "print(\"program started\")\n",
    "a=input(\"Enter a value:\")\n",
    "if a == \"\":\n",
    "    print(\"it's invalid number\")\n",
    "else:\n",
    "    a=int(a)\n",
    "    if a%2==0:\n",
    "        print(\"It's a even number\")\n",
    "    else:\n",
    "        print(\"It's a odd number\")\n",
    "print(\"program ended\")"
   ]
  },
  {
   "cell_type": "code",
   "execution_count": 1,
   "metadata": {},
   "outputs": [
    {
     "name": "stdout",
     "output_type": "stream",
     "text": [
      "SERVICES\n",
      "1. Bank account details\n",
      "2. debit card related information\n",
      "3. credit card related information\n",
      "4. fixed deposit information\n",
      "SELECT AN OPTION:\n",
      "\n"
     ]
    }
   ],
   "source": [
    "\"\"\"\n",
    "SERVICES\n",
    "1. Bank account details\n",
    "2. debit card related information\n",
    "3. credit card related information\n",
    "4. fixed deposit information\n",
    "SELECT AN OPTION:\n",
    "\"\"\"\n",
    "\"\"\"\n",
    "1: a/c:234563456, balance:30000, ourdraft:0\n",
    "2: number:25834985348, status: active\n",
    "3: number: 2342543565, status: active, due amount:2000, due date:3/20/2021\n",
    "4: you dont have any fixed deposite. To apply please call to 24524 or mail to cicici.customer.fixed@icici.com\n",
    "any other number/anything: wrong option\n",
    "\"\"\"\n",
    "print(\"SERVICES\\n1. Bank account details\\n2. debit card related information\\n3. credit card related information\\n4. fixed deposit information\\nSELECT AN OPTION:\\n\")"
   ]
  },
  {
   "cell_type": "code",
   "execution_count": 2,
   "metadata": {},
   "outputs": [
    {
     "ename": "SyntaxError",
     "evalue": "EOL while scanning string literal (<ipython-input-2-999f07062b51>, line 16)",
     "output_type": "error",
     "traceback": [
      "\u001b[1;36m  File \u001b[1;32m\"<ipython-input-2-999f07062b51>\"\u001b[1;36m, line \u001b[1;32m16\u001b[0m\n\u001b[1;33m    print(\"SERVICES\\n1. Bank account details\\n2. debit card related information\\n3. credit card\u001b[0m\n\u001b[1;37m                                                                                                ^\u001b[0m\n\u001b[1;31mSyntaxError\u001b[0m\u001b[1;31m:\u001b[0m EOL while scanning string literal\n"
     ]
    }
   ],
   "source": [
    "\"\"\"\n",
    "SERVICES\n",
    "1. Bank account details\n",
    "2. debit card related information\n",
    "3. credit card related information\n",
    "4. fixed deposit information\n",
    "SELECT AN OPTION:\n",
    "\"\"\"\n",
    "\"\"\"\n",
    "1: a/c:234563456, balance:30000, ourdraft:0\n",
    "2: number:25834985348, status: active\n",
    "3: number: 2342543565, status: active, due amount:2000, due date:3/20/2021\n",
    "4: you dont have any fixed deposite. To apply please call to 24524 or mail to cicici.customer.fixed@icici.com\n",
    "any other number/anything: wrong option\n",
    "\"\"\"\n",
    "print(\"SERVICES\\n1. Bank account details\\n2. debit card related information\\n3. credit card \n",
    "      related information\\n4. fixed deposit information\\nSELECT AN OPTION:\\n\")"
   ]
  },
  {
   "cell_type": "code",
   "execution_count": 3,
   "metadata": {},
   "outputs": [
    {
     "name": "stdout",
     "output_type": "stream",
     "text": [
      "SERVICES\n",
      "1. Bank account details\n",
      "2. debit card related information\n",
      "3. credit card      related information\n",
      "4. fixed deposit information\n",
      "SELECT AN OPTION:\n",
      "\n"
     ]
    }
   ],
   "source": [
    "\"\"\"\n",
    "SERVICES\n",
    "1. Bank account details\n",
    "2. debit card related information\n",
    "3. credit card related information\n",
    "4. fixed deposit information\n",
    "SELECT AN OPTION:\n",
    "\"\"\"\n",
    "\"\"\"\n",
    "1: a/c:234563456, balance:30000, ourdraft:0\n",
    "2: number:25834985348, status: active\n",
    "3: number: 2342543565, status: active, due amount:2000, due date:3/20/2021\n",
    "4: you dont have any fixed deposite. To apply please call to 24524 or mail to cicici.customer.fixed@icici.com\n",
    "any other number/anything: wrong option\n",
    "\"\"\"\n",
    "print(\"SERVICES\\n1. Bank account details\\n2. debit card related information\\n3. credit card\\\n",
    "      related information\\n4. fixed deposit information\\nSELECT AN OPTION:\\n\")"
   ]
  },
  {
   "cell_type": "code",
   "execution_count": 5,
   "metadata": {},
   "outputs": [
    {
     "name": "stdout",
     "output_type": "stream",
     "text": [
      "SERVICES\n",
      "1. Bank account details\n",
      "2. debit card related information\n",
      "3. credit card      related information\n",
      "4. fixed deposit information\n",
      "\n",
      "SELECT AN OPTION:12\n",
      "12\n"
     ]
    }
   ],
   "source": [
    "\"\"\"\n",
    "SERVICES\n",
    "1. Bank account details\n",
    "2. debit card related information\n",
    "3. credit card related information\n",
    "4. fixed deposit information\n",
    "SELECT AN OPTION:\n",
    "\"\"\"\n",
    "\"\"\"\n",
    "1: a/c:234563456, balance:30000, ourdraft:0\n",
    "2: number:25834985348, status: active\n",
    "3: number: 2342543565, status: active, due amount:2000, due date:3/20/2021\n",
    "4: you dont have any fixed deposite. To apply please call to 24524 or mail to cicici.customer.fixed@icici.com\n",
    "any other number/anything: wrong option\n",
    "\"\"\"\n",
    "print(\"SERVICES\\n1. Bank account details\\n2. debit card related information\\n3. credit card\\\n",
    "      related information\\n4. fixed deposit information\\n\")\n",
    "option = input(\"SELECT AN OPTION:\")\n",
    "print(option)"
   ]
  },
  {
   "cell_type": "code",
   "execution_count": 6,
   "metadata": {},
   "outputs": [
    {
     "name": "stdout",
     "output_type": "stream",
     "text": [
      "SERVICES\n",
      "1. Bank account details\n",
      "2. debit card related information\n",
      "3. credit card      related information\n",
      "4. fixed deposit information\n",
      "\n",
      "SELECT AN OPTION:1\n",
      "wrong option\n",
      "End\n"
     ]
    }
   ],
   "source": [
    "\"\"\"\n",
    "SERVICES\n",
    "1. Bank account details\n",
    "2. debit card related information\n",
    "3. credit card related information\n",
    "4. fixed deposit information\n",
    "SELECT AN OPTION:\n",
    "\"\"\"\n",
    "\"\"\"\n",
    "1: a/c:234563456, balance:30000, ourdraft:0\n",
    "2: number:25834985348, status: active\n",
    "3: number: 2342543565, status: active, due amount:2000, due date:3/20/2021\n",
    "4: you dont have any fixed deposite. To apply please call to 24524 or mail to cicici.customer.fixed@icici.com\n",
    "any other number/anything: wrong option\n",
    "\"\"\"\n",
    "print(\"SERVICES\\n1. Bank account details\\n2. debit card related information\\n3. credit card\\\n",
    "      related information\\n4. fixed deposit information\\n\")\n",
    "option = input(\"SELECT AN OPTION:\")\n",
    "if option==1:\n",
    "    print(\"a/c:234563456, balance:30000, ourdraft:0\")\n",
    "if option==2:\n",
    "    print(\"number:25834985348, status: active\")\n",
    "if option==3:\n",
    "    print(\"number: 2342543565, status: active, due amount:2000, due date:3/20/2021\")\n",
    "if option==4:\n",
    "    print(\"you dont have any fixed deposite. To apply please call to 24524 or \\\n",
    "    mail to cicici.customer.fixed@icici.com\")\n",
    "else:\n",
    "    print(\"wrong option\")\n",
    "print(\"End\")"
   ]
  },
  {
   "cell_type": "code",
   "execution_count": 7,
   "metadata": {},
   "outputs": [
    {
     "data": {
      "text/plain": [
       "False"
      ]
     },
     "execution_count": 7,
     "metadata": {},
     "output_type": "execute_result"
    }
   ],
   "source": [
    "\"1\"==1"
   ]
  },
  {
   "cell_type": "code",
   "execution_count": 8,
   "metadata": {},
   "outputs": [
    {
     "name": "stdout",
     "output_type": "stream",
     "text": [
      "SERVICES\n",
      "1. Bank account details\n",
      "2. debit card related information\n",
      "3. credit card      related information\n",
      "4. fixed deposit information\n",
      "\n",
      "SELECT AN OPTION:1\n",
      "a/c:234563456, balance:30000, ourdraft:0\n",
      "wrong option\n",
      "End\n"
     ]
    }
   ],
   "source": [
    "\"\"\"\n",
    "SERVICES\n",
    "1. Bank account details\n",
    "2. debit card related information\n",
    "3. credit card related information\n",
    "4. fixed deposit information\n",
    "SELECT AN OPTION:\n",
    "\"\"\"\n",
    "\"\"\"\n",
    "1: a/c:234563456, balance:30000, ourdraft:0\n",
    "2: number:25834985348, status: active\n",
    "3: number: 2342543565, status: active, due amount:2000, due date:3/20/2021\n",
    "4: you dont have any fixed deposite. To apply please call to 24524 or mail to cicici.customer.fixed@icici.com\n",
    "any other number/anything: wrong option\n",
    "\"\"\"\n",
    "print(\"SERVICES\\n1. Bank account details\\n2. debit card related information\\n3. credit card\\\n",
    "      related information\\n4. fixed deposit information\\n\")\n",
    "option = input(\"SELECT AN OPTION:\")\n",
    "if option==\"1\":\n",
    "    print(\"a/c:234563456, balance:30000, ourdraft:0\")\n",
    "if option==\"2\":\n",
    "    print(\"number:25834985348, status: active\")\n",
    "if option==\"3\":\n",
    "    print(\"number: 2342543565, status: active, due amount:2000, due date:3/20/2021\")\n",
    "if option==\"4\":\n",
    "    print(\"you dont have any fixed deposite. To apply please call to 24524 or \\\n",
    "    mail to cicici.customer.fixed@icici.com\")\n",
    "else:\n",
    "    print(\"wrong option\")\n",
    "print(\"End\")"
   ]
  },
  {
   "cell_type": "code",
   "execution_count": 9,
   "metadata": {},
   "outputs": [
    {
     "name": "stdout",
     "output_type": "stream",
     "text": [
      "SERVICES\n",
      "1. Bank account details\n",
      "2. debit card related information\n",
      "3. credit card      related information\n",
      "4. fixed deposit information\n",
      "\n",
      "SELECT AN OPTION:1\n",
      "a/c:234563456, balance:30000, ourdraft:0\n",
      "End\n"
     ]
    }
   ],
   "source": [
    "\"\"\"\n",
    "SERVICES\n",
    "1. Bank account details\n",
    "2. debit card related information\n",
    "3. credit card related information\n",
    "4. fixed deposit information\n",
    "SELECT AN OPTION:\n",
    "\"\"\"\n",
    "\"\"\"\n",
    "1: a/c:234563456, balance:30000, ourdraft:0\n",
    "2: number:25834985348, status: active\n",
    "3: number: 2342543565, status: active, due amount:2000, due date:3/20/2021\n",
    "4: you dont have any fixed deposite. To apply please call to 24524 or mail to cicici.customer.fixed@icici.com\n",
    "any other number/anything: wrong option\n",
    "\"\"\"\n",
    "print(\"SERVICES\\n1. Bank account details\\n2. debit card related information\\n3. credit card\\\n",
    "      related information\\n4. fixed deposit information\\n\")\n",
    "option = input(\"SELECT AN OPTION:\")\n",
    "if option==\"1\":\n",
    "    print(\"a/c:234563456, balance:30000, ourdraft:0\")\n",
    "elif option==\"2\":\n",
    "    print(\"number:25834985348, status: active\")\n",
    "elif option==\"3\":\n",
    "    print(\"number: 2342543565, status: active, due amount:2000, due date:3/20/2021\")\n",
    "elif option==\"4\":\n",
    "    print(\"you dont have any fixed deposite. To apply please call to 24524 or \\\n",
    "    mail to cicici.customer.fixed@icici.com\")\n",
    "else:\n",
    "    print(\"wrong option\")\n",
    "print(\"End\")"
   ]
  },
  {
   "cell_type": "code",
   "execution_count": 10,
   "metadata": {},
   "outputs": [
    {
     "name": "stdout",
     "output_type": "stream",
     "text": [
      "SERVICES\n",
      "1. Bank account details\n",
      "2. debit card related information\n",
      "3. credit card      related information\n",
      "4. fixed deposit information\n",
      "\n",
      "SELECT AN OPTION:2\n",
      "number:25834985348, status: active\n",
      "End\n"
     ]
    }
   ],
   "source": [
    "\"\"\"\n",
    "SERVICES\n",
    "1. Bank account details\n",
    "2. debit card related information\n",
    "3. credit card related information\n",
    "4. fixed deposit information\n",
    "SELECT AN OPTION:\n",
    "\"\"\"\n",
    "\"\"\"\n",
    "1: a/c:234563456, balance:30000, ourdraft:0\n",
    "2: number:25834985348, status: active\n",
    "3: number: 2342543565, status: active, due amount:2000, due date:3/20/2021\n",
    "4: you dont have any fixed deposite. To apply please call to 24524 or mail to cicici.customer.fixed@icici.com\n",
    "any other number/anything: wrong option\n",
    "\"\"\"\n",
    "print(\"SERVICES\\n1. Bank account details\\n2. debit card related information\\n3. credit card\\\n",
    "      related information\\n4. fixed deposit information\\n\")\n",
    "option = input(\"SELECT AN OPTION:\")\n",
    "if option==\"1\":\n",
    "    print(\"a/c:234563456, balance:30000, ourdraft:0\")\n",
    "elif option==\"2\":\n",
    "    print(\"number:25834985348, status: active\")\n",
    "elif option==\"3\":\n",
    "    print(\"number: 2342543565, status: active, due amount:2000, due date:3/20/2021\")\n",
    "elif option==\"4\":\n",
    "    print(\"you dont have any fixed deposite. To apply please call to 24524 or \\\n",
    "    mail to cicici.customer.fixed@icici.com\")\n",
    "else:\n",
    "    print(\"wrong option\")\n",
    "print(\"End\")"
   ]
  },
  {
   "cell_type": "code",
   "execution_count": 11,
   "metadata": {},
   "outputs": [
    {
     "name": "stdout",
     "output_type": "stream",
     "text": [
      "SERVICES\n",
      "1. Bank account details\n",
      "2. debit card related information\n",
      "3. credit card      related information\n",
      "4. fixed deposit information\n",
      "\n",
      "SELECT AN OPTION:3\n",
      "number: 2342543565, status: active, due amount:2000, due date:3/20/2021\n",
      "End\n"
     ]
    }
   ],
   "source": [
    "\"\"\"\n",
    "SERVICES\n",
    "1. Bank account details\n",
    "2. debit card related information\n",
    "3. credit card related information\n",
    "4. fixed deposit information\n",
    "SELECT AN OPTION:\n",
    "\"\"\"\n",
    "\"\"\"\n",
    "1: a/c:234563456, balance:30000, ourdraft:0\n",
    "2: number:25834985348, status: active\n",
    "3: number: 2342543565, status: active, due amount:2000, due date:3/20/2021\n",
    "4: you dont have any fixed deposite. To apply please call to 24524 or mail to cicici.customer.fixed@icici.com\n",
    "any other number/anything: wrong option\n",
    "\"\"\"\n",
    "print(\"SERVICES\\n1. Bank account details\\n2. debit card related information\\n3. credit card\\\n",
    "      related information\\n4. fixed deposit information\\n\")\n",
    "option = input(\"SELECT AN OPTION:\")\n",
    "if option==\"1\":\n",
    "    print(\"a/c:234563456, balance:30000, ourdraft:0\")\n",
    "elif option==\"2\":\n",
    "    print(\"number:25834985348, status: active\")\n",
    "elif option==\"3\":\n",
    "    print(\"number: 2342543565, status: active, due amount:2000, due date:3/20/2021\")\n",
    "elif option==\"4\":\n",
    "    print(\"you dont have any fixed deposite. To apply please call to 24524 or \\\n",
    "    mail to cicici.customer.fixed@icici.com\")\n",
    "else:\n",
    "    print(\"wrong option\")\n",
    "print(\"End\")"
   ]
  },
  {
   "cell_type": "code",
   "execution_count": 12,
   "metadata": {
    "scrolled": true
   },
   "outputs": [
    {
     "name": "stdout",
     "output_type": "stream",
     "text": [
      "SERVICES\n",
      "1. Bank account details\n",
      "2. debit card related information\n",
      "3. credit card      related information\n",
      "4. fixed deposit information\n",
      "\n",
      "SELECT AN OPTION:4\n",
      "you dont have any fixed deposite. To apply please call to 24524 or     mail to cicici.customer.fixed@icici.com\n",
      "End\n"
     ]
    }
   ],
   "source": [
    "\"\"\"\n",
    "SERVICES\n",
    "1. Bank account details\n",
    "2. debit card related information\n",
    "3. credit card related information\n",
    "4. fixed deposit information\n",
    "SELECT AN OPTION:\n",
    "\"\"\"\n",
    "\"\"\"\n",
    "1: a/c:234563456, balance:30000, ourdraft:0\n",
    "2: number:25834985348, status: active\n",
    "3: number: 2342543565, status: active, due amount:2000, due date:3/20/2021\n",
    "4: you dont have any fixed deposite. To apply please call to 24524 or mail to cicici.customer.fixed@icici.com\n",
    "any other number/anything: wrong option\n",
    "\"\"\"\n",
    "print(\"SERVICES\\n1. Bank account details\\n2. debit card related information\\n3. credit card\\\n",
    "      related information\\n4. fixed deposit information\\n\")\n",
    "option = input(\"SELECT AN OPTION:\")\n",
    "if option==\"1\":\n",
    "    print(\"a/c:234563456, balance:30000, ourdraft:0\")\n",
    "elif option==\"2\":\n",
    "    print(\"number:25834985348, status: active\")\n",
    "elif option==\"3\":\n",
    "    print(\"number: 2342543565, status: active, due amount:2000, due date:3/20/2021\")\n",
    "elif option==\"4\":\n",
    "    print(\"you dont have any fixed deposite. To apply please call to 24524 or \\\n",
    "    mail to cicici.customer.fixed@icici.com\")\n",
    "else:\n",
    "    print(\"wrong option\")\n",
    "print(\"End\")"
   ]
  },
  {
   "cell_type": "code",
   "execution_count": null,
   "metadata": {},
   "outputs": [],
   "source": []
  },
  {
   "cell_type": "code",
   "execution_count": 13,
   "metadata": {},
   "outputs": [
    {
     "name": "stdout",
     "output_type": "stream",
     "text": [
      "SERVICES\n",
      "1. Bank account details\n",
      "2. debit card related information\n",
      "3. credit card      related information\n",
      "4. fixed deposit information\n",
      "\n",
      "SELECT AN OPTION:5\n",
      "wrong option\n",
      "End\n"
     ]
    }
   ],
   "source": [
    "\"\"\"\n",
    "SERVICES\n",
    "1. Bank account details\n",
    "2. debit card related information\n",
    "3. credit card related information\n",
    "4. fixed deposit information\n",
    "SELECT AN OPTION:\n",
    "\"\"\"\n",
    "\"\"\"\n",
    "1: a/c:234563456, balance:30000, ourdraft:0\n",
    "2: number:25834985348, status: active\n",
    "3: number: 2342543565, status: active, due amount:2000, due date:3/20/2021\n",
    "4: you dont have any fixed deposite. To apply please call to 24524 or mail to cicici.customer.fixed@icici.com\n",
    "any other number/anything: wrong option\n",
    "\"\"\"\n",
    "print(\"SERVICES\\n1. Bank account details\\n2. debit card related information\\n3. credit card\\\n",
    "      related information\\n4. fixed deposit information\\n\")\n",
    "option = input(\"SELECT AN OPTION:\")\n",
    "if option==\"1\":\n",
    "    print(\"a/c:234563456, balance:30000, ourdraft:0\")\n",
    "elif option==\"2\":\n",
    "    print(\"number:25834985348, status: active\")\n",
    "elif option==\"3\":\n",
    "    print(\"number: 2342543565, status: active, due amount:2000, due date:3/20/2021\")\n",
    "elif option==\"4\":\n",
    "    print(\"you dont have any fixed deposite. To apply please call to 24524 or \\\n",
    "    mail to cicici.customer.fixed@icici.com\")\n",
    "else:\n",
    "    print(\"wrong option\")\n",
    "print(\"End\")"
   ]
  },
  {
   "cell_type": "code",
   "execution_count": 14,
   "metadata": {},
   "outputs": [
    {
     "name": "stdout",
     "output_type": "stream",
     "text": [
      "even\n",
      "even\n"
     ]
    }
   ],
   "source": [
    "a=10\n",
    "if a%2==0:\n",
    "    print(\"even\")\n",
    "else:\n",
    "    print(\"odd\")\n",
    "res = \"even\" if a%2==0 else \"odd\"\n",
    "print(res)"
   ]
  },
  {
   "cell_type": "code",
   "execution_count": 16,
   "metadata": {},
   "outputs": [
    {
     "name": "stdout",
     "output_type": "stream",
     "text": [
      "even\n"
     ]
    }
   ],
   "source": [
    "a=10\n",
    "print(\"even\" if a%2==0 else \"odd\")"
   ]
  },
  {
   "cell_type": "code",
   "execution_count": 17,
   "metadata": {},
   "outputs": [
    {
     "name": "stdout",
     "output_type": "stream",
     "text": [
      "odd\n"
     ]
    }
   ],
   "source": [
    "a=11\n",
    "print(\"even\" if a%2==0 else \"odd\")"
   ]
  },
  {
   "cell_type": "code",
   "execution_count": null,
   "metadata": {},
   "outputs": [],
   "source": []
  }
 ],
 "metadata": {
  "kernelspec": {
   "display_name": "Python 3",
   "language": "python",
   "name": "python3"
  },
  "language_info": {
   "codemirror_mode": {
    "name": "ipython",
    "version": 3
   },
   "file_extension": ".py",
   "mimetype": "text/x-python",
   "name": "python",
   "nbconvert_exporter": "python",
   "pygments_lexer": "ipython3",
   "version": "3.8.3"
  }
 },
 "nbformat": 4,
 "nbformat_minor": 4
}

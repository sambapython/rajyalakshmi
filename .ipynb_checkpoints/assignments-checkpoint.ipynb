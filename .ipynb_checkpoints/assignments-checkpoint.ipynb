{
 "cells": [
  {
   "cell_type": "code",
   "execution_count": 2,
   "metadata": {},
   "outputs": [
    {
     "data": {
      "text/plain": [
       "24"
      ]
     },
     "execution_count": 2,
     "metadata": {},
     "output_type": "execute_result"
    }
   ],
   "source": [
    "import math\n",
    "math.ceil(23.4)"
   ]
  },
  {
   "cell_type": "code",
   "execution_count": 3,
   "metadata": {},
   "outputs": [
    {
     "data": {
      "text/plain": [
       "24"
      ]
     },
     "execution_count": 3,
     "metadata": {},
     "output_type": "execute_result"
    }
   ],
   "source": [
    "import math\n",
    "math.ceil(23.1)"
   ]
  },
  {
   "cell_type": "code",
   "execution_count": null,
   "metadata": {},
   "outputs": [],
   "source": [
    "no_people = 255#int(input(\"enter number of people:\"))\n",
    "no_seats = 50#int(input(\"Enter number of seats per bus:\")) \n",
    "no_busses = 4#int(input(\"Enter number of busses:\"))\n",
    "adjust = 1#int(input(\"Enter howmny extra people can be adjust in bus:\"))\n",
    "total_number_seats = no_busses*no_seats\n",
    "extra_seats_required = no_people-total_number_seats\n",
    "extra_busses_need = 0\n",
    "if extra_seats_required>0:\n",
    "    no_people_can_adjust=no_busses*adjust\n",
    "    if extra_seats_required>no_people_can_adjust:\n",
    "        extra_busses_need = 1\n",
    "        \n",
    "        "
   ]
  }
 ],
 "metadata": {
  "kernelspec": {
   "display_name": "Python 3",
   "language": "python",
   "name": "python3"
  },
  "language_info": {
   "codemirror_mode": {
    "name": "ipython",
    "version": 3
   },
   "file_extension": ".py",
   "mimetype": "text/x-python",
   "name": "python",
   "nbconvert_exporter": "python",
   "pygments_lexer": "ipython3",
   "version": "3.8.3"
  }
 },
 "nbformat": 4,
 "nbformat_minor": 4
}

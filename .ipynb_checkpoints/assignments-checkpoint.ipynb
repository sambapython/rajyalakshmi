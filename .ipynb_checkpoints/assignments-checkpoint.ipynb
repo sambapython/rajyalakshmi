{
 "cells": [
  {
   "cell_type": "code",
   "execution_count": 2,
   "metadata": {},
   "outputs": [
    {
     "data": {
      "text/plain": [
       "24"
      ]
     },
     "execution_count": 2,
     "metadata": {},
     "output_type": "execute_result"
    }
   ],
   "source": [
    "import math\n",
    "math.ceil(23.4)"
   ]
  },
  {
   "cell_type": "code",
   "execution_count": 3,
   "metadata": {},
   "outputs": [
    {
     "data": {
      "text/plain": [
       "24"
      ]
     },
     "execution_count": 3,
     "metadata": {},
     "output_type": "execute_result"
    }
   ],
   "source": [
    "import math\n",
    "math.ceil(23.1)"
   ]
  },
  {
   "cell_type": "code",
   "execution_count": 1,
   "metadata": {},
   "outputs": [
    {
     "name": "stdout",
     "output_type": "stream",
     "text": [
      "1\n"
     ]
    }
   ],
   "source": [
    "no_people = 255#int(input(\"enter number of people:\"))\n",
    "no_seats = 50#int(input(\"Enter number of seats per bus:\")) \n",
    "no_busses = 4#int(input(\"Enter number of busses:\"))\n",
    "adjust = 1#int(input(\"Enter howmny extra people can be adjust in bus:\"))\n",
    "total_number_seats = no_busses*no_seats\n",
    "extra_seats_required = no_people-total_number_seats\n",
    "extra_busses_need = 0\n",
    "if extra_seats_required>0:\n",
    "    no_people_can_adjust=no_busses*adjust\n",
    "    if extra_seats_required>no_people_can_adjust:\n",
    "        extra_busses_need = 1\n",
    "print(extra_busses_need)\n",
    "        "
   ]
  },
  {
   "cell_type": "code",
   "execution_count": 9,
   "metadata": {},
   "outputs": [
    {
     "name": "stdout",
     "output_type": "stream",
     "text": [
      "47\n"
     ]
    }
   ],
   "source": [
    "no_people = 2565#int(input(\"enter number of people:\"))\n",
    "no_seats = 50#int(input(\"Enter number of seats per bus:\")) \n",
    "no_busses = 4#int(input(\"Enter number of busses:\"))\n",
    "adjust = 1#int(input(\"Enter howmny extra people can be adjust in bus:\"))\n",
    "total_number_seats = no_busses*no_seats\n",
    "extra_seats_required = no_people-total_number_seats # 2550-200\n",
    "extra_busses_need = 0\n",
    "remaining_people = 0\n",
    "if extra_seats_required>no_seats:\n",
    "    extra_busses_need = extra_seats_required//no_seats\n",
    "    filled_seats  = (extra_busses_need+no_busses)*no_seats\n",
    "    remaining_people=no_people-filled_seats\n",
    "expected_total_busses = extra_busses_need+no_busses\n",
    "adjusted_people = expected_total_busses*adjust\n",
    "if remaining_people>adjusted_people:\n",
    "    total_busses  = expected_total_busses+1\n",
    "else:\n",
    "    total_busses = expected_total_busses\n",
    "print(total_busses-no_busses)"
   ]
  },
  {
   "cell_type": "code",
   "execution_count": 10,
   "metadata": {},
   "outputs": [
    {
     "data": {
      "text/plain": [
       "2365"
      ]
     },
     "execution_count": 10,
     "metadata": {},
     "output_type": "execute_result"
    }
   ],
   "source": [
    "2565-200"
   ]
  },
  {
   "cell_type": "code",
   "execution_count": 11,
   "metadata": {},
   "outputs": [
    {
     "data": {
      "text/plain": [
       "47.3"
      ]
     },
     "execution_count": 11,
     "metadata": {},
     "output_type": "execute_result"
    }
   ],
   "source": [
    "2365/50"
   ]
  },
  {
   "cell_type": "code",
   "execution_count": 14,
   "metadata": {},
   "outputs": [
    {
     "data": {
      "text/plain": [
       "2350"
      ]
     },
     "execution_count": 14,
     "metadata": {},
     "output_type": "execute_result"
    }
   ],
   "source": [
    "47*50"
   ]
  },
  {
   "cell_type": "code",
   "execution_count": 15,
   "metadata": {},
   "outputs": [
    {
     "data": {
      "text/plain": [
       "15"
      ]
     },
     "execution_count": 15,
     "metadata": {},
     "output_type": "execute_result"
    }
   ],
   "source": [
    "2365-2350"
   ]
  },
  {
   "cell_type": "code",
   "execution_count": 16,
   "metadata": {},
   "outputs": [
    {
     "data": {
      "text/plain": [
       "51"
      ]
     },
     "execution_count": 16,
     "metadata": {},
     "output_type": "execute_result"
    }
   ],
   "source": [
    "47+4"
   ]
  },
  {
   "cell_type": "code",
   "execution_count": 17,
   "metadata": {},
   "outputs": [
    {
     "name": "stdout",
     "output_type": "stream",
     "text": [
      "0\n"
     ]
    }
   ],
   "source": [
    "no_people = 0#int(input(\"enter number of people:\"))\n",
    "no_seats = 50#int(input(\"Enter number of seats per bus:\")) \n",
    "no_busses = 4#int(input(\"Enter number of busses:\"))\n",
    "adjust = 1#int(input(\"Enter howmny extra people can be adjust in bus:\"))\n",
    "total_number_seats = no_busses*no_seats\n",
    "extra_seats_required = no_people-total_number_seats # 2550-200\n",
    "extra_busses_need = 0\n",
    "remaining_people = 0\n",
    "if extra_seats_required>no_seats:\n",
    "    extra_busses_need = extra_seats_required//no_seats\n",
    "    filled_seats  = (extra_busses_need+no_busses)*no_seats\n",
    "    remaining_people=no_people-filled_seats\n",
    "expected_total_busses = extra_busses_need+no_busses\n",
    "adjusted_people = expected_total_busses*adjust\n",
    "if remaining_people>adjusted_people:\n",
    "    total_busses  = expected_total_busses+1\n",
    "else:\n",
    "    total_busses = expected_total_busses\n",
    "print(total_busses-no_busses)"
   ]
  },
  {
   "cell_type": "code",
   "execution_count": 18,
   "metadata": {},
   "outputs": [
    {
     "name": "stdout",
     "output_type": "stream",
     "text": [
      "0\n"
     ]
    }
   ],
   "source": [
    "no_people = -20#int(input(\"enter number of people:\"))\n",
    "no_seats = 50#int(input(\"Enter number of seats per bus:\")) \n",
    "no_busses = 4#int(input(\"Enter number of busses:\"))\n",
    "adjust = 1#int(input(\"Enter howmny extra people can be adjust in bus:\"))\n",
    "total_number_seats = no_busses*no_seats\n",
    "extra_seats_required = no_people-total_number_seats # 2550-200\n",
    "extra_busses_need = 0\n",
    "remaining_people = 0\n",
    "if extra_seats_required>no_seats:\n",
    "    extra_busses_need = extra_seats_required//no_seats\n",
    "    filled_seats  = (extra_busses_need+no_busses)*no_seats\n",
    "    remaining_people=no_people-filled_seats\n",
    "expected_total_busses = extra_busses_need+no_busses\n",
    "adjusted_people = expected_total_busses*adjust\n",
    "if remaining_people>adjusted_people:\n",
    "    total_busses  = expected_total_busses+1\n",
    "else:\n",
    "    total_busses = expected_total_busses\n",
    "print(total_busses-no_busses)"
   ]
  },
  {
   "cell_type": "code",
   "execution_count": 19,
   "metadata": {},
   "outputs": [
    {
     "name": "stdout",
     "output_type": "stream",
     "text": [
      "40466870930930950953527\n"
     ]
    }
   ],
   "source": [
    "no_people = 2023343546546547547676587#int(input(\"enter number of people:\"))\n",
    "no_seats = 50#int(input(\"Enter number of seats per bus:\")) \n",
    "no_busses = 4#int(input(\"Enter number of busses:\"))\n",
    "adjust = 1#int(input(\"Enter howmny extra people can be adjust in bus:\"))\n",
    "total_number_seats = no_busses*no_seats\n",
    "extra_seats_required = no_people-total_number_seats # 2550-200\n",
    "extra_busses_need = 0\n",
    "remaining_people = 0\n",
    "if extra_seats_required>no_seats:\n",
    "    extra_busses_need = extra_seats_required//no_seats\n",
    "    filled_seats  = (extra_busses_need+no_busses)*no_seats\n",
    "    remaining_people=no_people-filled_seats\n",
    "expected_total_busses = extra_busses_need+no_busses\n",
    "adjusted_people = expected_total_busses*adjust\n",
    "if remaining_people>adjusted_people:\n",
    "    total_busses  = expected_total_busses+1\n",
    "else:\n",
    "    total_busses = expected_total_busses\n",
    "print(total_busses-no_busses)"
   ]
  },
  {
   "cell_type": "code",
   "execution_count": 1,
   "metadata": {},
   "outputs": [
    {
     "name": "stdout",
     "output_type": "stream",
     "text": [
      "it does not contains special symbols\n"
     ]
    }
   ],
   "source": [
    "s=\"python12\"\n",
    "if s:\n",
    "    if s.isalnum():\n",
    "        print(\"it does not contains special symbols\")\n",
    "    else:\n",
    "        print(\"it contains special symbols\")\n",
    "else:\n",
    "    print(\"please give valid string\")"
   ]
  },
  {
   "cell_type": "code",
   "execution_count": 2,
   "metadata": {},
   "outputs": [
    {
     "name": "stdout",
     "output_type": "stream",
     "text": [
      "it contains special symbols\n"
     ]
    }
   ],
   "source": [
    "s=\"python1#$2\"\n",
    "if s:\n",
    "    if s.isalnum():\n",
    "        print(\"it does not contains special symbols\")\n",
    "    else:\n",
    "        print(\"it contains special symbols\")\n",
    "else:\n",
    "    print(\"please give valid string\")"
   ]
  },
  {
   "cell_type": "code",
   "execution_count": 3,
   "metadata": {},
   "outputs": [
    {
     "name": "stdout",
     "output_type": "stream",
     "text": [
      "please give valid string\n"
     ]
    }
   ],
   "source": [
    "s=\"\"\n",
    "if s:\n",
    "    if s.isalnum():\n",
    "        print(\"it does not contains special symbols\")\n",
    "    else:\n",
    "        print(\"it contains special symbols\")\n",
    "else:\n",
    "    print(\"please give valid string\")"
   ]
  },
  {
   "cell_type": "code",
   "execution_count": 4,
   "metadata": {},
   "outputs": [
    {
     "data": {
      "text/plain": [
       "'APPLE;grape;APPLE;orange;apple;guva;apple'"
      ]
     },
     "execution_count": 4,
     "metadata": {},
     "output_type": "execute_result"
    }
   ],
   "source": [
    "s=\"apple;grape;apple;orange;apple;guva;apple\"\n",
    "n=2\n",
    "source=\"apple\"\n",
    "destination=\"APPLE\"\n",
    "s.replace(source,destination,2)\n"
   ]
  },
  {
   "cell_type": "code",
   "execution_count": 5,
   "metadata": {},
   "outputs": [
    {
     "data": {
      "text/plain": [
       "'apple;grape;apple;orange;APPLE;guva;APPLE'"
      ]
     },
     "execution_count": 5,
     "metadata": {},
     "output_type": "execute_result"
    }
   ],
   "source": [
    "s=\"apple;grape;apple;orange;apple;guva;apple\"\n",
    "n=2\n",
    "source=\"apple\"\n",
    "destination=\"APPLE\"\n",
    "destination.join(s.rsplit(source,n))\n"
   ]
  },
  {
   "cell_type": "code",
   "execution_count": null,
   "metadata": {},
   "outputs": [],
   "source": []
  }
 ],
 "metadata": {
  "kernelspec": {
   "display_name": "Python 3",
   "language": "python",
   "name": "python3"
  },
  "language_info": {
   "codemirror_mode": {
    "name": "ipython",
    "version": 3
   },
   "file_extension": ".py",
   "mimetype": "text/x-python",
   "name": "python",
   "nbconvert_exporter": "python",
   "pygments_lexer": "ipython3",
   "version": "3.8.3"
  }
 },
 "nbformat": 4,
 "nbformat_minor": 4
}

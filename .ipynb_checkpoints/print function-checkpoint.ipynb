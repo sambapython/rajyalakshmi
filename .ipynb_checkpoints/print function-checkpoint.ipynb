{
 "cells": [
  {
   "cell_type": "code",
   "execution_count": 1,
   "metadata": {},
   "outputs": [
    {
     "name": "stdout",
     "output_type": "stream",
     "text": [
      "hello\n",
      "hello\n"
     ]
    }
   ],
   "source": [
    "print(\"hello\")\n",
    "s=\"hello\"\n",
    "print(s)\n"
   ]
  },
  {
   "cell_type": "code",
   "execution_count": 3,
   "metadata": {},
   "outputs": [
    {
     "name": "stdout",
     "output_type": "stream",
     "text": [
      "10 20\n"
     ]
    }
   ],
   "source": [
    "a=10\n",
    "b=20\n",
    "print(a,b)"
   ]
  },
  {
   "cell_type": "code",
   "execution_count": 4,
   "metadata": {},
   "outputs": [
    {
     "ename": "NameError",
     "evalue": "name 'ab' is not defined",
     "output_type": "error",
     "traceback": [
      "\u001b[1;31m---------------------------------------------------------------------------\u001b[0m",
      "\u001b[1;31mNameError\u001b[0m                                 Traceback (most recent call last)",
      "\u001b[1;32m<ipython-input-4-5c40a2bbcd85>\u001b[0m in \u001b[0;36m<module>\u001b[1;34m\u001b[0m\n\u001b[0;32m      1\u001b[0m \u001b[0ma\u001b[0m\u001b[1;33m=\u001b[0m\u001b[1;36m10\u001b[0m\u001b[1;33m\u001b[0m\u001b[1;33m\u001b[0m\u001b[0m\n\u001b[0;32m      2\u001b[0m \u001b[0mb\u001b[0m\u001b[1;33m=\u001b[0m\u001b[1;36m20\u001b[0m\u001b[1;33m\u001b[0m\u001b[1;33m\u001b[0m\u001b[0m\n\u001b[1;32m----> 3\u001b[1;33m \u001b[0mprint\u001b[0m\u001b[1;33m(\u001b[0m\u001b[0mab\u001b[0m\u001b[1;33m)\u001b[0m\u001b[1;33m\u001b[0m\u001b[1;33m\u001b[0m\u001b[0m\n\u001b[0m",
      "\u001b[1;31mNameError\u001b[0m: name 'ab' is not defined"
     ]
    }
   ],
   "source": [
    "a=10\n",
    "b=20\n",
    "print(ab)"
   ]
  },
  {
   "cell_type": "code",
   "execution_count": 5,
   "metadata": {},
   "outputs": [
    {
     "name": "stdout",
     "output_type": "stream",
     "text": [
      "1020\n"
     ]
    }
   ],
   "source": [
    "a=10\n",
    "b=20\n",
    "print(a,b,sep=\"\")"
   ]
  },
  {
   "cell_type": "code",
   "execution_count": 6,
   "metadata": {},
   "outputs": [
    {
     "name": "stdout",
     "output_type": "stream",
     "text": [
      "pytohnprogram\n",
      "pytohn program\n"
     ]
    }
   ],
   "source": [
    "a=\"pytohn\"\n",
    "b=\"program\"\n",
    "print(a,b,sep=\"\")\n",
    "print(a,b)"
   ]
  },
  {
   "cell_type": "code",
   "execution_count": 7,
   "metadata": {},
   "outputs": [
    {
     "name": "stdout",
     "output_type": "stream",
     "text": [
      "10 20\n"
     ]
    }
   ],
   "source": [
    "a=10\n",
    "b=20\n",
    "print(a,b)\n"
   ]
  },
  {
   "cell_type": "code",
   "execution_count": 8,
   "metadata": {},
   "outputs": [
    {
     "name": "stdout",
     "output_type": "stream",
     "text": [
      "10\n",
      "20\n"
     ]
    }
   ],
   "source": [
    "a=10\n",
    "b=20\n",
    "print(a)\n",
    "print(b)"
   ]
  },
  {
   "cell_type": "code",
   "execution_count": 9,
   "metadata": {},
   "outputs": [
    {
     "name": "stdout",
     "output_type": "stream",
     "text": [
      "10,20\n"
     ]
    }
   ],
   "source": [
    "a=10\n",
    "b=20\n",
    "print(a,end=\",\")\n",
    "print(b)"
   ]
  },
  {
   "cell_type": "code",
   "execution_count": 10,
   "metadata": {},
   "outputs": [
    {
     "name": "stdout",
     "output_type": "stream",
     "text": [
      "India won the match over england.\n",
      "MLC elections are compled in TS.\n"
     ]
    }
   ],
   "source": [
    "s=\"India won the match over england.\"\n",
    "s1=\"MLC elections are compled in TS.\"\n",
    "print(s)\n",
    "print(s1)"
   ]
  },
  {
   "cell_type": "code",
   "execution_count": 11,
   "metadata": {},
   "outputs": [
    {
     "name": "stdout",
     "output_type": "stream",
     "text": [
      "India won the match over england. MLC elections are compled in TS.\n"
     ]
    }
   ],
   "source": [
    "s=\"India won the match over england.\"\n",
    "s1=\"MLC elections are compled in TS.\"\n",
    "print(s,s1)"
   ]
  },
  {
   "cell_type": "code",
   "execution_count": 12,
   "metadata": {},
   "outputs": [
    {
     "name": "stdout",
     "output_type": "stream",
     "text": [
      "India won the match over england. \n",
      " MLC elections are compled in TS.\n"
     ]
    }
   ],
   "source": [
    "s=\"India won the match over england.\"\n",
    "s1=\"MLC elections are compled in TS.\"\n",
    "print(s,\"\\n\",s1)"
   ]
  },
  {
   "cell_type": "code",
   "execution_count": 13,
   "metadata": {},
   "outputs": [
    {
     "name": "stdout",
     "output_type": "stream",
     "text": [
      "\n",
      "\n"
     ]
    }
   ],
   "source": [
    "print(\"\\n\")"
   ]
  },
  {
   "cell_type": "code",
   "execution_count": 14,
   "metadata": {},
   "outputs": [
    {
     "name": "stdout",
     "output_type": "stream",
     "text": [
      "India won the match over england.\n",
      "MLC elections are compled in TS.\n"
     ]
    }
   ],
   "source": [
    "s=\"India won the match over england.\"\n",
    "s1=\"MLC elections are compled in TS.\"\n",
    "print(s+\"\\n\"+s1)"
   ]
  },
  {
   "cell_type": "code",
   "execution_count": 15,
   "metadata": {},
   "outputs": [
    {
     "name": "stdout",
     "output_type": "stream",
     "text": [
      "sdfsdfsd\tsdfsdf\n"
     ]
    }
   ],
   "source": [
    "print(\"sdfsdfsd\\tsdfsdf\")"
   ]
  },
  {
   "cell_type": "code",
   "execution_count": 16,
   "metadata": {},
   "outputs": [
    {
     "name": "stdout",
     "output_type": "stream",
     "text": [
      "\n",
      "\n"
     ]
    }
   ],
   "source": [
    "print(\"\\n\")"
   ]
  },
  {
   "cell_type": "code",
   "execution_count": 17,
   "metadata": {},
   "outputs": [
    {
     "name": "stdout",
     "output_type": "stream",
     "text": [
      "\t\n"
     ]
    }
   ],
   "source": [
    "print(\"\\t\")"
   ]
  },
  {
   "cell_type": "code",
   "execution_count": 18,
   "metadata": {},
   "outputs": [
    {
     "name": "stdout",
     "output_type": "stream",
     "text": [
      "\\n\n"
     ]
    }
   ],
   "source": [
    "print(\"\\\\n\")"
   ]
  },
  {
   "cell_type": "code",
   "execution_count": 19,
   "metadata": {},
   "outputs": [
    {
     "name": "stdout",
     "output_type": "stream",
     "text": [
      "\\t\n"
     ]
    }
   ],
   "source": [
    "print(\"\\\\t\")"
   ]
  },
  {
   "cell_type": "code",
   "execution_count": 20,
   "metadata": {},
   "outputs": [
    {
     "name": "stdout",
     "output_type": "stream",
     "text": [
      "sdfsdfsd\n",
      "sfds\n",
      "sdfsdfsd\n",
      "sdfsdf\n",
      "sdfsd\n",
      "\n"
     ]
    }
   ],
   "source": [
    "s=\"sdfsdfsd\\nsfds\\nsdfsdfsd\\nsdfsdf\\nsdfsd\\n\"\n",
    "print(s)"
   ]
  },
  {
   "cell_type": "code",
   "execution_count": 21,
   "metadata": {},
   "outputs": [
    {
     "name": "stdout",
     "output_type": "stream",
     "text": [
      "sdfsdfsd\\nsfds\\nsdfsdfsd\\nsdfsdf\\nsdfsd\\n\n"
     ]
    }
   ],
   "source": [
    "s=\"sdfsdfsd\\\\nsfds\\\\nsdfsdfsd\\\\nsdfsdf\\\\nsdfsd\\\\n\"\n",
    "print(s)"
   ]
  },
  {
   "cell_type": "code",
   "execution_count": 22,
   "metadata": {},
   "outputs": [
    {
     "name": "stdout",
     "output_type": "stream",
     "text": [
      "sdfsdfsd\\nsfds\\nsdfsdfsd\\nsdfsdf\\nsdfsd\\n\n"
     ]
    }
   ],
   "source": [
    "s=r\"sdfsdfsd\\nsfds\\nsdfsdfsd\\nsdfsdf\\nsdfsd\\n\"\n",
    "print(s)"
   ]
  },
  {
   "cell_type": "code",
   "execution_count": 24,
   "metadata": {},
   "outputs": [
    {
     "name": "stdout",
     "output_type": "stream",
     "text": [
      "jay is living in hyd area and he is 4 years old\n"
     ]
    }
   ],
   "source": [
    "#name:jay, age:4, are: hyd\n",
    "# jay is living in hyd area and he is 4 years old\n",
    "name=\"jay\"\n",
    "age=4\n",
    "area=\"hyd\"\n",
    "print(name,\"is living in\",area,\"area and he is\",age,\"years old\")"
   ]
  },
  {
   "cell_type": "code",
   "execution_count": 2,
   "metadata": {},
   "outputs": [
    {
     "name": "stdout",
     "output_type": "stream",
     "text": [
      "The person name: jay Age: 4 Area: hyd\n"
     ]
    }
   ],
   "source": [
    "#name:jay, age:4, are: hyd\n",
    "# The person name:jay, Age:4, Area:hyd\n",
    "name=\"jay\"\n",
    "age=4\n",
    "area=\"hyd\"\n",
    "print(\"The person name:\",name,\"Age:\",age,\"Area:\",area)"
   ]
  },
  {
   "cell_type": "code",
   "execution_count": 3,
   "metadata": {},
   "outputs": [
    {
     "ename": "TypeError",
     "evalue": "can only concatenate str (not \"int\") to str",
     "output_type": "error",
     "traceback": [
      "\u001b[1;31m---------------------------------------------------------------------------\u001b[0m",
      "\u001b[1;31mTypeError\u001b[0m                                 Traceback (most recent call last)",
      "\u001b[1;32m<ipython-input-3-21658cfa2894>\u001b[0m in \u001b[0;36m<module>\u001b[1;34m\u001b[0m\n\u001b[0;32m      4\u001b[0m \u001b[0mage\u001b[0m\u001b[1;33m=\u001b[0m\u001b[1;36m4\u001b[0m\u001b[1;33m\u001b[0m\u001b[1;33m\u001b[0m\u001b[0m\n\u001b[0;32m      5\u001b[0m \u001b[0marea\u001b[0m\u001b[1;33m=\u001b[0m\u001b[1;34m\"hyd\"\u001b[0m\u001b[1;33m\u001b[0m\u001b[1;33m\u001b[0m\u001b[0m\n\u001b[1;32m----> 6\u001b[1;33m \u001b[0mprint\u001b[0m\u001b[1;33m(\u001b[0m\u001b[1;34m\"The person name:\"\u001b[0m\u001b[1;33m+\u001b[0m\u001b[0mname\u001b[0m\u001b[1;33m,\u001b[0m\u001b[1;34m\"Age:\"\u001b[0m\u001b[1;33m+\u001b[0m\u001b[0mage\u001b[0m\u001b[1;33m,\u001b[0m\u001b[1;34m\"Area:\"\u001b[0m\u001b[1;33m+\u001b[0m\u001b[0marea\u001b[0m\u001b[1;33m)\u001b[0m\u001b[1;33m\u001b[0m\u001b[1;33m\u001b[0m\u001b[0m\n\u001b[0m",
      "\u001b[1;31mTypeError\u001b[0m: can only concatenate str (not \"int\") to str"
     ]
    }
   ],
   "source": [
    "#name:jay, age:4, are: hyd\n",
    "# The person name:jay, Age:4, Area:hyd\n",
    "name=\"jay\"\n",
    "age=4\n",
    "area=\"hyd\"\n",
    "print(\"The person name:\"+name,\"Age:\"+age,\"Area:\"+area)"
   ]
  },
  {
   "cell_type": "code",
   "execution_count": 4,
   "metadata": {},
   "outputs": [
    {
     "name": "stdout",
     "output_type": "stream",
     "text": [
      "The person name:jay Age:4 Area:hyd\n"
     ]
    }
   ],
   "source": [
    "#name:jay, age:4, are: hyd\n",
    "# The person name:jay, Age:4, Area:hyd\n",
    "name=\"jay\"\n",
    "age=4\n",
    "area=\"hyd\"\n",
    "print(\"The person name:\"+name,\"Age:\"+str(age),\"Area:\"+area)"
   ]
  },
  {
   "cell_type": "code",
   "execution_count": 5,
   "metadata": {},
   "outputs": [
    {
     "name": "stdout",
     "output_type": "stream",
     "text": [
      "The person name:%s, Age:%s, Area:%s ('jay', 4, 'hyd')\n"
     ]
    }
   ],
   "source": [
    "#name:jay, age:4, are: hyd\n",
    "# The person name:jay, Age:4, Area:hyd\n",
    "name=\"jay\"\n",
    "age=4\n",
    "area=\"hyd\"\n",
    "print(\"The person name:%s, Age:%s, Area:%s\",(name,age,area))"
   ]
  },
  {
   "cell_type": "code",
   "execution_count": 6,
   "metadata": {},
   "outputs": [
    {
     "name": "stdout",
     "output_type": "stream",
     "text": [
      "The person name:jay, Age:4, Area:hyd\n"
     ]
    }
   ],
   "source": [
    "#name:jay, age:4, are: hyd\n",
    "# The person name:jay, Age:4, Area:hyd\n",
    "name=\"jay\"\n",
    "age=4\n",
    "area=\"hyd\"\n",
    "print(\"The person name:%s, Age:%s, Area:%s\"%(name,age,area))"
   ]
  },
  {
   "cell_type": "code",
   "execution_count": 7,
   "metadata": {},
   "outputs": [
    {
     "name": "stdout",
     "output_type": "stream",
     "text": [
      "The person name:jay, Age:4.23, Area:hyd\n"
     ]
    }
   ],
   "source": [
    "#name:jay, age:4, are: hyd\n",
    "# The person name:jay, Age:4, Area:hyd\n",
    "name=\"jay\"\n",
    "age=4.23\n",
    "area=\"hyd\"\n",
    "print(\"The person name:%s, Age:%s, Area:%s\"%(name,age,area))"
   ]
  },
  {
   "cell_type": "code",
   "execution_count": 8,
   "metadata": {},
   "outputs": [
    {
     "name": "stdout",
     "output_type": "stream",
     "text": [
      "The person name:jay, Age:4, Area:hyd\n"
     ]
    }
   ],
   "source": [
    "#name:jay, age:4, are: hyd\n",
    "# The person name:jay, Age:4, Area:hyd\n",
    "name=\"jay\"\n",
    "age=4.23\n",
    "area=\"hyd\"\n",
    "print(\"The person name:%s, Age:%s, Area:%s\"%(name,int(age),area))"
   ]
  },
  {
   "cell_type": "code",
   "execution_count": 9,
   "metadata": {},
   "outputs": [
    {
     "name": "stdout",
     "output_type": "stream",
     "text": [
      "The person name:jay, Age:4, Area:hyd\n"
     ]
    }
   ],
   "source": [
    "#name:jay, age:4, are: hyd\n",
    "# The person name:jay, Age:4, Area:hyd\n",
    "name=\"jay\"\n",
    "age=4.23\n",
    "area=\"hyd\"\n",
    "print(\"The person name:%s, Age:%d, Area:%s\"%(name,age,area))"
   ]
  },
  {
   "cell_type": "code",
   "execution_count": 11,
   "metadata": {},
   "outputs": [
    {
     "name": "stdout",
     "output_type": "stream",
     "text": [
      "sfsd\n",
      "sdfdsf\n",
      "sdfds\n",
      "sdfds\n",
      "\tsdfkls;dfk\n"
     ]
    }
   ],
   "source": [
    "s=\"sfsd\\nsdfdsf\\nsdfds\\nsdfds\\n\\tsdfkls;dfk\"\n",
    "print(s)"
   ]
  },
  {
   "cell_type": "code",
   "execution_count": 12,
   "metadata": {},
   "outputs": [
    {
     "name": "stdout",
     "output_type": "stream",
     "text": [
      "sfsd\\nsdfdsf\\nsdfds\\nsdfds\\n\\tsdfkls;dfk\n"
     ]
    }
   ],
   "source": [
    "s=r\"sfsd\\nsdfdsf\\nsdfds\\nsdfds\\n\\tsdfkls;dfk\"\n",
    "print(s)"
   ]
  },
  {
   "cell_type": "code",
   "execution_count": 13,
   "metadata": {},
   "outputs": [
    {
     "name": "stdout",
     "output_type": "stream",
     "text": [
      "'sfsd\\nsdfdsf\\nsdfds\\nsdfds\\n\\tsdfkls;dfk'\n"
     ]
    }
   ],
   "source": [
    "s=\"sfsd\\nsdfdsf\\nsdfds\\nsdfds\\n\\tsdfkls;dfk\"\n",
    "print(\"%r\"%s)"
   ]
  },
  {
   "cell_type": "code",
   "execution_count": 14,
   "metadata": {},
   "outputs": [
    {
     "name": "stdout",
     "output_type": "stream",
     "text": [
      "The value of the good:12\n"
     ]
    }
   ],
   "source": [
    "costprice=12.345678\n",
    "print(\"The value of the good:%d\"%costpricece)"
   ]
  },
  {
   "cell_type": "code",
   "execution_count": 17,
   "metadata": {},
   "outputs": [
    {
     "name": "stdout",
     "output_type": "stream",
     "text": [
      "The value of the good:12.345679\n"
     ]
    }
   ],
   "source": [
    "costprice=12.34567853454\n",
    "print(\"The value of the good:%f\"%costprice)"
   ]
  },
  {
   "cell_type": "code",
   "execution_count": 18,
   "metadata": {},
   "outputs": [
    {
     "name": "stdout",
     "output_type": "stream",
     "text": [
      "The value of the good:12.346\n"
     ]
    }
   ],
   "source": [
    "costprice=12.34567853454\n",
    "print(\"The value of the good:%.3f\"%costprice)"
   ]
  },
  {
   "cell_type": "code",
   "execution_count": 19,
   "metadata": {},
   "outputs": [
    {
     "name": "stdout",
     "output_type": "stream",
     "text": [
      "The value of the good:12.35\n"
     ]
    }
   ],
   "source": [
    "costprice=12.34567853454\n",
    "print(\"The value of the good:%.2f\"%costprice)"
   ]
  },
  {
   "cell_type": "code",
   "execution_count": 20,
   "metadata": {},
   "outputs": [
    {
     "name": "stdout",
     "output_type": "stream",
     "text": [
      "The person name:jay, Age:4.23, Area:hyd\n"
     ]
    }
   ],
   "source": [
    "# template strings..\n",
    "#name:jay, age:4, are: hyd\n",
    "# The person name:jay, Age:4, Area:hyd\n",
    "name=\"jay\"\n",
    "age=4.23\n",
    "area=\"hyd\"\n",
    "print(f\"The person name:{name}, Age:{age}, Area:{area}\")"
   ]
  },
  {
   "cell_type": "code",
   "execution_count": 21,
   "metadata": {},
   "outputs": [
    {
     "name": "stdout",
     "output_type": "stream",
     "text": [
      "The person name:jay, Age:4, Area:hyd\n"
     ]
    }
   ],
   "source": [
    "# template strings..\n",
    "#name:jay, age:4, are: hyd\n",
    "# The person name:jay, Age:4, Area:hyd\n",
    "name=\"jay\"\n",
    "age=4.23\n",
    "area=\"hyd\"\n",
    "print(f\"The person name:{name}, Age:{int(age)}, Area:{area}\")"
   ]
  },
  {
   "cell_type": "code",
   "execution_count": 23,
   "metadata": {},
   "outputs": [
    {
     "name": "stdout",
     "output_type": "stream",
     "text": [
      "The person name:jay, Age:4.230000, Area:hyd\n"
     ]
    }
   ],
   "source": [
    "# template strings..\n",
    "#name:jay, age:4, are: hyd\n",
    "# The person name:jay, Age:4, Area:hyd\n",
    "name=\"jay\"\n",
    "age=4.23\n",
    "area=\"hyd\"\n",
    "print(f\"The person name:{name}, Age:{age:f}, Area:{area}\")"
   ]
  },
  {
   "cell_type": "code",
   "execution_count": 25,
   "metadata": {},
   "outputs": [
    {
     "name": "stdout",
     "output_type": "stream",
     "text": [
      "The person name:jay, Age:4.23, Area:hyd\n"
     ]
    }
   ],
   "source": [
    "# template strings..\n",
    "#name:jay, age:4, are: hyd\n",
    "# The person name:jay, Age:4, Area:hyd\n",
    "name=\"jay\"\n",
    "age=4.2323342\n",
    "area=\"hyd\"\n",
    "print(f\"The person name:{name}, Age:{age:.2f}, Area:{area}\")"
   ]
  },
  {
   "cell_type": "code",
   "execution_count": null,
   "metadata": {},
   "outputs": [],
   "source": []
  }
 ],
 "metadata": {
  "kernelspec": {
   "display_name": "Python 3",
   "language": "python",
   "name": "python3"
  },
  "language_info": {
   "codemirror_mode": {
    "name": "ipython",
    "version": 3
   },
   "file_extension": ".py",
   "mimetype": "text/x-python",
   "name": "python",
   "nbconvert_exporter": "python",
   "pygments_lexer": "ipython3",
   "version": "3.8.3"
  }
 },
 "nbformat": 4,
 "nbformat_minor": 4
}

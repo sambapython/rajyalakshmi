{
 "cells": [
  {
   "cell_type": "code",
   "execution_count": 1,
   "metadata": {},
   "outputs": [
    {
     "name": "stdout",
     "output_type": "stream",
     "text": [
      "p\n",
      "y\n",
      "t\n",
      "h\n",
      "o\n",
      "n\n"
     ]
    }
   ],
   "source": [
    "s=\"python\"\n",
    "print(s[0])\n",
    "print(s[1])\n",
    "print(s[2])\n",
    "print(s[3])\n",
    "print(s[4])\n",
    "print(s[5])"
   ]
  },
  {
   "cell_type": "code",
   "execution_count": 2,
   "metadata": {},
   "outputs": [
    {
     "name": "stdout",
     "output_type": "stream",
     "text": [
      "10\n",
      "1\n",
      "3\n",
      "20\n",
      "4\n",
      "67\n"
     ]
    }
   ],
   "source": [
    "s=[10,1,3,20,4,67]\n",
    "print(s[0])\n",
    "print(s[1])\n",
    "print(s[2])\n",
    "print(s[3])\n",
    "print(s[4])\n",
    "print(s[5])"
   ]
  },
  {
   "cell_type": "code",
   "execution_count": 3,
   "metadata": {},
   "outputs": [
    {
     "name": "stdout",
     "output_type": "stream",
     "text": [
      "10\n",
      "20\n",
      "30\n",
      "40\n",
      "50\n",
      "60\n"
     ]
    }
   ],
   "source": [
    "s=(10,20,30,40,50,60)\n",
    "print(s[0])\n",
    "print(s[1])\n",
    "print(s[2])\n",
    "print(s[3])\n",
    "print(s[4])\n",
    "print(s[5])"
   ]
  },
  {
   "cell_type": "code",
   "execution_count": 4,
   "metadata": {},
   "outputs": [
    {
     "name": "stdout",
     "output_type": "stream",
     "text": [
      "program started.\n",
      "iteration started\n",
      "p\n",
      "iteration ended\n",
      "iteration started\n",
      "y\n",
      "iteration ended\n",
      "iteration started\n",
      "t\n",
      "iteration ended\n",
      "iteration started\n",
      "h\n",
      "iteration ended\n",
      "iteration started\n",
      "o\n",
      "iteration ended\n",
      "iteration started\n",
      "n\n",
      "iteration ended\n",
      "iteration started\n",
      " \n",
      "iteration ended\n",
      "iteration started\n",
      "p\n",
      "iteration ended\n",
      "iteration started\n",
      "r\n",
      "iteration ended\n",
      "iteration started\n",
      "o\n",
      "iteration ended\n",
      "iteration started\n",
      "g\n",
      "iteration ended\n",
      "iteration started\n",
      "r\n",
      "iteration ended\n",
      "iteration started\n",
      "a\n",
      "iteration ended\n",
      "iteration started\n",
      "m\n",
      "iteration ended\n",
      "program ended.\n"
     ]
    }
   ],
   "source": [
    "print(\"program started.\")\n",
    "s=\"python program\" # list, tuple, dictionary, set\n",
    "for i in s:\n",
    "    print(\"iteration started\")\n",
    "    print(i)\n",
    "    print(\"iteration ended\")\n",
    "print(\"program ended.\")"
   ]
  },
  {
   "cell_type": "code",
   "execution_count": 1,
   "metadata": {},
   "outputs": [
    {
     "ename": "TypeError",
     "evalue": "'int' object is not iterable",
     "output_type": "error",
     "traceback": [
      "\u001b[1;31m---------------------------------------------------------------------------\u001b[0m",
      "\u001b[1;31mTypeError\u001b[0m                                 Traceback (most recent call last)",
      "\u001b[1;32m<ipython-input-1-665a8c31cf25>\u001b[0m in \u001b[0;36m<module>\u001b[1;34m\u001b[0m\n\u001b[1;32m----> 1\u001b[1;33m \u001b[1;32mfor\u001b[0m \u001b[0mi\u001b[0m \u001b[1;32min\u001b[0m \u001b[1;36m10\u001b[0m\u001b[1;33m:\u001b[0m\u001b[1;33m\u001b[0m\u001b[1;33m\u001b[0m\u001b[0m\n\u001b[0m\u001b[0;32m      2\u001b[0m     \u001b[0mprint\u001b[0m\u001b[1;33m(\u001b[0m\u001b[0mi\u001b[0m\u001b[1;33m)\u001b[0m\u001b[1;33m\u001b[0m\u001b[1;33m\u001b[0m\u001b[0m\n",
      "\u001b[1;31mTypeError\u001b[0m: 'int' object is not iterable"
     ]
    }
   ],
   "source": [
    "for i in 10:\n",
    "    print(i)"
   ]
  },
  {
   "cell_type": "code",
   "execution_count": 2,
   "metadata": {},
   "outputs": [
    {
     "ename": "TypeError",
     "evalue": "'bool' object is not iterable",
     "output_type": "error",
     "traceback": [
      "\u001b[1;31m---------------------------------------------------------------------------\u001b[0m",
      "\u001b[1;31mTypeError\u001b[0m                                 Traceback (most recent call last)",
      "\u001b[1;32m<ipython-input-2-425af1773ecf>\u001b[0m in \u001b[0;36m<module>\u001b[1;34m\u001b[0m\n\u001b[1;32m----> 1\u001b[1;33m \u001b[1;32mfor\u001b[0m \u001b[0mi\u001b[0m \u001b[1;32min\u001b[0m \u001b[1;32mTrue\u001b[0m\u001b[1;33m:\u001b[0m\u001b[1;33m\u001b[0m\u001b[1;33m\u001b[0m\u001b[0m\n\u001b[0m\u001b[0;32m      2\u001b[0m     \u001b[0mprint\u001b[0m\u001b[1;33m(\u001b[0m\u001b[0mi\u001b[0m\u001b[1;33m)\u001b[0m\u001b[1;33m\u001b[0m\u001b[1;33m\u001b[0m\u001b[0m\n",
      "\u001b[1;31mTypeError\u001b[0m: 'bool' object is not iterable"
     ]
    }
   ],
   "source": [
    "for i in True:\n",
    "    print(i)"
   ]
  },
  {
   "cell_type": "code",
   "execution_count": 3,
   "metadata": {},
   "outputs": [
    {
     "ename": "TypeError",
     "evalue": "'NoneType' object is not iterable",
     "output_type": "error",
     "traceback": [
      "\u001b[1;31m---------------------------------------------------------------------------\u001b[0m",
      "\u001b[1;31mTypeError\u001b[0m                                 Traceback (most recent call last)",
      "\u001b[1;32m<ipython-input-3-e311f29bb25f>\u001b[0m in \u001b[0;36m<module>\u001b[1;34m\u001b[0m\n\u001b[1;32m----> 1\u001b[1;33m \u001b[1;32mfor\u001b[0m \u001b[0mi\u001b[0m \u001b[1;32min\u001b[0m \u001b[1;32mNone\u001b[0m\u001b[1;33m:\u001b[0m\u001b[1;33m\u001b[0m\u001b[1;33m\u001b[0m\u001b[0m\n\u001b[0m\u001b[0;32m      2\u001b[0m     \u001b[0mprint\u001b[0m\u001b[1;33m(\u001b[0m\u001b[0mi\u001b[0m\u001b[1;33m)\u001b[0m\u001b[1;33m\u001b[0m\u001b[1;33m\u001b[0m\u001b[0m\n",
      "\u001b[1;31mTypeError\u001b[0m: 'NoneType' object is not iterable"
     ]
    }
   ],
   "source": [
    "for i in None:\n",
    "    print(i)"
   ]
  },
  {
   "cell_type": "code",
   "execution_count": 4,
   "metadata": {},
   "outputs": [
    {
     "name": "stdout",
     "output_type": "stream",
     "text": [
      "program started\n",
      "0\n",
      "hello\n",
      "program ended\n"
     ]
    }
   ],
   "source": [
    "print(\"program started\")\n",
    "i=0\n",
    "if i<10:\n",
    "    print(i)\n",
    "    print(\"hello\")\n",
    "    i=i+1\n",
    "print(\"program ended\")"
   ]
  },
  {
   "cell_type": "code",
   "execution_count": 5,
   "metadata": {},
   "outputs": [
    {
     "name": "stdout",
     "output_type": "stream",
     "text": [
      "program started\n",
      "0\n",
      "hello\n",
      "1\n",
      "hello\n",
      "2\n",
      "hello\n",
      "3\n",
      "hello\n",
      "4\n",
      "hello\n",
      "5\n",
      "hello\n",
      "6\n",
      "hello\n",
      "7\n",
      "hello\n",
      "8\n",
      "hello\n",
      "9\n",
      "hello\n",
      "program ended\n"
     ]
    }
   ],
   "source": [
    "print(\"program started\")\n",
    "i=0\n",
    "while i<10:\n",
    "    print(i)\n",
    "    print(\"hello\")\n",
    "    i=i+1\n",
    "print(\"program ended\")"
   ]
  },
  {
   "cell_type": "code",
   "execution_count": 6,
   "metadata": {},
   "outputs": [
    {
     "name": "stdout",
     "output_type": "stream",
     "text": [
      "12:even\n",
      "34:even\n",
      "56:even\n",
      "57:odd\n",
      "59:odd\n",
      "35:odd\n",
      "36:even\n"
     ]
    }
   ],
   "source": [
    "l=[12,34,56,57,59,35,36]\n",
    "#12:even\n",
    "#34:even\n",
    "#56:even\n",
    "#57:odd\n",
    "for i in l:\n",
    "    if i%2==0:\n",
    "        print(\"%s:even\"%i)\n",
    "    else:\n",
    "        print(\"%s:odd\"%i)\n"
   ]
  },
  {
   "cell_type": "code",
   "execution_count": 7,
   "metadata": {},
   "outputs": [
    {
     "name": "stdout",
     "output_type": "stream",
     "text": [
      "12:even\n",
      "34:even\n",
      "56:even\n",
      "57:odd\n",
      "59:odd\n",
      "35:odd\n",
      "36:even\n"
     ]
    },
    {
     "ename": "TypeError",
     "evalue": "not all arguments converted during string formatting",
     "output_type": "error",
     "traceback": [
      "\u001b[1;31m---------------------------------------------------------------------------\u001b[0m",
      "\u001b[1;31mTypeError\u001b[0m                                 Traceback (most recent call last)",
      "\u001b[1;32m<ipython-input-7-46a9e08ba4c4>\u001b[0m in \u001b[0;36m<module>\u001b[1;34m\u001b[0m\n\u001b[0;32m      5\u001b[0m \u001b[1;31m#57:odd\u001b[0m\u001b[1;33m\u001b[0m\u001b[1;33m\u001b[0m\u001b[1;33m\u001b[0m\u001b[0m\n\u001b[0;32m      6\u001b[0m \u001b[1;32mfor\u001b[0m \u001b[0mi\u001b[0m \u001b[1;32min\u001b[0m \u001b[0ml\u001b[0m\u001b[1;33m:\u001b[0m\u001b[1;33m\u001b[0m\u001b[1;33m\u001b[0m\u001b[0m\n\u001b[1;32m----> 7\u001b[1;33m     \u001b[1;32mif\u001b[0m \u001b[0mi\u001b[0m\u001b[1;33m%\u001b[0m\u001b[1;36m2\u001b[0m\u001b[1;33m==\u001b[0m\u001b[1;36m0\u001b[0m\u001b[1;33m:\u001b[0m\u001b[1;33m\u001b[0m\u001b[1;33m\u001b[0m\u001b[0m\n\u001b[0m\u001b[0;32m      8\u001b[0m         \u001b[0mprint\u001b[0m\u001b[1;33m(\u001b[0m\u001b[1;34m\"%s:even\"\u001b[0m\u001b[1;33m%\u001b[0m\u001b[0mi\u001b[0m\u001b[1;33m)\u001b[0m\u001b[1;33m\u001b[0m\u001b[1;33m\u001b[0m\u001b[0m\n\u001b[0;32m      9\u001b[0m     \u001b[1;32melse\u001b[0m\u001b[1;33m:\u001b[0m\u001b[1;33m\u001b[0m\u001b[1;33m\u001b[0m\u001b[0m\n",
      "\u001b[1;31mTypeError\u001b[0m: not all arguments converted during string formatting"
     ]
    }
   ],
   "source": [
    "l=[12,34,56,57,59,35,36,\"python\"]\n",
    "#12:even\n",
    "#34:even\n",
    "#56:even\n",
    "#57:odd\n",
    "for i in l:\n",
    "    if i%2==0:\n",
    "        print(\"%s:even\"%i)\n",
    "    else:\n",
    "        print(\"%s:odd\"%i)\n"
   ]
  },
  {
   "cell_type": "code",
   "execution_count": 8,
   "metadata": {},
   "outputs": [
    {
     "data": {
      "text/plain": [
       "True"
      ]
     },
     "execution_count": 8,
     "metadata": {},
     "output_type": "execute_result"
    }
   ],
   "source": [
    "isinstance(10,int)"
   ]
  },
  {
   "cell_type": "code",
   "execution_count": 9,
   "metadata": {},
   "outputs": [
    {
     "data": {
      "text/plain": [
       "False"
      ]
     },
     "execution_count": 9,
     "metadata": {},
     "output_type": "execute_result"
    }
   ],
   "source": [
    "isinstance(\"python\",int)"
   ]
  },
  {
   "cell_type": "code",
   "execution_count": 10,
   "metadata": {},
   "outputs": [
    {
     "name": "stdout",
     "output_type": "stream",
     "text": [
      "12:even\n",
      "34:even\n",
      "56:even\n",
      "57:odd\n",
      "59:odd\n",
      "35:odd\n",
      "36:even\n",
      "python: we could not process\n"
     ]
    }
   ],
   "source": [
    "l=[12,34,56,57,59,35,36,\"python\"]\n",
    "for i in l:\n",
    "    if isinstance(i, int):\n",
    "        if i%2==0:\n",
    "            print(\"%s:even\"%i)\n",
    "        else:\n",
    "            print(\"%s:odd\"%i)\n",
    "    else:\n",
    "        print(\"%s: we could not process\" % i)\n"
   ]
  },
  {
   "cell_type": "code",
   "execution_count": 11,
   "metadata": {},
   "outputs": [
    {
     "name": "stdout",
     "output_type": "stream",
     "text": [
      "12:even\n",
      "34:even\n",
      "56:even\n",
      "(1+2j): we could not process\n",
      "None: we could not process\n",
      "True:odd\n",
      "57:odd\n",
      "59:odd\n",
      "35:odd\n",
      "36:even\n",
      "python: we could not process\n"
     ]
    }
   ],
   "source": [
    "l=[12,34,56,1+2j,None, True,57,59,35,36,\"python\"]\n",
    "for i in l:\n",
    "    if isinstance(i, int):\n",
    "        if i%2==0:\n",
    "            print(\"%s:even\"%i)\n",
    "        else:\n",
    "            print(\"%s:odd\"%i)\n",
    "    else:\n",
    "        print(\"%s: we could not process\" % i)\n"
   ]
  },
  {
   "cell_type": "code",
   "execution_count": 12,
   "metadata": {},
   "outputs": [
    {
     "ename": "IndentationError",
     "evalue": "expected an indented block (<ipython-input-12-ffe7a1f87024>, line 4)",
     "output_type": "error",
     "traceback": [
      "\u001b[1;36m  File \u001b[1;32m\"<ipython-input-12-ffe7a1f87024>\"\u001b[1;36m, line \u001b[1;32m4\u001b[0m\n\u001b[1;33m    print(\"hello\")\u001b[0m\n\u001b[1;37m    ^\u001b[0m\n\u001b[1;31mIndentationError\u001b[0m\u001b[1;31m:\u001b[0m expected an indented block\n"
     ]
    }
   ],
   "source": [
    "print(\"program started\")\n",
    "i=0\n",
    "if i<10:\n",
    "print(\"hello\")\n",
    "else:\n",
    "    print(\"HI\")\n",
    "print(\"ended\")"
   ]
  },
  {
   "cell_type": "code",
   "execution_count": 13,
   "metadata": {},
   "outputs": [
    {
     "name": "stdout",
     "output_type": "stream",
     "text": [
      "program started\n",
      "hello\n",
      "ended\n"
     ]
    }
   ],
   "source": [
    "print(\"program started\")\n",
    "i=0\n",
    "if i<10:\n",
    "    print(\"hello\")\n",
    "else:\n",
    "    print(\"HI\")\n",
    "print(\"ended\")"
   ]
  },
  {
   "cell_type": "code",
   "execution_count": 14,
   "metadata": {},
   "outputs": [
    {
     "name": "stdout",
     "output_type": "stream",
     "text": [
      "program started\n",
      "if block started\n",
      "hello\n",
      "if block ended\n",
      "ended\n"
     ]
    }
   ],
   "source": [
    "print(\"program started\")\n",
    "i=0\n",
    "if i<10:\n",
    "    print(\"if block started\")\n",
    "    print(\"hello\")\n",
    "    print(\"if block ended\")\n",
    "else:\n",
    "    print(\"else block started\")\n",
    "    print(\"HI\")\n",
    "    print(\"else block ended\")\n",
    "print(\"ended\")"
   ]
  },
  {
   "cell_type": "code",
   "execution_count": 15,
   "metadata": {},
   "outputs": [
    {
     "name": "stdout",
     "output_type": "stream",
     "text": [
      "program started\n",
      "if block started\n",
      "hello\n",
      "if block ended\n",
      "ended\n"
     ]
    }
   ],
   "source": [
    "print(\"program started\")\n",
    "i=0\n",
    "if i<10:\n",
    "        print(\"if block started\")\n",
    "        print(\"hello\")\n",
    "        print(\"if block ended\")\n",
    "else:\n",
    "    print(\"else block started\")\n",
    "    print(\"HI\")\n",
    "    print(\"else block ended\")\n",
    "print(\"ended\")"
   ]
  },
  {
   "cell_type": "code",
   "execution_count": 16,
   "metadata": {},
   "outputs": [
    {
     "ename": "IndentationError",
     "evalue": "unexpected indent (<ipython-input-16-3e220043ba0c>, line 5)",
     "output_type": "error",
     "traceback": [
      "\u001b[1;36m  File \u001b[1;32m\"<ipython-input-16-3e220043ba0c>\"\u001b[1;36m, line \u001b[1;32m5\u001b[0m\n\u001b[1;33m    print(\"hello\")\u001b[0m\n\u001b[1;37m    ^\u001b[0m\n\u001b[1;31mIndentationError\u001b[0m\u001b[1;31m:\u001b[0m unexpected indent\n"
     ]
    }
   ],
   "source": [
    "print(\"program started\")\n",
    "i=0\n",
    "if i<10:\n",
    "    print(\"if block started\")\n",
    "        print(\"hello\")\n",
    "        print(\"if block ended\")\n",
    "else:\n",
    "    print(\"else block started\")\n",
    "    print(\"HI\")\n",
    "    print(\"else block ended\")\n",
    "print(\"ended\")"
   ]
  },
  {
   "cell_type": "code",
   "execution_count": 17,
   "metadata": {},
   "outputs": [
    {
     "name": "stdout",
     "output_type": "stream",
     "text": [
      "program started\n",
      "if block started\n",
      "hello\n",
      "if block ended\n",
      "ended\n"
     ]
    }
   ],
   "source": [
    "print(\"program started\")\n",
    "i=0\n",
    "if i<10:\n",
    "    print(\"if block started\")\n",
    "    print(\"hello\")\n",
    "print(\"if block ended\")\n",
    "\n",
    "print(\"ended\")"
   ]
  },
  {
   "cell_type": "code",
   "execution_count": 18,
   "metadata": {},
   "outputs": [
    {
     "ename": "SyntaxError",
     "evalue": "invalid syntax (<ipython-input-18-5fdc8b175761>, line 7)",
     "output_type": "error",
     "traceback": [
      "\u001b[1;36m  File \u001b[1;32m\"<ipython-input-18-5fdc8b175761>\"\u001b[1;36m, line \u001b[1;32m7\u001b[0m\n\u001b[1;33m    else:\u001b[0m\n\u001b[1;37m    ^\u001b[0m\n\u001b[1;31mSyntaxError\u001b[0m\u001b[1;31m:\u001b[0m invalid syntax\n"
     ]
    }
   ],
   "source": [
    "print(\"program started\")\n",
    "i=0\n",
    "if i<10:\n",
    "    print(\"if block started\")\n",
    "    print(\"hello\")\n",
    "print(\"if block ended\")\n",
    "else:\n",
    "    print(\"else block started\")\n",
    "    print(\"HI\")\n",
    "    print(\"else block ended\")\n",
    "print(\"ended\")"
   ]
  },
  {
   "cell_type": "code",
   "execution_count": 20,
   "metadata": {},
   "outputs": [
    {
     "name": "stdout",
     "output_type": "stream",
     "text": [
      "program started\n",
      "if block started\n",
      "hello\n",
      "if block ended\n",
      "ended\n"
     ]
    }
   ],
   "source": [
    "print(\"program started\")\n",
    "i=0\n",
    "if i<10:\n",
    "    print(\"if block started\")\n",
    "    print(\"hello\")\n",
    "    print(\"if block ended\")\n",
    "else:\n",
    "    print(\"else block started\")\n",
    "    print(\"HI\")\n",
    "    print(\"else block ended\")\n",
    "print(\"ended\")"
   ]
  },
  {
   "cell_type": "code",
   "execution_count": 21,
   "metadata": {},
   "outputs": [
    {
     "name": "stdout",
     "output_type": "stream",
     "text": [
      "program started\n",
      "if block started\n",
      "hello\n",
      "if block ended\n",
      "ended\n"
     ]
    }
   ],
   "source": [
    "print(\"program started\")\n",
    "i=0\n",
    "if i<10:\n",
    " print(\"if block started\")\n",
    " print(\"hello\")\n",
    " print(\"if block ended\")\n",
    "else:\n",
    "    print(\"else block started\")\n",
    "    print(\"HI\")\n",
    "    print(\"else block ended\")\n",
    "print(\"ended\")"
   ]
  },
  {
   "cell_type": "code",
   "execution_count": 22,
   "metadata": {},
   "outputs": [
    {
     "name": "stdout",
     "output_type": "stream",
     "text": [
      "4\n"
     ]
    }
   ],
   "source": [
    "# write a program to check given list contains atleast one even number\n",
    "#ex: [3,5,6,13,15,12,34,36]: contains even\n",
    "#ex:[3,5,9,7,13,15,17]: does not contains even\n",
    "counter = 0\n",
    "for i in [3,5,6,13,15,12,34,36]:\n",
    "    if i%2==0:\n",
    "        counter=counter+1\n",
    "print(counter)\n",
    "    "
   ]
  },
  {
   "cell_type": "code",
   "execution_count": 23,
   "metadata": {},
   "outputs": [
    {
     "name": "stdout",
     "output_type": "stream",
     "text": [
      "0\n"
     ]
    }
   ],
   "source": [
    "# write a program to check given list contains atleast one even number\n",
    "#ex: [3,5,6,13,15,12,34,36]: contains even\n",
    "#ex:[3,5,9,7,13,15,17]: does not contains even\n",
    "counter = 0\n",
    "for i in [3,5,9,7,13,15,17]:\n",
    "    if i%2==0:\n",
    "        counter=counter+1\n",
    "print(counter)\n",
    "    "
   ]
  },
  {
   "cell_type": "code",
   "execution_count": 24,
   "metadata": {},
   "outputs": [
    {
     "name": "stdout",
     "output_type": "stream",
     "text": [
      "does not contains even\n"
     ]
    }
   ],
   "source": [
    "# write a program to check given list contains atleast one even number\n",
    "#ex: [3,5,6,13,15,12,34,36]: contains even\n",
    "#ex:[3,5,9,7,13,15,17]: does not contains even\n",
    "counter = 0\n",
    "for i in [3,5,9,7,13,15,17]:\n",
    "    if i%2==0:\n",
    "        counter=counter+1\n",
    "if counter==0:\n",
    "    print(\"does not contains even\")\n",
    "else:\n",
    "    print(\"contains even\")\n",
    "    "
   ]
  },
  {
   "cell_type": "code",
   "execution_count": 25,
   "metadata": {},
   "outputs": [
    {
     "name": "stdout",
     "output_type": "stream",
     "text": [
      "contains even\n"
     ]
    }
   ],
   "source": [
    "# write a program to check given list contains atleast one even number\n",
    "#ex: [3,5,6,13,15,12,34,36]: contains even\n",
    "#ex:[3,5,9,7,13,15,17]: does not contains even\n",
    "counter = 0\n",
    "for i in [3,5,6,13,15,12,34,36]:\n",
    "    if i%2==0:\n",
    "        counter=counter+1\n",
    "if counter==0:\n",
    "    print(\"does not contains even\")\n",
    "else:\n",
    "    print(\"contains even\")\n",
    "    "
   ]
  },
  {
   "cell_type": "code",
   "execution_count": 26,
   "metadata": {},
   "outputs": [
    {
     "name": "stdout",
     "output_type": "stream",
     "text": [
      "3\n",
      "5\n",
      "6\n",
      "13\n",
      "15\n",
      "12\n",
      "34\n",
      "36\n",
      "contains even\n"
     ]
    }
   ],
   "source": [
    "#[3,5,6,13,15,12,34,36]\n",
    "# write a program to check given list contains atleast one even number\n",
    "#ex: [3,5,6,13,15,12,34,36]: contains even\n",
    "#ex:[3,5,9,7,13,15,17]: does not contains even\n",
    "counter = 0\n",
    "for i in [3,5,6,13,15,12,34,36]:\n",
    "    print(i)\n",
    "    if i%2==0:\n",
    "        counter=counter+1\n",
    "if counter==0:\n",
    "    print(\"does not contains even\")\n",
    "else:\n",
    "    print(\"contains even\")\n",
    "    "
   ]
  },
  {
   "cell_type": "code",
   "execution_count": null,
   "metadata": {},
   "outputs": [],
   "source": [
    "# write a program to check given list contains atleast one even number\n",
    "#ex: [3,5,6,13,15,12,34,36]: contains even\n",
    "#ex:[3,5,9,7,13,15,17]: does not contains even\n",
    "counter = 0\n",
    "for i in [3,5,6,13,15,12,34,36]:\n",
    "    print(i)\n",
    "    if i%2==0:\n",
    "        counter=counter+1\n",
    "        break\n",
    "if counter==0:\n",
    "    print(\"does not contains even\")\n",
    "else:\n",
    "    print(\"contains even\")\n",
    "    "
   ]
  },
  {
   "cell_type": "code",
   "execution_count": 27,
   "metadata": {},
   "outputs": [
    {
     "name": "stdout",
     "output_type": "stream",
     "text": [
      "started\n",
      "1\n",
      "ended\n"
     ]
    }
   ],
   "source": [
    "print(\"started\")\n",
    "for i in [1,2,3,4]:\n",
    "    print(i)\n",
    "    break\n",
    "print(\"ended\")"
   ]
  },
  {
   "cell_type": "code",
   "execution_count": 28,
   "metadata": {},
   "outputs": [
    {
     "name": "stdout",
     "output_type": "stream",
     "text": [
      "started\n",
      "1\n",
      "2\n",
      "3\n",
      "4\n",
      "ended\n"
     ]
    }
   ],
   "source": [
    "print(\"started\")\n",
    "for i in [1,2,3,4]:\n",
    "    print(i)\n",
    "    if i==5:\n",
    "        break\n",
    "print(\"ended\")"
   ]
  },
  {
   "cell_type": "code",
   "execution_count": null,
   "metadata": {},
   "outputs": [],
   "source": [
    "print(\"started\")\n",
    "for i in [1,2,3,4]:\n",
    "    print(\"hello\")\n",
    "print(i)\n",
    "print(\"ended\")"
   ]
  },
  {
   "cell_type": "code",
   "execution_count": 29,
   "metadata": {},
   "outputs": [
    {
     "name": "stdout",
     "output_type": "stream",
     "text": [
      "Enter number of elements:5\n",
      "range(0, 5)\n"
     ]
    }
   ],
   "source": [
    "length = int(input(\"Enter number of elements:\"))\n",
    "print(range(length))\n"
   ]
  },
  {
   "cell_type": "code",
   "execution_count": 30,
   "metadata": {},
   "outputs": [
    {
     "name": "stdout",
     "output_type": "stream",
     "text": [
      "Enter number of elements:6\n",
      "range(0, 6)\n",
      "0\n",
      "1\n",
      "2\n",
      "3\n",
      "4\n",
      "5\n"
     ]
    }
   ],
   "source": [
    "length = int(input(\"Enter number of elements:\"))\n",
    "print(range(length))\n",
    "for i in range(length):\n",
    "    print(i)"
   ]
  },
  {
   "cell_type": "code",
   "execution_count": 31,
   "metadata": {},
   "outputs": [
    {
     "name": "stdout",
     "output_type": "stream",
     "text": [
      "Enter number of elements:10\n",
      "range(0, 10)\n",
      "0\n",
      "1\n",
      "2\n",
      "3\n",
      "4\n",
      "5\n",
      "6\n",
      "7\n",
      "8\n",
      "9\n"
     ]
    }
   ],
   "source": [
    "length = int(input(\"Enter number of elements:\"))\n",
    "print(range(length))\n",
    "for i in range(length):\n",
    "    print(i)"
   ]
  },
  {
   "cell_type": "code",
   "execution_count": 32,
   "metadata": {},
   "outputs": [
    {
     "name": "stdout",
     "output_type": "stream",
     "text": [
      "5\n",
      "6\n",
      "7\n",
      "8\n",
      "9\n"
     ]
    }
   ],
   "source": [
    "for i in range(5,10):\n",
    "    print(i)"
   ]
  },
  {
   "cell_type": "code",
   "execution_count": 33,
   "metadata": {},
   "outputs": [
    {
     "name": "stdout",
     "output_type": "stream",
     "text": [
      "5\n",
      "7\n",
      "9\n",
      "11\n",
      "13\n",
      "15\n",
      "17\n",
      "19\n"
     ]
    }
   ],
   "source": [
    "for i in range(5,20,2):\n",
    "    print(i)"
   ]
  },
  {
   "cell_type": "code",
   "execution_count": 34,
   "metadata": {},
   "outputs": [
    {
     "name": "stdout",
     "output_type": "stream",
     "text": [
      "5\n",
      "6\n",
      "7\n",
      "8\n",
      "9\n",
      "10\n",
      "11\n",
      "12\n",
      "13\n",
      "14\n",
      "15\n",
      "16\n",
      "17\n",
      "18\n",
      "19\n"
     ]
    }
   ],
   "source": [
    "for i in range(5,20):\n",
    "    print(i)"
   ]
  },
  {
   "cell_type": "code",
   "execution_count": 35,
   "metadata": {},
   "outputs": [],
   "source": [
    "for i in range(20,5):\n",
    "    print(i)"
   ]
  },
  {
   "cell_type": "code",
   "execution_count": 36,
   "metadata": {},
   "outputs": [],
   "source": [
    "for i in range(20,5,1):\n",
    "    print(i)"
   ]
  },
  {
   "cell_type": "code",
   "execution_count": 37,
   "metadata": {},
   "outputs": [
    {
     "name": "stdout",
     "output_type": "stream",
     "text": [
      "20\n",
      "19\n",
      "18\n",
      "17\n",
      "16\n",
      "15\n",
      "14\n",
      "13\n",
      "12\n",
      "11\n",
      "10\n",
      "9\n",
      "8\n",
      "7\n",
      "6\n"
     ]
    }
   ],
   "source": [
    "for i in range(20,5,-1):\n",
    "    print(i)"
   ]
  },
  {
   "cell_type": "code",
   "execution_count": 38,
   "metadata": {},
   "outputs": [
    {
     "name": "stdout",
     "output_type": "stream",
     "text": [
      "20\n",
      "18\n",
      "16\n",
      "14\n",
      "12\n",
      "10\n",
      "8\n",
      "6\n"
     ]
    }
   ],
   "source": [
    "for i in range(20,5,-2):\n",
    "    print(i)"
   ]
  },
  {
   "cell_type": "code",
   "execution_count": 39,
   "metadata": {},
   "outputs": [
    {
     "name": "stdout",
     "output_type": "stream",
     "text": [
      "Enter no of elements:4\n",
      "Enter a value:1\n",
      "Enter a value:33\n",
      "Enter a value:5\n",
      "Enter a value:7\n",
      "does not contains even\n"
     ]
    }
   ],
   "source": [
    "length = int(input(\"Enter no of elements:\"))\n",
    "input_list=[]\n",
    "for i in range(length):\n",
    "    input_list.append(int(input(\"Enter a value:\")))\n",
    "counter = 0\n",
    "for i in input_list:\n",
    "    counter = counter+1 if i%2==0 else counter\n",
    "if counter==0:\n",
    "    print(\"does not contains even\")\n",
    "else:\n",
    "    print(\"contains even\")"
   ]
  },
  {
   "cell_type": "code",
   "execution_count": 40,
   "metadata": {},
   "outputs": [
    {
     "name": "stdout",
     "output_type": "stream",
     "text": [
      "Enter no of elements:5\n",
      "Enter a value:2\n",
      "Enter a value:1\n",
      "Enter a value:33\n",
      "Enter a value:4\n",
      "Enter a value:6\n",
      "contains even\n"
     ]
    }
   ],
   "source": [
    "length = int(input(\"Enter no of elements:\"))\n",
    "input_list=[]\n",
    "for i in range(length):\n",
    "    input_list.append(int(input(\"Enter a value:\")))\n",
    "counter = 0\n",
    "for i in input_list:\n",
    "    counter = counter+1 if i%2==0 else counter\n",
    "if counter==0:\n",
    "    print(\"does not contains even\")\n",
    "else:\n",
    "    print(\"contains even\")"
   ]
  },
  {
   "cell_type": "code",
   "execution_count": 41,
   "metadata": {},
   "outputs": [
    {
     "name": "stdout",
     "output_type": "stream",
     "text": [
      "3\n",
      "5\n",
      "6\n",
      "contains even\n"
     ]
    }
   ],
   "source": [
    "# write a program to check given list contains atleast one even number\n",
    "#ex: [3,5,6,13,15,12,34,36]: contains even\n",
    "#ex:[3,5,9,7,13,15,17]: does not contains even\n",
    "counter = 0\n",
    "for i in [3,5,6,13,15,12,34,36]:\n",
    "    print(i)\n",
    "    if i%2==0:\n",
    "        counter=counter+1\n",
    "        break\n",
    "if counter==0:\n",
    "    print(\"does not contains even\")\n",
    "else:\n",
    "    print(\"contains even\")\n",
    "    "
   ]
  },
  {
   "cell_type": "code",
   "execution_count": null,
   "metadata": {},
   "outputs": [],
   "source": [
    "# write a program to check given list contains atleast one even number\n",
    "#ex: [3,5,6,13,15,12,34,36]: contains even\n",
    "#ex:[3,5,9,7,13,15,17]: does not contains even\n",
    "counter = 0\n",
    "for i in [3,5,6,13,15,12,34,36]:\n",
    "    print(i)\n",
    "    if i%2==0:\n",
    "        counter=counter+1\n",
    "        break\n",
    "if counter==0:\n",
    "    print(\"does not contains even\")\n",
    "else:\n",
    "    print(\"contains even\")\n",
    "    "
   ]
  },
  {
   "cell_type": "code",
   "execution_count": 42,
   "metadata": {},
   "outputs": [
    {
     "name": "stdout",
     "output_type": "stream",
     "text": [
      "started\n",
      "p\n",
      "y\n",
      "t\n",
      "h\n",
      "o\n",
      "n\n",
      "ended\n"
     ]
    }
   ],
   "source": [
    "print(\"started\")\n",
    "for i in \"python\":\n",
    "    print(i)\n",
    "print(\"ended\")"
   ]
  },
  {
   "cell_type": "code",
   "execution_count": 44,
   "metadata": {},
   "outputs": [
    {
     "name": "stdout",
     "output_type": "stream",
     "text": [
      "started\n",
      "p\n",
      "y\n",
      "t\n",
      "h\n",
      "o\n",
      "n\n",
      "for loop else block \n",
      "ended\n"
     ]
    }
   ],
   "source": [
    "print(\"started\")\n",
    "for i in \"python\":\n",
    "    print(i)\n",
    "else:\n",
    "    print(\"for loop else block \")\n",
    "print(\"ended\")"
   ]
  },
  {
   "cell_type": "code",
   "execution_count": 45,
   "metadata": {},
   "outputs": [
    {
     "name": "stdout",
     "output_type": "stream",
     "text": [
      "started\n",
      "p\n",
      "ended\n"
     ]
    }
   ],
   "source": [
    "print(\"started\")\n",
    "for i in \"python\":\n",
    "    print(i)\n",
    "    break\n",
    "else:\n",
    "    print(\"for loop else block \")\n",
    "print(\"ended\")"
   ]
  },
  {
   "cell_type": "code",
   "execution_count": 46,
   "metadata": {},
   "outputs": [
    {
     "name": "stdout",
     "output_type": "stream",
     "text": [
      "started\n",
      "p\n",
      "y\n",
      "t\n",
      "h\n",
      "o\n",
      "n\n",
      "for loop else block \n",
      "ended\n"
     ]
    }
   ],
   "source": [
    "print(\"started\")\n",
    "for i in \"python\":\n",
    "    print(i)\n",
    "    if i==\"z\":\n",
    "        break\n",
    "else:\n",
    "    print(\"for loop else block \")\n",
    "print(\"ended\")"
   ]
  },
  {
   "cell_type": "code",
   "execution_count": 47,
   "metadata": {},
   "outputs": [
    {
     "name": "stdout",
     "output_type": "stream",
     "text": [
      "started\n",
      "p\n",
      "y\n",
      "t\n",
      "ended\n"
     ]
    }
   ],
   "source": [
    "print(\"started\")\n",
    "for i in \"python\":\n",
    "    print(i)\n",
    "    if i==\"t\":\n",
    "        break\n",
    "else:\n",
    "    print(\"for loop else block \")\n",
    "print(\"ended\")"
   ]
  },
  {
   "cell_type": "code",
   "execution_count": 48,
   "metadata": {},
   "outputs": [
    {
     "name": "stdout",
     "output_type": "stream",
     "text": [
      "contains even\n"
     ]
    }
   ],
   "source": [
    "# write a program to check given list contains atleast one even number\n",
    "#ex: [3,5,6,13,15,12,34,36]: contains even\n",
    "#ex:[3,5,9,7,13,15,17]: does not contains even\n",
    "for i in [3,5,6,13,15,12,34,36]:\n",
    "    if i%2==0:\n",
    "        print(\"contains even\")\n",
    "        break\n",
    "else:\n",
    "    print('does not contains even')"
   ]
  },
  {
   "cell_type": "code",
   "execution_count": 49,
   "metadata": {},
   "outputs": [
    {
     "name": "stdout",
     "output_type": "stream",
     "text": [
      "does not contains even\n"
     ]
    }
   ],
   "source": [
    "# write a program to check given list contains atleast one even number\n",
    "#ex: [3,5,6,13,15,12,34,36]: contains even\n",
    "#ex:[3,5,9,7,13,15,17]: does not contains even\n",
    "for i in [3,5,9,7,13,15,17]:\n",
    "    if i%2==0:\n",
    "        print(\"contains even\")\n",
    "        break\n",
    "else:\n",
    "    print('does not contains even')"
   ]
  },
  {
   "cell_type": "code",
   "execution_count": 51,
   "metadata": {},
   "outputs": [
    {
     "name": "stdout",
     "output_type": "stream",
     "text": [
      "p 112\n",
      "y 121\n",
      "t 116\n",
      "h 104\n",
      "o 111\n",
      "n 110\n",
      "  32\n",
      "P 80\n",
      "R 82\n",
      "O 79\n",
      "G 71\n",
      "R 82\n",
      "a 97\n",
      "m 109\n"
     ]
    }
   ],
   "source": [
    "s=\"python PROGRam\"\n",
    "for i in s:\n",
    "    print(i,ord(i))"
   ]
  },
  {
   "cell_type": "code",
   "execution_count": 52,
   "metadata": {},
   "outputs": [
    {
     "name": "stdout",
     "output_type": "stream",
     "text": [
      "97 122\n",
      "65 90\n"
     ]
    }
   ],
   "source": [
    "print(ord('a'),ord('z'))\n",
    "print(ord('A'),ord('Z'))"
   ]
  },
  {
   "cell_type": "code",
   "execution_count": null,
   "metadata": {},
   "outputs": [],
   "source": []
  }
 ],
 "metadata": {
  "kernelspec": {
   "display_name": "Python 3",
   "language": "python",
   "name": "python3"
  },
  "language_info": {
   "codemirror_mode": {
    "name": "ipython",
    "version": 3
   },
   "file_extension": ".py",
   "mimetype": "text/x-python",
   "name": "python",
   "nbconvert_exporter": "python",
   "pygments_lexer": "ipython3",
   "version": "3.8.3"
  }
 },
 "nbformat": 4,
 "nbformat_minor": 4
}

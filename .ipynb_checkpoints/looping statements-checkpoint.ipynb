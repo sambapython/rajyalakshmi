{
 "cells": [
  {
   "cell_type": "code",
   "execution_count": 1,
   "metadata": {},
   "outputs": [
    {
     "name": "stdout",
     "output_type": "stream",
     "text": [
      "p\n",
      "y\n",
      "t\n",
      "h\n",
      "o\n",
      "n\n"
     ]
    }
   ],
   "source": [
    "s=\"python\"\n",
    "print(s[0])\n",
    "print(s[1])\n",
    "print(s[2])\n",
    "print(s[3])\n",
    "print(s[4])\n",
    "print(s[5])"
   ]
  },
  {
   "cell_type": "code",
   "execution_count": 2,
   "metadata": {},
   "outputs": [
    {
     "name": "stdout",
     "output_type": "stream",
     "text": [
      "10\n",
      "1\n",
      "3\n",
      "20\n",
      "4\n",
      "67\n"
     ]
    }
   ],
   "source": [
    "s=[10,1,3,20,4,67]\n",
    "print(s[0])\n",
    "print(s[1])\n",
    "print(s[2])\n",
    "print(s[3])\n",
    "print(s[4])\n",
    "print(s[5])"
   ]
  },
  {
   "cell_type": "code",
   "execution_count": 3,
   "metadata": {},
   "outputs": [
    {
     "name": "stdout",
     "output_type": "stream",
     "text": [
      "10\n",
      "20\n",
      "30\n",
      "40\n",
      "50\n",
      "60\n"
     ]
    }
   ],
   "source": [
    "s=(10,20,30,40,50,60)\n",
    "print(s[0])\n",
    "print(s[1])\n",
    "print(s[2])\n",
    "print(s[3])\n",
    "print(s[4])\n",
    "print(s[5])"
   ]
  },
  {
   "cell_type": "code",
   "execution_count": 4,
   "metadata": {},
   "outputs": [
    {
     "name": "stdout",
     "output_type": "stream",
     "text": [
      "program started.\n",
      "iteration started\n",
      "p\n",
      "iteration ended\n",
      "iteration started\n",
      "y\n",
      "iteration ended\n",
      "iteration started\n",
      "t\n",
      "iteration ended\n",
      "iteration started\n",
      "h\n",
      "iteration ended\n",
      "iteration started\n",
      "o\n",
      "iteration ended\n",
      "iteration started\n",
      "n\n",
      "iteration ended\n",
      "iteration started\n",
      " \n",
      "iteration ended\n",
      "iteration started\n",
      "p\n",
      "iteration ended\n",
      "iteration started\n",
      "r\n",
      "iteration ended\n",
      "iteration started\n",
      "o\n",
      "iteration ended\n",
      "iteration started\n",
      "g\n",
      "iteration ended\n",
      "iteration started\n",
      "r\n",
      "iteration ended\n",
      "iteration started\n",
      "a\n",
      "iteration ended\n",
      "iteration started\n",
      "m\n",
      "iteration ended\n",
      "program ended.\n"
     ]
    }
   ],
   "source": [
    "print(\"program started.\")\n",
    "s=\"python program\" # list, tuple, dictionary, set\n",
    "for i in s:\n",
    "    print(\"iteration started\")\n",
    "    print(i)\n",
    "    print(\"iteration ended\")\n",
    "print(\"program ended.\")"
   ]
  },
  {
   "cell_type": "code",
   "execution_count": null,
   "metadata": {},
   "outputs": [],
   "source": []
  }
 ],
 "metadata": {
  "kernelspec": {
   "display_name": "Python 3",
   "language": "python",
   "name": "python3"
  },
  "language_info": {
   "codemirror_mode": {
    "name": "ipython",
    "version": 3
   },
   "file_extension": ".py",
   "mimetype": "text/x-python",
   "name": "python",
   "nbconvert_exporter": "python",
   "pygments_lexer": "ipython3",
   "version": "3.8.3"
  }
 },
 "nbformat": 4,
 "nbformat_minor": 4
}

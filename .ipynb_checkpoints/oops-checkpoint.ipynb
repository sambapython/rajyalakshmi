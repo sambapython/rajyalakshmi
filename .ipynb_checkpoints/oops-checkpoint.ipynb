{
 "cells": [
  {
   "cell_type": "code",
   "execution_count": 1,
   "metadata": {},
   "outputs": [],
   "source": [
    "l=[{\"name\":\"jay\",\"age\":3},{\"name\":\"vedha\",\"age\":2}]\n",
    "def check_age(data):\n",
    "    pass\n"
   ]
  },
  {
   "cell_type": "code",
   "execution_count": 2,
   "metadata": {},
   "outputs": [
    {
     "name": "stdout",
     "output_type": "stream",
     "text": [
      "<__main__.Person object at 0x000001FD92FCB3D0> <class '__main__.Person'>\n"
     ]
    }
   ],
   "source": [
    "class Person:\n",
    "    pass\n",
    "jay = Person()\n",
    "print(jay, type(jay))"
   ]
  },
  {
   "cell_type": "code",
   "execution_count": 4,
   "metadata": {},
   "outputs": [
    {
     "name": "stdout",
     "output_type": "stream",
     "text": [
      "{'name': 'Jayaram', 'age': 3} {'name': 'Vedhanvesh', 'age': 2}\n"
     ]
    }
   ],
   "source": [
    "class Person:\n",
    "    pass\n",
    "jay = Person()\n",
    "jay.name=\"Jayaram\"\n",
    "jay.age=3\n",
    "vedha = Person()\n",
    "vedha.name=\"Vedhanvesh\"\n",
    "vedha.age=2\n",
    "print(jay.__dict__, vedha.__dict__)"
   ]
  },
  {
   "cell_type": "code",
   "execution_count": 5,
   "metadata": {},
   "outputs": [
    {
     "name": "stdout",
     "output_type": "stream",
     "text": [
      "Jayaram\n"
     ]
    }
   ],
   "source": [
    "class Person:\n",
    "    pass\n",
    "jay = Person()\n",
    "jay.name=\"Jayaram\"\n",
    "jay.age=3\n",
    "vedha = Person()\n",
    "vedha.name=\"Vedhanvesh\"\n",
    "vedha.age=2\n",
    "print(jay.name)"
   ]
  },
  {
   "cell_type": "code",
   "execution_count": 6,
   "metadata": {},
   "outputs": [
    {
     "name": "stdout",
     "output_type": "stream",
     "text": [
      "Jayaram\n",
      "adhar_vedha\n"
     ]
    },
    {
     "ename": "AttributeError",
     "evalue": "'Person' object has no attribute 'adhar'",
     "output_type": "error",
     "traceback": [
      "\u001b[1;31m---------------------------------------------------------------------------\u001b[0m",
      "\u001b[1;31mAttributeError\u001b[0m                            Traceback (most recent call last)",
      "\u001b[1;32m<ipython-input-6-673d2303c5ed>\u001b[0m in \u001b[0;36m<module>\u001b[1;34m\u001b[0m\n\u001b[0;32m     10\u001b[0m \u001b[0mvedha\u001b[0m\u001b[1;33m.\u001b[0m\u001b[0madhar\u001b[0m\u001b[1;33m=\u001b[0m\u001b[1;34m\"adhar_vedha\"\u001b[0m\u001b[1;33m\u001b[0m\u001b[1;33m\u001b[0m\u001b[0m\n\u001b[0;32m     11\u001b[0m \u001b[0mprint\u001b[0m\u001b[1;33m(\u001b[0m\u001b[0mvedha\u001b[0m\u001b[1;33m.\u001b[0m\u001b[0madhar\u001b[0m\u001b[1;33m)\u001b[0m\u001b[1;33m\u001b[0m\u001b[1;33m\u001b[0m\u001b[0m\n\u001b[1;32m---> 12\u001b[1;33m \u001b[0mprint\u001b[0m\u001b[1;33m(\u001b[0m\u001b[0mjay\u001b[0m\u001b[1;33m.\u001b[0m\u001b[0madhar\u001b[0m\u001b[1;33m)\u001b[0m\u001b[1;33m\u001b[0m\u001b[1;33m\u001b[0m\u001b[0m\n\u001b[0m",
      "\u001b[1;31mAttributeError\u001b[0m: 'Person' object has no attribute 'adhar'"
     ]
    }
   ],
   "source": [
    "class Person:\n",
    "    pass\n",
    "jay = Person()\n",
    "jay.name=\"Jayaram\"\n",
    "jay.age=3\n",
    "vedha = Person()\n",
    "vedha.name=\"Vedhanvesh\"\n",
    "vedha.age=2\n",
    "print(jay.name)\n",
    "vedha.adhar=\"adhar_vedha\"\n",
    "print(vedha.adhar)\n",
    "print(jay.adhar)"
   ]
  },
  {
   "cell_type": "code",
   "execution_count": 7,
   "metadata": {},
   "outputs": [
    {
     "name": "stdout",
     "output_type": "stream",
     "text": [
      "('jayaram', 3, None)\n",
      "('Vedhanvesh', 2, 'vedha_adhar')\n"
     ]
    }
   ],
   "source": [
    "def set_data(inst, name, age, adhar=None):\n",
    "    inst.name=name\n",
    "    inst.age=age\n",
    "    inst.adhar=adhar\n",
    "def get(inst):\n",
    "    return inst.name,inst.age,inst.adhar\n",
    "class Person:\n",
    "    pass\n",
    "jay = Person()\n",
    "set_data(jay, \"jayaram\",3)\n",
    "vedha = Person()\n",
    "set_data(vedha, \"Vedhanvesh\",2,\"vedha_adhar\")\n",
    "# bassed on this write a get method.\n",
    "print(get(jay))\n",
    "print(get(vedha))"
   ]
  },
  {
   "cell_type": "code",
   "execution_count": null,
   "metadata": {},
   "outputs": [],
   "source": [
    "class Emp:\n",
    "    company_name=\"Khyaathi\"\n",
    "    def set_data(inst, name, age, adhar=None):\n",
    "        inst.name=name\n",
    "        inst.age=age\n",
    "        inst.adhar=adhar\n",
    "    \n",
    "    def get(inst):\n",
    "        return inst.name,inst.age,inst.adhar\n",
    "\n",
    "jay = Person()\n",
    "set_data(jay, \"jayaram\",3)\n",
    "vedha = Person()\n",
    "set_data(vedha, \"Vedhanvesh\",2,\"vedha_adhar\")\n",
    "# bassed on this write a get method.\n",
    "print(get(jay))\n",
    "print(get(vedha))"
   ]
  },
  {
   "cell_type": "code",
   "execution_count": 8,
   "metadata": {},
   "outputs": [
    {
     "name": "stdout",
     "output_type": "stream",
     "text": [
      "('jayaram', 3, None)\n",
      "('Vedhanvesh', 2, 'vedha_adhar')\n"
     ]
    }
   ],
   "source": [
    "class Emp:\n",
    "    company_name=\"Khyaathi\"\n",
    "    def set_data(inst, name, age, adhar=None):\n",
    "        inst.name=name\n",
    "        inst.age=age\n",
    "        inst.adhar=adhar\n",
    "    \n",
    "    def get(inst):\n",
    "        return inst.name,inst.age,inst.adhar\n",
    "\n",
    "jay = Person()\n",
    "vedha = Person()\n",
    "Emp.set_data(jay, \"jayaram\",3)\n",
    "Emp.set_data(vedha, \"Vedhanvesh\",2,\"vedha_adhar\")\n",
    "# bassed on this write a get method.\n",
    "print(Emp.get(jay))\n",
    "print(Emp.get(vedha))"
   ]
  },
  {
   "cell_type": "code",
   "execution_count": 10,
   "metadata": {},
   "outputs": [
    {
     "name": "stdout",
     "output_type": "stream",
     "text": [
      "('jayaram', 3, None)\n",
      "('Vedhanvesh', 2, 'vedha_adhar')\n"
     ]
    }
   ],
   "source": [
    "class Emp: #(class object)\n",
    "    company_name=\"Khyaathi\"\n",
    "    def set_data(inst, name, age, adhar=None):\n",
    "        inst.name=name\n",
    "        inst.age=age\n",
    "        inst.adhar=adhar\n",
    "    \n",
    "    def get(inst):\n",
    "        return inst.name,inst.age,inst.adhar\n",
    "\n",
    "jay = Emp() #(data object)\n",
    "vedha = Emp()#(data object)\n",
    "jay.set_data(\"jayaram\",3)\n",
    "#Emp.set_data(jay, \"jayaram\",3)\n",
    "vedha.set_data(\"Vedhanvesh\",2,\"vedha_adhar\")\n",
    "#Emp.set_data(vedha, \"Vedhanvesh\",2,\"vedha_adhar\")\n",
    "print(jay.get())\n",
    "#print(Emp.get(jay))\n",
    "print(vedha.get())\n",
    "#print(Emp.get(vedha))"
   ]
  },
  {
   "cell_type": "code",
   "execution_count": 11,
   "metadata": {},
   "outputs": [
    {
     "name": "stdout",
     "output_type": "stream",
     "text": [
      "('jayaram', 3, None)\n",
      "('Vedhanvesh', 2, 'vedha_adhar')\n"
     ]
    }
   ],
   "source": [
    "class Emp:\n",
    "    company_name=\"Khyaathi\"\n",
    "    def set_data(inst, name, age, adhar=None):\n",
    "        inst.name=name\n",
    "        inst.age=age\n",
    "        inst.adhar=adhar\n",
    "    \n",
    "    def get(inst):\n",
    "        return inst.name,inst.age,inst.adhar\n",
    "jay = Emp() \n",
    "vedha = Emp()\n",
    "jay.set_data(\"jayaram\",3)\n",
    "vedha.set_data(\"Vedhanvesh\",2,\"vedha_adhar\")\n",
    "print(jay.get())\n",
    "print(vedha.get())"
   ]
  },
  {
   "cell_type": "code",
   "execution_count": 13,
   "metadata": {},
   "outputs": [
    {
     "name": "stdout",
     "output_type": "stream",
     "text": [
      "('jayaram', 3, None)\n",
      "('Vedhanvesh', 2, 'vedha_adhar')\n",
      "Khyaathi\n"
     ]
    }
   ],
   "source": [
    "class Emp:\n",
    "    company_name=\"Khyaathi\"\n",
    "    def set_data(inst, name, age, adhar=None):\n",
    "        inst.name=name\n",
    "        inst.age=age\n",
    "        inst.adhar=adhar\n",
    "    \n",
    "    def get(inst):\n",
    "        return inst.name,inst.age,inst.adhar\n",
    "jay = Emp() \n",
    "vedha = Emp()\n",
    "jay.set_data(\"jayaram\",3)\n",
    "vedha.set_data(\"Vedhanvesh\",2,\"vedha_adhar\")\n",
    "print(jay.get())\n",
    "print(vedha.get())\n",
    "print(Emp.company_name)"
   ]
  },
  {
   "cell_type": "code",
   "execution_count": 14,
   "metadata": {},
   "outputs": [
    {
     "name": "stdout",
     "output_type": "stream",
     "text": [
      "('jayaram', 3, None)\n",
      "('Vedhanvesh', 2, 'vedha_adhar')\n",
      "Khyaathi\n",
      "Khyaathi\n",
      "Khyaathi\n"
     ]
    }
   ],
   "source": [
    "class Emp:\n",
    "    company_name=\"Khyaathi\"\n",
    "    def set_data(inst, name, age, adhar=None):\n",
    "        inst.name=name\n",
    "        inst.age=age\n",
    "        inst.adhar=adhar\n",
    "    \n",
    "    def get(inst):\n",
    "        return inst.name,inst.age,inst.adhar\n",
    "jay = Emp() \n",
    "vedha = Emp()\n",
    "jay.set_data(\"jayaram\",3)\n",
    "vedha.set_data(\"Vedhanvesh\",2,\"vedha_adhar\")\n",
    "print(jay.get())\n",
    "print(vedha.get())\n",
    "print(Emp.company_name)\n",
    "print(jay.company_name)\n",
    "print(vedha.company_name)"
   ]
  },
  {
   "cell_type": "code",
   "execution_count": 15,
   "metadata": {},
   "outputs": [
    {
     "name": "stdout",
     "output_type": "stream",
     "text": [
      "('jayaram', 3, None)\n",
      "('Vedhanvesh', 2, 'vedha_adhar')\n",
      "Khyaathi\n",
      "Khyaathi\n",
      "Khyaathi\n"
     ]
    },
    {
     "ename": "AttributeError",
     "evalue": "type object 'Emp' has no attribute 'name'",
     "output_type": "error",
     "traceback": [
      "\u001b[1;31m---------------------------------------------------------------------------\u001b[0m",
      "\u001b[1;31mAttributeError\u001b[0m                            Traceback (most recent call last)",
      "\u001b[1;32m<ipython-input-15-2727a2515fd4>\u001b[0m in \u001b[0;36m<module>\u001b[1;34m\u001b[0m\n\u001b[0;32m     17\u001b[0m \u001b[0mprint\u001b[0m\u001b[1;33m(\u001b[0m\u001b[0mjay\u001b[0m\u001b[1;33m.\u001b[0m\u001b[0mcompany_name\u001b[0m\u001b[1;33m)\u001b[0m\u001b[1;33m\u001b[0m\u001b[1;33m\u001b[0m\u001b[0m\n\u001b[0;32m     18\u001b[0m \u001b[0mprint\u001b[0m\u001b[1;33m(\u001b[0m\u001b[0mvedha\u001b[0m\u001b[1;33m.\u001b[0m\u001b[0mcompany_name\u001b[0m\u001b[1;33m)\u001b[0m\u001b[1;33m\u001b[0m\u001b[1;33m\u001b[0m\u001b[0m\n\u001b[1;32m---> 19\u001b[1;33m \u001b[0mprint\u001b[0m\u001b[1;33m(\u001b[0m\u001b[0mEmp\u001b[0m\u001b[1;33m.\u001b[0m\u001b[0mname\u001b[0m\u001b[1;33m)\u001b[0m\u001b[1;33m\u001b[0m\u001b[1;33m\u001b[0m\u001b[0m\n\u001b[0m",
      "\u001b[1;31mAttributeError\u001b[0m: type object 'Emp' has no attribute 'name'"
     ]
    }
   ],
   "source": [
    "class Emp:\n",
    "    company_name=\"Khyaathi\"\n",
    "    def set_data(inst, name, age, adhar=None):\n",
    "        inst.name=name\n",
    "        inst.age=age\n",
    "        inst.adhar=adhar\n",
    "    \n",
    "    def get(inst):\n",
    "        return inst.name,inst.age,inst.adhar\n",
    "jay = Emp() \n",
    "vedha = Emp()\n",
    "jay.set_data(\"jayaram\",3)\n",
    "vedha.set_data(\"Vedhanvesh\",2,\"vedha_adhar\")\n",
    "print(jay.get())\n",
    "print(vedha.get())\n",
    "print(Emp.company_name)\n",
    "print(jay.company_name)\n",
    "print(vedha.company_name)\n",
    "print(Emp.name)"
   ]
  },
  {
   "cell_type": "code",
   "execution_count": 17,
   "metadata": {},
   "outputs": [
    {
     "name": "stdout",
     "output_type": "stream",
     "text": [
      "('jayaram', 3, None, 'Khyaathi')\n",
      "('Vedhanvesh', 2, 'vedha_adhar', 'Khyaathi')\n"
     ]
    }
   ],
   "source": [
    "class Emp:\n",
    "    company_name=\"Khyaathi\"\n",
    "    def set_data(inst, name, age, adhar=None):\n",
    "        inst.name=name\n",
    "        inst.age=age\n",
    "        inst.adhar=adhar\n",
    "    \n",
    "    def get(inst):\n",
    "        return inst.name,inst.age,inst.adhar,inst.company_name\n",
    "jay = Emp() \n",
    "vedha = Emp()\n",
    "jay.set_data(\"jayaram\",3)\n",
    "vedha.set_data(\"Vedhanvesh\",2,\"vedha_adhar\")\n",
    "print(jay.get())\n",
    "print(vedha.get())"
   ]
  },
  {
   "cell_type": "code",
   "execution_count": 19,
   "metadata": {
    "scrolled": true
   },
   "outputs": [
    {
     "name": "stdout",
     "output_type": "stream",
     "text": [
      "('jayaram', 30, None, 'Khyaathi', 120000)\n",
      "('Vedhanvesh', 26, 'vedha_adhar', 'Khyaathi', 90001)\n"
     ]
    }
   ],
   "source": [
    "class Emp:\n",
    "    company_name=\"Khyaathi\"\n",
    "    def set_data(inst, name, age, sal,leaves=0, adhar=None):\n",
    "        inst.name=name\n",
    "        inst.age=age\n",
    "        inst.adhar=adhar\n",
    "        inst.sal=sal\n",
    "        inst.leaves=leaves\n",
    "    \n",
    "    def get(inst):\n",
    "        return inst.name,inst.age,inst.adhar,inst.company_name,inst.sal_calc()\n",
    "    \n",
    "    def sal_calc(inst):\n",
    "        per_day = inst.sal//30\n",
    "        leaves_sal = 0\n",
    "        if inst.leaves:\n",
    "            leaves_sal = inst.leaves*per_day\n",
    "        return inst.sal-leaves_sal\n",
    "        \n",
    "        \n",
    "        \n",
    "jay = Emp() \n",
    "vedha = Emp()\n",
    "jay.set_data(name=\"jayaram\",age=30,sal=120000)\n",
    "vedha.set_data(name=\"Vedhanvesh\",age=26,adhar=\"vedha_adhar\",sal=100000,leaves=3)\n",
    "print(jay.get())\n",
    "print(vedha.get())"
   ]
  },
  {
   "cell_type": "code",
   "execution_count": 20,
   "metadata": {},
   "outputs": [],
   "source": [
    "# write a class for any entity which you have a strong knowledge"
   ]
  },
  {
   "cell_type": "code",
   "execution_count": 1,
   "metadata": {},
   "outputs": [],
   "source": [
    "# write a calss for a taxi services."
   ]
  },
  {
   "cell_type": "code",
   "execution_count": 3,
   "metadata": {},
   "outputs": [
    {
     "name": "stdout",
     "output_type": "stream",
     "text": [
      "('jayaram', 30, None, 'Khyaathi', 120000)\n",
      "('Vedhanvesh', 26, 'vedha_adhar', 'Khyaathi', 90001)\n"
     ]
    }
   ],
   "source": [
    "class Emp:\n",
    "    company_name=\"Khyaathi\"\n",
    "    def set_data(self, name, age, sal,leaves=0, adhar=None):\n",
    "        self.name=name\n",
    "        self.age=age\n",
    "        self.adhar=adhar\n",
    "        self.sal=sal\n",
    "        self.leaves=leaves\n",
    "    \n",
    "    def get(self):\n",
    "        return self.name,self.age,self.adhar,self.company_name,self.sal_calc()\n",
    "    \n",
    "    def sal_calc(self):\n",
    "        per_day = self.sal//30\n",
    "        leaves_sal = 0\n",
    "        if self.leaves:\n",
    "            leaves_sal = self.leaves*per_day\n",
    "        return self.sal-leaves_sal     \n",
    "jay = Emp() \n",
    "vedha = Emp()\n",
    "jay.set_data(name=\"jayaram\",age=30,sal=120000)\n",
    "vedha.set_data(name=\"Vedhanvesh\",age=26,adhar=\"vedha_adhar\",sal=100000,leaves=3)\n",
    "print(jay.get())\n",
    "print(vedha.get())"
   ]
  },
  {
   "cell_type": "code",
   "execution_count": 5,
   "metadata": {},
   "outputs": [
    {
     "name": "stdout",
     "output_type": "stream",
     "text": [
      "('jayaram', 30, None, 'Khyaathi', 120000)\n",
      "('Vedhanvesh', 26, 'vedha_adhar', 'Khyaathi', 90001)\n"
     ]
    },
    {
     "ename": "AttributeError",
     "evalue": "'Emp' object has no attribute 'name'",
     "output_type": "error",
     "traceback": [
      "\u001b[1;31m---------------------------------------------------------------------------\u001b[0m",
      "\u001b[1;31mAttributeError\u001b[0m                            Traceback (most recent call last)",
      "\u001b[1;32m<ipython-input-5-e3fd474ae1ab>\u001b[0m in \u001b[0;36m<module>\u001b[1;34m\u001b[0m\n\u001b[0;32m     24\u001b[0m \u001b[0mprint\u001b[0m\u001b[1;33m(\u001b[0m\u001b[0mvedha\u001b[0m\u001b[1;33m.\u001b[0m\u001b[0mget\u001b[0m\u001b[1;33m(\u001b[0m\u001b[1;33m)\u001b[0m\u001b[1;33m)\u001b[0m\u001b[1;33m\u001b[0m\u001b[1;33m\u001b[0m\u001b[0m\n\u001b[0;32m     25\u001b[0m \u001b[0msai\u001b[0m \u001b[1;33m=\u001b[0m \u001b[0mEmp\u001b[0m\u001b[1;33m(\u001b[0m\u001b[1;33m)\u001b[0m\u001b[1;33m\u001b[0m\u001b[1;33m\u001b[0m\u001b[0m\n\u001b[1;32m---> 26\u001b[1;33m \u001b[0mprint\u001b[0m\u001b[1;33m(\u001b[0m\u001b[0msai\u001b[0m\u001b[1;33m.\u001b[0m\u001b[0mget\u001b[0m\u001b[1;33m(\u001b[0m\u001b[1;33m)\u001b[0m\u001b[1;33m)\u001b[0m\u001b[1;33m\u001b[0m\u001b[1;33m\u001b[0m\u001b[0m\n\u001b[0m",
      "\u001b[1;32m<ipython-input-5-e3fd474ae1ab>\u001b[0m in \u001b[0;36mget\u001b[1;34m(self)\u001b[0m\n\u001b[0;32m      9\u001b[0m \u001b[1;33m\u001b[0m\u001b[0m\n\u001b[0;32m     10\u001b[0m     \u001b[1;32mdef\u001b[0m \u001b[0mget\u001b[0m\u001b[1;33m(\u001b[0m\u001b[0mself\u001b[0m\u001b[1;33m)\u001b[0m\u001b[1;33m:\u001b[0m\u001b[1;33m\u001b[0m\u001b[1;33m\u001b[0m\u001b[0m\n\u001b[1;32m---> 11\u001b[1;33m         \u001b[1;32mreturn\u001b[0m \u001b[0mself\u001b[0m\u001b[1;33m.\u001b[0m\u001b[0mname\u001b[0m\u001b[1;33m,\u001b[0m\u001b[0mself\u001b[0m\u001b[1;33m.\u001b[0m\u001b[0mage\u001b[0m\u001b[1;33m,\u001b[0m\u001b[0mself\u001b[0m\u001b[1;33m.\u001b[0m\u001b[0madhar\u001b[0m\u001b[1;33m,\u001b[0m\u001b[0mself\u001b[0m\u001b[1;33m.\u001b[0m\u001b[0mcompany_name\u001b[0m\u001b[1;33m,\u001b[0m\u001b[0mself\u001b[0m\u001b[1;33m.\u001b[0m\u001b[0msal_calc\u001b[0m\u001b[1;33m(\u001b[0m\u001b[1;33m)\u001b[0m\u001b[1;33m\u001b[0m\u001b[1;33m\u001b[0m\u001b[0m\n\u001b[0m\u001b[0;32m     12\u001b[0m \u001b[1;33m\u001b[0m\u001b[0m\n\u001b[0;32m     13\u001b[0m     \u001b[1;32mdef\u001b[0m \u001b[0msal_calc\u001b[0m\u001b[1;33m(\u001b[0m\u001b[0mself\u001b[0m\u001b[1;33m)\u001b[0m\u001b[1;33m:\u001b[0m\u001b[1;33m\u001b[0m\u001b[1;33m\u001b[0m\u001b[0m\n",
      "\u001b[1;31mAttributeError\u001b[0m: 'Emp' object has no attribute 'name'"
     ]
    }
   ],
   "source": [
    "class Emp:\n",
    "    company_name=\"Khyaathi\"\n",
    "    def set_data(self, name, age, sal,leaves=0, adhar=None):\n",
    "        self.name=name\n",
    "        self.age=age\n",
    "        self.adhar=adhar\n",
    "        self.sal=sal\n",
    "        self.leaves=leaves\n",
    "    \n",
    "    def get(self):\n",
    "        return self.name,self.age,self.adhar,self.company_name,self.sal_calc()\n",
    "    \n",
    "    def sal_calc(self):\n",
    "        per_day = self.sal//30\n",
    "        leaves_sal = 0\n",
    "        if self.leaves:\n",
    "            leaves_sal = self.leaves*per_day\n",
    "        return self.sal-leaves_sal     \n",
    "jay = Emp() \n",
    "vedha = Emp()\n",
    "jay.set_data(name=\"jayaram\",age=30,sal=120000)\n",
    "vedha.set_data(name=\"Vedhanvesh\",age=26,adhar=\"vedha_adhar\",sal=100000,leaves=3)\n",
    "print(jay.get())\n",
    "print(vedha.get())\n",
    "sai = Emp()\n",
    "print(sai.get())"
   ]
  },
  {
   "cell_type": "code",
   "execution_count": 6,
   "metadata": {},
   "outputs": [
    {
     "name": "stdout",
     "output_type": "stream",
     "text": [
      "this is emp\n"
     ]
    }
   ],
   "source": [
    "class Emp:\n",
    "    print(\"this is emp\")\n"
   ]
  },
  {
   "cell_type": "code",
   "execution_count": 7,
   "metadata": {},
   "outputs": [
    {
     "name": "stdout",
     "output_type": "stream",
     "text": [
      "this is emp\n"
     ]
    }
   ],
   "source": [
    "class Emp:\n",
    "    print(\"this is emp\")\n",
    "    def get(self):\n",
    "        print(\"this is get\")\n"
   ]
  },
  {
   "cell_type": "code",
   "execution_count": 8,
   "metadata": {},
   "outputs": [
    {
     "name": "stdout",
     "output_type": "stream",
     "text": [
      "this is emp\n"
     ]
    }
   ],
   "source": [
    "class Emp:\n",
    "    print(\"this is emp\")\n",
    "    def get(self):\n",
    "        print(\"this is get\")\n",
    "        \n",
    "    def __init__(self):\n",
    "        print(\"this is init\")\n"
   ]
  },
  {
   "cell_type": "code",
   "execution_count": 9,
   "metadata": {},
   "outputs": [
    {
     "name": "stdout",
     "output_type": "stream",
     "text": [
      "this is emp\n",
      "this is init\n"
     ]
    }
   ],
   "source": [
    "class Emp:\n",
    "    print(\"this is emp\")\n",
    "    def get(self):\n",
    "        print(\"this is get\")\n",
    "        \n",
    "    def __init__(self):\n",
    "        print(\"this is init\")\n",
    "\n",
    "jay=Emp()\n"
   ]
  },
  {
   "cell_type": "code",
   "execution_count": 10,
   "metadata": {},
   "outputs": [
    {
     "name": "stdout",
     "output_type": "stream",
     "text": [
      "this is emp\n",
      "this is init\n",
      "this is init\n",
      "this is init\n"
     ]
    }
   ],
   "source": [
    "class Emp:\n",
    "    print(\"this is emp\")\n",
    "    def get(self):\n",
    "        print(\"this is get\")\n",
    "        \n",
    "    def __init__(self):\n",
    "        print(\"this is init\")\n",
    "\n",
    "jay=Emp()\n",
    "vedha = Emp()\n",
    "sai = Emp()"
   ]
  },
  {
   "cell_type": "code",
   "execution_count": 11,
   "metadata": {},
   "outputs": [
    {
     "name": "stdout",
     "output_type": "stream",
     "text": [
      "this is emp\n",
      "this is init\n",
      "this is init\n",
      "this is init\n"
     ]
    }
   ],
   "source": [
    "class Emp:\n",
    "    print(\"this is emp\")\n",
    "    def get(self):\n",
    "        print(\"this is get\")\n",
    "        \n",
    "    def __init__(self):\n",
    "        print(\"this is init\")\n",
    "\n",
    "jay=Emp()\n",
    "\"\"\"\n",
    "it will call the __new__ method, this method returns the data object. this data object will be initialized to jay\n",
    "by using this data object it will call init method: dataobject.__init__()\n",
    "\"\"\"\n",
    "vedha = Emp()\n",
    "sai = Emp()"
   ]
  },
  {
   "cell_type": "code",
   "execution_count": 13,
   "metadata": {},
   "outputs": [
    {
     "name": "stdout",
     "output_type": "stream",
     "text": [
      "this is emp\n",
      "this is init\n",
      "\n"
     ]
    }
   ],
   "source": [
    "class Emp:\n",
    "    print(\"this is emp\")\n",
    "    def get(self):\n",
    "        print(\"this is get\")\n",
    "        \n",
    "    def __init__(self, name, age):\n",
    "        print(\"this is init\")\n",
    "        self.name=name\n",
    "        self.age=age\n",
    "\n",
    "jay=Emp(\"jayaram\",3)\n",
    "\"\"\"\n",
    "it will call the __new__ method, this method returns the data object.\n",
    "by using this data object it will call init method: dataobject.__init__(\"jayaram\",3)\n",
    "\"\"\"\n",
    "print(\"\")"
   ]
  },
  {
   "cell_type": "code",
   "execution_count": 14,
   "metadata": {},
   "outputs": [
    {
     "name": "stdout",
     "output_type": "stream",
     "text": [
      "('jayaram', 30, None, 'Khyaathi', 120000)\n",
      "('Vedhanvesh', 26, 'vedha_adhar', 'Khyaathi', 90001)\n"
     ]
    }
   ],
   "source": [
    "class Emp:\n",
    "    company_name=\"Khyaathi\"\n",
    "    def __init__(self, name, age, sal,leaves=0, adhar=None):\n",
    "        self.name=name\n",
    "        self.age=age\n",
    "        self.adhar=adhar\n",
    "        self.sal=sal\n",
    "        self.leaves=leaves\n",
    "    \n",
    "    def get(self):\n",
    "        return self.name,self.age,self.adhar,self.company_name,self.sal_calc()\n",
    "    \n",
    "    def sal_calc(self):\n",
    "        per_day = self.sal//30\n",
    "        leaves_sal = 0\n",
    "        if self.leaves:\n",
    "            leaves_sal = self.leaves*per_day\n",
    "        return self.sal-leaves_sal     \n",
    "jay = Emp(name=\"jayaram\",age=30,sal=120000) \n",
    "vedha = Emp(name=\"Vedhanvesh\",age=26,adhar=\"vedha_adhar\",sal=100000,leaves=3)\n",
    "print(jay.get())\n",
    "print(vedha.get())"
   ]
  },
  {
   "cell_type": "code",
   "execution_count": 15,
   "metadata": {},
   "outputs": [
    {
     "name": "stdout",
     "output_type": "stream",
     "text": [
      "('jayaram', 30, None, 'Khyaathi', 120000)\n",
      "('Vedhanvesh', 26, 'vedha_adhar', 'Khyaathi', 90001)\n"
     ]
    },
    {
     "ename": "TypeError",
     "evalue": "__init__() missing 3 required positional arguments: 'name', 'age', and 'sal'",
     "output_type": "error",
     "traceback": [
      "\u001b[1;31m---------------------------------------------------------------------------\u001b[0m",
      "\u001b[1;31mTypeError\u001b[0m                                 Traceback (most recent call last)",
      "\u001b[1;32m<ipython-input-15-0508bac34d29>\u001b[0m in \u001b[0;36m<module>\u001b[1;34m\u001b[0m\n\u001b[0;32m     21\u001b[0m \u001b[0mprint\u001b[0m\u001b[1;33m(\u001b[0m\u001b[0mjay\u001b[0m\u001b[1;33m.\u001b[0m\u001b[0mget\u001b[0m\u001b[1;33m(\u001b[0m\u001b[1;33m)\u001b[0m\u001b[1;33m)\u001b[0m\u001b[1;33m\u001b[0m\u001b[1;33m\u001b[0m\u001b[0m\n\u001b[0;32m     22\u001b[0m \u001b[0mprint\u001b[0m\u001b[1;33m(\u001b[0m\u001b[0mvedha\u001b[0m\u001b[1;33m.\u001b[0m\u001b[0mget\u001b[0m\u001b[1;33m(\u001b[0m\u001b[1;33m)\u001b[0m\u001b[1;33m)\u001b[0m\u001b[1;33m\u001b[0m\u001b[1;33m\u001b[0m\u001b[0m\n\u001b[1;32m---> 23\u001b[1;33m \u001b[0msai\u001b[0m \u001b[1;33m=\u001b[0m \u001b[0mEmp\u001b[0m\u001b[1;33m(\u001b[0m\u001b[1;33m)\u001b[0m\u001b[1;33m\u001b[0m\u001b[1;33m\u001b[0m\u001b[0m\n\u001b[0m",
      "\u001b[1;31mTypeError\u001b[0m: __init__() missing 3 required positional arguments: 'name', 'age', and 'sal'"
     ]
    }
   ],
   "source": [
    "class Emp:\n",
    "    company_name=\"Khyaathi\"\n",
    "    def __init__(self, name, age, sal,leaves=0, adhar=None):\n",
    "        self.name=name\n",
    "        self.age=age\n",
    "        self.adhar=adhar\n",
    "        self.sal=sal\n",
    "        self.leaves=leaves\n",
    "    \n",
    "    def get(self):\n",
    "        return self.name,self.age,self.adhar,self.company_name,self.sal_calc()\n",
    "    \n",
    "    def sal_calc(self):\n",
    "        per_day = self.sal//30\n",
    "        leaves_sal = 0\n",
    "        if self.leaves:\n",
    "            leaves_sal = self.leaves*per_day\n",
    "        return self.sal-leaves_sal     \n",
    "jay = Emp(name=\"jayaram\",age=30,sal=120000) \n",
    "vedha = Emp(name=\"Vedhanvesh\",age=26,adhar=\"vedha_adhar\",sal=100000,leaves=3)\n",
    "print(jay.get())\n",
    "print(vedha.get())\n",
    "sai = Emp()"
   ]
  },
  {
   "cell_type": "code",
   "execution_count": 17,
   "metadata": {},
   "outputs": [
    {
     "ename": "TypeError",
     "evalue": "__init__() should return None, not 'str'",
     "output_type": "error",
     "traceback": [
      "\u001b[1;31m---------------------------------------------------------------------------\u001b[0m",
      "\u001b[1;31mTypeError\u001b[0m                                 Traceback (most recent call last)",
      "\u001b[1;32m<ipython-input-17-ab1f05b583e5>\u001b[0m in \u001b[0;36m<module>\u001b[1;34m\u001b[0m\n\u001b[0;32m     18\u001b[0m             \u001b[0mleaves_sal\u001b[0m \u001b[1;33m=\u001b[0m \u001b[0mself\u001b[0m\u001b[1;33m.\u001b[0m\u001b[0mleaves\u001b[0m\u001b[1;33m*\u001b[0m\u001b[0mper_day\u001b[0m\u001b[1;33m\u001b[0m\u001b[1;33m\u001b[0m\u001b[0m\n\u001b[0;32m     19\u001b[0m         \u001b[1;32mreturn\u001b[0m \u001b[0mself\u001b[0m\u001b[1;33m.\u001b[0m\u001b[0msal\u001b[0m\u001b[1;33m-\u001b[0m\u001b[0mleaves_sal\u001b[0m\u001b[1;33m\u001b[0m\u001b[1;33m\u001b[0m\u001b[0m\n\u001b[1;32m---> 20\u001b[1;33m \u001b[0mjay\u001b[0m \u001b[1;33m=\u001b[0m \u001b[0mEmp\u001b[0m\u001b[1;33m(\u001b[0m\u001b[0mname\u001b[0m\u001b[1;33m=\u001b[0m\u001b[1;34m\"jayaram\"\u001b[0m\u001b[1;33m,\u001b[0m\u001b[0mage\u001b[0m\u001b[1;33m=\u001b[0m\u001b[1;36m30\u001b[0m\u001b[1;33m,\u001b[0m\u001b[0msal\u001b[0m\u001b[1;33m=\u001b[0m\u001b[1;36m120000\u001b[0m\u001b[1;33m)\u001b[0m\u001b[1;33m\u001b[0m\u001b[1;33m\u001b[0m\u001b[0m\n\u001b[0m\u001b[0;32m     21\u001b[0m \u001b[0mvedha\u001b[0m \u001b[1;33m=\u001b[0m \u001b[0mEmp\u001b[0m\u001b[1;33m(\u001b[0m\u001b[0mname\u001b[0m\u001b[1;33m=\u001b[0m\u001b[1;34m\"Vedhanvesh\"\u001b[0m\u001b[1;33m,\u001b[0m\u001b[0mage\u001b[0m\u001b[1;33m=\u001b[0m\u001b[1;36m26\u001b[0m\u001b[1;33m,\u001b[0m\u001b[0madhar\u001b[0m\u001b[1;33m=\u001b[0m\u001b[1;34m\"vedha_adhar\"\u001b[0m\u001b[1;33m,\u001b[0m\u001b[0msal\u001b[0m\u001b[1;33m=\u001b[0m\u001b[1;36m100000\u001b[0m\u001b[1;33m,\u001b[0m\u001b[0mleaves\u001b[0m\u001b[1;33m=\u001b[0m\u001b[1;36m3\u001b[0m\u001b[1;33m)\u001b[0m\u001b[1;33m\u001b[0m\u001b[1;33m\u001b[0m\u001b[0m\n\u001b[0;32m     22\u001b[0m \u001b[0mprint\u001b[0m\u001b[1;33m(\u001b[0m\u001b[0mjay\u001b[0m\u001b[1;33m.\u001b[0m\u001b[0mget\u001b[0m\u001b[1;33m(\u001b[0m\u001b[1;33m)\u001b[0m\u001b[1;33m)\u001b[0m\u001b[1;33m\u001b[0m\u001b[1;33m\u001b[0m\u001b[0m\n",
      "\u001b[1;31mTypeError\u001b[0m: __init__() should return None, not 'str'"
     ]
    }
   ],
   "source": [
    "class Emp:\n",
    "    company_name=\"Khyaathi\"\n",
    "    def __init__(self, name, age, sal,leaves=0, adhar=None):\n",
    "        self.name=name\n",
    "        self.age=age\n",
    "        self.adhar=adhar\n",
    "        self.sal=sal\n",
    "        self.leaves=leaves\n",
    "        return \"sdfsdf\"\n",
    "    \n",
    "    def get(self):\n",
    "        return self.name,self.age,self.adhar,self.company_name,self.sal_calc()\n",
    "    \n",
    "    def sal_calc(self):\n",
    "        per_day = self.sal//30\n",
    "        leaves_sal = 0\n",
    "        if self.leaves:\n",
    "            leaves_sal = self.leaves*per_day\n",
    "        return self.sal-leaves_sal     \n",
    "jay = Emp(name=\"jayaram\",age=30,sal=120000) \n",
    "vedha = Emp(name=\"Vedhanvesh\",age=26,adhar=\"vedha_adhar\",sal=100000,leaves=3)\n",
    "print(jay.get())\n",
    "print(vedha.get())"
   ]
  },
  {
   "cell_type": "code",
   "execution_count": 18,
   "metadata": {},
   "outputs": [
    {
     "name": "stdout",
     "output_type": "stream",
     "text": [
      "('jayaram', 30, None, 'Khyaathi', 120000)\n",
      "('Vedhanvesh', 26, 'vedha_adhar', 'Khyaathi', 90001)\n"
     ]
    }
   ],
   "source": [
    "class Emp:\n",
    "    company_name=\"Khyaathi\"\n",
    "    def __init__(self, name, age, sal,leaves=0, adhar=None):\n",
    "        self.name=name\n",
    "        self.age=age\n",
    "        self.adhar=adhar\n",
    "        self.sal=sal\n",
    "        self.leaves=leaves\n",
    "    \n",
    "    def get(self):\n",
    "        return self.name,self.age,self.adhar,self.company_name,self.sal_calc()\n",
    "    \n",
    "    def sal_calc(self):\n",
    "        per_day = self.sal//30\n",
    "        leaves_sal = 0\n",
    "        if self.leaves:\n",
    "            leaves_sal = self.leaves*per_day\n",
    "        return self.sal-leaves_sal     \n",
    "jay = Emp(name=\"jayaram\",age=30,sal=120000) \n",
    "vedha = Emp(name=\"Vedhanvesh\",age=26,adhar=\"vedha_adhar\",sal=100000,leaves=3)\n",
    "print(jay.get())\n",
    "print(vedha.get())"
   ]
  },
  {
   "cell_type": "code",
   "execution_count": 19,
   "metadata": {},
   "outputs": [
    {
     "name": "stdout",
     "output_type": "stream",
     "text": [
      "60\n",
      "-40\n",
      "6000\n"
     ]
    }
   ],
   "source": [
    "# write a class to take three numbers(x,y,z) and write methods for operations: summation, multiplication, division.\n",
    "# write operations method to call all the operations.\n",
    "class Math:\n",
    "    def __init__(self,a,b,c):\n",
    "        self.x=a\n",
    "        self.y=b\n",
    "        self.z=c\n",
    "        \n",
    "    def add(self): # self=o1\n",
    "        return self.x+self.y+self.z\n",
    "    def sub(self):\n",
    "        return self.x-self.y-self.z\n",
    "    def mul(self):\n",
    "        return self.x*self.y*self.z\n",
    "    \n",
    "o1 = Math(10,20,30) # it will add x=10,y=20,z=30 attributes to o1.\n",
    "print(o1.add()) # Math.add(o1)\n",
    "print(o1.sub())\n",
    "\n",
    "print(o1.mul())"
   ]
  },
  {
   "cell_type": "code",
   "execution_count": 20,
   "metadata": {},
   "outputs": [
    {
     "data": {
      "text/plain": [
       "(60, 6000, -40)"
      ]
     },
     "execution_count": 20,
     "metadata": {},
     "output_type": "execute_result"
    }
   ],
   "source": [
    "# write a class to take three numbers(x,y,z) and write methods for operations: summation, multiplication, division.\n",
    "# write operations method to call all the operations.\n",
    "class Math:\n",
    "    def __init__(self,a,b,c):\n",
    "        self.x=a\n",
    "        self.y=b\n",
    "        self.z=c\n",
    "        \n",
    "    def add(self): # self=o1\n",
    "        return self.x+self.y+self.z\n",
    "    def sub(self):\n",
    "        return self.x-self.y-self.z\n",
    "    def mul(self):\n",
    "        return self.x*self.y*self.z\n",
    "    def operations(self):\n",
    "        return (self.add(), self.mul(), self.sub())\n",
    "    \n",
    "o1 = Math(10,20,30) # it will add x=10,y=20,z=30 attributes to o1.\n",
    "o1.operations() # Math.operations(o1)"
   ]
  },
  {
   "cell_type": "code",
   "execution_count": 21,
   "metadata": {},
   "outputs": [
    {
     "data": {
      "text/plain": [
       "{'sum': 60, 'sub': 6000, 'mul': -40}"
      ]
     },
     "execution_count": 21,
     "metadata": {},
     "output_type": "execute_result"
    }
   ],
   "source": [
    "# write a class to take three numbers(x,y,z) and write methods for operations: summation, multiplication, division.\n",
    "# write operations method to call all the operations.\n",
    "class Math:\n",
    "    def __init__(self,a,b,c):\n",
    "        self.x=a\n",
    "        self.y=b\n",
    "        self.z=c\n",
    "        \n",
    "    def add(self): # self=o1\n",
    "        return self.x+self.y+self.z\n",
    "    def sub(self):\n",
    "        return self.x-self.y-self.z\n",
    "    def mul(self):\n",
    "        return self.x*self.y*self.z\n",
    "    def operations(self):\n",
    "        return {\"sum\":self.add(), \"sub\":self.mul(), \"mul\":self.sub()}\n",
    "    \n",
    "o1 = Math(10,20,30) # it will add x=10,y=20,z=30 attributes to o1.\n",
    "o1.operations() # Math.operations(o1)"
   ]
  },
  {
   "cell_type": "code",
   "execution_count": 25,
   "metadata": {},
   "outputs": [
    {
     "data": {
      "text/plain": [
       "Result(sum=60, sub=-40, mul=6000)"
      ]
     },
     "execution_count": 25,
     "metadata": {},
     "output_type": "execute_result"
    }
   ],
   "source": [
    "# write a class to take three numbers(x,y,z) and write methods for operations: summation, multiplication, division.\n",
    "# write operations method to call all the operations.\n",
    "from collections import namedtuple\n",
    "class Math:\n",
    "    def __init__(self,a,b,c):\n",
    "        self.x=a\n",
    "        self.y=b\n",
    "        self.z=c\n",
    "        \n",
    "    def add(self): # self=o1\n",
    "        return self.x+self.y+self.z\n",
    "    def sub(self):\n",
    "        return self.x-self.y-self.z\n",
    "    def mul(self):\n",
    "        return self.x*self.y*self.z\n",
    "    def operations(self):\n",
    "        res = namedtuple(\"Result\",[\"sum\",\"sub\",\"mul\"])\n",
    "        return res(self.add(), self.sub(), self.mul())\n",
    "    \n",
    "o1 = Math(10,20,30) # it will add x=10,y=20,z=30 attributes to o1.\n",
    "o1.operations() # Math.operations(o1)"
   ]
  },
  {
   "cell_type": "code",
   "execution_count": 1,
   "metadata": {},
   "outputs": [],
   "source": [
    "class Person:\n",
    "    def __init__(self, name, dob, adhar=None):\n",
    "        self.name=name\n",
    "        self.dob=dob\n",
    "        self.adhar=adhar\n",
    "    def get(self):\n",
    "        return self.name, self.dob,self.adhar\n",
    "    def change_name(self, new_name):\n",
    "        self.name=new_name\n",
    "    def get_age(self):\n",
    "        return 2\n",
    "        \n",
    "class Employee:\n",
    "    def __init__(self, name, dob, empid,adhar=None):\n",
    "        self.name=name\n",
    "        self.dob=dob\n",
    "        self.empid=empid\n",
    "        self.adhar=adhar\n",
    "    def get_emp(self):\n",
    "        return self.name, self.dob,self.adhar, self.empid\n",
    "    def get_employee_age(self):\n",
    "        return 20\n",
    "    \n",
    "class Student:\n",
    "    def __init__(self, name, dob, school, studentid, adhar=None):\n",
    "        self.name=name\n",
    "        self.dob=dob\n",
    "        self.adhar=adhar\n",
    "        self.school=school\n",
    "        self.studentid=studentid\n",
    "    def get_student(self):\n",
    "        return self.name, self.dob,self.adhar, self.school, self.studentid\n",
    "    \n",
    "    def get_student_age(self):\n",
    "        return 20"
   ]
  },
  {
   "cell_type": "code",
   "execution_count": 3,
   "metadata": {},
   "outputs": [
    {
     "name": "stdout",
     "output_type": "stream",
     "text": [
      "jayaram\n"
     ]
    }
   ],
   "source": [
    "class Person:\n",
    "    def __init__(self, name, dob, adhar=None):\n",
    "        self.name=name\n",
    "        self.dob=dob\n",
    "        self.adhar=adhar\n",
    "    def get(self):\n",
    "        return self.name, self.dob,self.adhar\n",
    "    def change_name(self, new_name):\n",
    "        self.name=new_name\n",
    "    def get_age(self):\n",
    "        return 2\n",
    "        \n",
    "class Employee:\n",
    "    def __init__(self, name, dob, empid,adhar=None):\n",
    "        self.name=name\n",
    "        self.dob=dob\n",
    "        self.empid=empid\n",
    "        self.adhar=adhar\n",
    "    def change_name(self, new_name):\n",
    "        p=Person(self.name,self.dob)\n",
    "        return p.change_name(new_name)\n",
    "    \n",
    "class Student:\n",
    "    def __init__(self, name, dob, school, studentid, adhar=None):\n",
    "        self.name=name\n",
    "        self.dob=dob\n",
    "        self.adhar=adhar\n",
    "        self.school=school\n",
    "        self.studentid=studentid\n",
    "jay = Employee(\"jayaram\",\"2000-01-01\",\"123\")\n",
    "jay.change_name(\"JAYARAM\")\n",
    "print(jay.name)"
   ]
  },
  {
   "cell_type": "code",
   "execution_count": 4,
   "metadata": {},
   "outputs": [
    {
     "name": "stdout",
     "output_type": "stream",
     "text": [
      "JAYARAM\n"
     ]
    }
   ],
   "source": [
    "class Person:\n",
    "    def __init__(self, name, dob, adhar=None):\n",
    "        self.name=name\n",
    "        self.dob=dob\n",
    "        self.adhar=adhar\n",
    "    def get(self):\n",
    "        return self.name, self.dob,self.adhar\n",
    "    def change_name(self, new_name):\n",
    "        self.name=new_name\n",
    "    def get_age(self):\n",
    "        return 2\n",
    "        \n",
    "class Employee(Person):\n",
    "    def __init__(self, name, dob, empid,adhar=None):\n",
    "        Person.__init__(self,name,dob,adhar)\n",
    "        self.empid=empid\n",
    "    \n",
    "class Student:\n",
    "    def __init__(self, name, dob, school, studentid, adhar=None):\n",
    "        self.name=name\n",
    "        self.dob=dob\n",
    "        self.adhar=adhar\n",
    "        self.school=school\n",
    "        self.studentid=studentid\n",
    "jay = Employee(\"jayaram\",\"2000-01-01\",\"123\")\n",
    "jay.change_name(\"JAYARAM\")\n",
    "print(jay.name)"
   ]
  },
  {
   "cell_type": "code",
   "execution_count": null,
   "metadata": {},
   "outputs": [],
   "source": [
    "class Person:\n",
    "    def __init__(self, name, dob, adhar=None):\n",
    "        self.name=name\n",
    "        self.dob=dob\n",
    "        self.adhar=adhar\n",
    "    def get(self):\n",
    "        return self.name, self.dob,self.adhar\n",
    "    def change_name(self, new_name):\n",
    "        self.name=new_name\n",
    "    def get_age(self):\n",
    "        return 2\n",
    "        \n",
    "class Employee(Person):\n",
    "    def __init__(self, name, dob, empid,adhar=None):\n",
    "        Person.__init__(self,name,dob,adhar)\n",
    "        self.empid=empid\n",
    "    \n",
    "class Student:\n",
    "    def __init__(self, name, dob, school, studentid, adhar=None):\n",
    "        Person.__init__(self,name,dob,adhar)\n",
    "        self.school=school\n",
    "        self.studentid=studentid\n",
    "jay = Employee(\"jayaram\",\"2000-01-01\",\"123\")\n",
    "jay.change_name(\"JAYARAM\")\n",
    "print(jay.name)"
   ]
  },
  {
   "cell_type": "code",
   "execution_count": 2,
   "metadata": {},
   "outputs": [
    {
     "name": "stdout",
     "output_type": "stream",
     "text": [
      "inserting the data\n",
      "inserting the data\n"
     ]
    }
   ],
   "source": [
    "class DB:\n",
    "    def __init__(self, data):\n",
    "        self.data=data\n",
    "    def insert(self):\n",
    "        print(\"inserting the data\")\n",
    "class Employee(DB):\n",
    "    pass\n",
    "class Student(DB):\n",
    "    pass\n",
    "e1=Employee({\"name\":\"jay\",\"age\":23})\n",
    "s1=Student({\"name\":\"jay\",\"age\":12})\n",
    "\n",
    "e1.insert()\n",
    "s1.insert()"
   ]
  },
  {
   "cell_type": "code",
   "execution_count": 3,
   "metadata": {},
   "outputs": [
    {
     "name": "stdout",
     "output_type": "stream",
     "text": [
      "inserting the data\n",
      "inserting the data\n",
      "invalid data\n"
     ]
    }
   ],
   "source": [
    "class DB:\n",
    "    def __init__(self, data):\n",
    "        self.data=data\n",
    "    def insert(self):\n",
    "        print(\"inserting the data\")\n",
    "class Employee(DB):\n",
    "    def validate_insert(self):\n",
    "        if self.data.get(\"age\")>19:\n",
    "            print(\"inserting the data\")\n",
    "        else:\n",
    "            print(\"invalid data\")\n",
    "class Student(DB):\n",
    "    pass\n",
    "e1=Employee({\"name\":\"jay\",\"age\":23})\n",
    "s1=Student({\"name\":\"jay\",\"age\":12})\n",
    "e2=Employee({\"name\":\"jay\",\"age\":18})\n",
    "e1.validate_insert()\n",
    "s1.insert()\n",
    "e2.validate_insert()"
   ]
  },
  {
   "cell_type": "code",
   "execution_count": 4,
   "metadata": {},
   "outputs": [
    {
     "name": "stdout",
     "output_type": "stream",
     "text": [
      "inserting the data\n",
      "inserting the data\n",
      "invalid data\n"
     ]
    }
   ],
   "source": [
    "class DB:\n",
    "    def __init__(self, data):\n",
    "        self.data=data\n",
    "    def insert(self):\n",
    "        print(\"inserting the data\")\n",
    "class Employee(DB):\n",
    "    def validate_insert(self):\n",
    "        if self.data.get(\"age\")>19:\n",
    "            self.insert()\n",
    "        else:\n",
    "            print(\"invalid data\")\n",
    "class Student(DB):\n",
    "    pass\n",
    "e1=Employee({\"name\":\"jay\",\"age\":23})\n",
    "s1=Student({\"name\":\"jay\",\"age\":12})\n",
    "e2=Employee({\"name\":\"jay\",\"age\":18})\n",
    "e1.validate_insert()\n",
    "s1.insert()\n",
    "e2.validate_insert()"
   ]
  },
  {
   "cell_type": "code",
   "execution_count": 5,
   "metadata": {},
   "outputs": [
    {
     "name": "stdout",
     "output_type": "stream",
     "text": [
      "inserting the data\n",
      "inserting the data\n",
      "invalid data\n",
      "inserting the data\n"
     ]
    }
   ],
   "source": [
    "class DB:\n",
    "    def __init__(self, data):\n",
    "        self.data=data\n",
    "    def insert(self):\n",
    "        print(\"inserting the data\")\n",
    "class Employee(DB):\n",
    "    def validate_insert(self):\n",
    "        if self.data.get(\"age\")>19:\n",
    "            self.insert()\n",
    "        else:\n",
    "            print(\"invalid data\")\n",
    "class Student(DB):\n",
    "    pass\n",
    "e1=Employee({\"name\":\"jay\",\"age\":23})\n",
    "s1=Student({\"name\":\"jay\",\"age\":12})\n",
    "e2=Employee({\"name\":\"jay\",\"age\":18})\n",
    "e1.validate_insert()\n",
    "s1.insert()\n",
    "e2.validate_insert()\n",
    "e3=Employee({\"name\":\"name\",\"age\":12})\n",
    "e3.insert()"
   ]
  },
  {
   "cell_type": "code",
   "execution_count": null,
   "metadata": {},
   "outputs": [],
   "source": [
    "class DB:\n",
    "    def __init__(self, data):\n",
    "        self.data=data\n",
    "    def insert(self):\n",
    "        print(\"inserting the data\")\n",
    "class Employee(DB):\n",
    "    def insert(self):\n",
    "        if self.data.get(\"age\")>19:\n",
    "            self.insert# it becomes an infinite function calls, i.e calling the same class method: inseert in insert\n",
    "        else:\n",
    "            print(\"invalid data\")\n",
    "class Student(DB):\n",
    "    pass\n",
    "e1=Employee({\"name\":\"jay\",\"age\":23})\n",
    "s1=Student({\"name\":\"jay\",\"age\":12})\n",
    "e2=Employee({\"name\":\"jay\",\"age\":18})\n",
    "e1.validate_insert()\n",
    "s1.insert()\n",
    "e2.validate_insert()\n",
    "e3=Employee({\"name\":\"name\",\"age\":12})\n",
    "e3.insert()"
   ]
  },
  {
   "cell_type": "code",
   "execution_count": 8,
   "metadata": {},
   "outputs": [
    {
     "name": "stdout",
     "output_type": "stream",
     "text": [
      "inserting the data\n",
      "inserting the data\n",
      "invalid data\n",
      "invalid data\n"
     ]
    }
   ],
   "source": [
    "class DB:\n",
    "    def __init__(self, data):\n",
    "        self.data=data\n",
    "    def insert(self):\n",
    "        print(\"inserting the data\")\n",
    "class Employee(DB):\n",
    "    def insert(self):\n",
    "        if self.data.get(\"age\")>19:\n",
    "            DB.insert(self)\n",
    "        else:\n",
    "            print(\"invalid data\")\n",
    "class Student(DB):\n",
    "    pass\n",
    "e1=Employee({\"name\":\"jay\",\"age\":23})\n",
    "s1=Student({\"name\":\"jay\",\"age\":12})\n",
    "e2=Employee({\"name\":\"jay\",\"age\":18})\n",
    "e1.insert()\n",
    "s1.insert()\n",
    "e2.insert()\n",
    "e3=Employee({\"name\":\"name\",\"age\":12})\n",
    "e3.insert()"
   ]
  },
  {
   "cell_type": "code",
   "execution_count": 9,
   "metadata": {},
   "outputs": [
    {
     "name": "stdout",
     "output_type": "stream",
     "text": [
      "inserting the data\n",
      "inserting the data\n",
      "invalid data\n",
      "invalid data\n"
     ]
    }
   ],
   "source": [
    "class DB:\n",
    "    def __init__(self, data):\n",
    "        self.data=data\n",
    "    def insert(self):\n",
    "        print(\"inserting the data\")\n",
    "class Employee(DB):\n",
    "    def insert(self):\n",
    "        # overriding insert method in Employee\n",
    "        if self.data.get(\"age\")>19:\n",
    "            #DB.insert(self)\n",
    "            super(Employee,self).insert()\n",
    "        else:\n",
    "            print(\"invalid data\")\n",
    "class Student(DB):\n",
    "    pass\n",
    "e1=Employee({\"name\":\"jay\",\"age\":23})\n",
    "s1=Student({\"name\":\"jay\",\"age\":12})\n",
    "e2=Employee({\"name\":\"jay\",\"age\":18})\n",
    "e1.insert()\n",
    "s1.insert()\n",
    "e2.insert()\n",
    "e3=Employee({\"name\":\"name\",\"age\":12})\n",
    "e3.insert()"
   ]
  },
  {
   "cell_type": "code",
   "execution_count": 10,
   "metadata": {},
   "outputs": [],
   "source": [
    "# method overloading\n",
    "class DB:\n",
    "    def __init__(self, name,age,adhar=None, *data, **context):\n",
    "        self.name=name\n",
    "        self.age=age\n",
    "        self.adhar=adhar\n",
    "        self.data=data\n",
    "        self.context=context\n",
    "        \n",
    "d1=DB(name=\"jay\",age=3)\n",
    "d2=DB(name=\"vedha\",age=2,adhar=\"sdfsdfd\")\n",
    "d3=DB(name=\"sai\",age=32,adhar=\"sdfsd\",passport=\"23525\")"
   ]
  },
  {
   "cell_type": "code",
   "execution_count": 12,
   "metadata": {},
   "outputs": [
    {
     "name": "stdout",
     "output_type": "stream",
     "text": [
      "30\n",
      "pythonprogram\n",
      "[1, 2, 3, 4, 5, 6, 7, 8]\n",
      "(3+5j)\n"
     ]
    }
   ],
   "source": [
    "#operator overloading\n",
    "a=10\n",
    "b=20\n",
    "print(a+b) # +\n",
    "s1=\"python\"\n",
    "s2=\"program\"\n",
    "print(s1+s2) # +\n",
    "l1=[1,2,3,4]\n",
    "l2=[5,6,7,8]\n",
    "print(l1+l2) # +\n",
    "c1=1+2j #+\n",
    "c2=2+3j #+\n",
    "print(c1+c2) #+"
   ]
  },
  {
   "cell_type": "code",
   "execution_count": 13,
   "metadata": {},
   "outputs": [
    {
     "ename": "TypeError",
     "evalue": "unsupported operand type(s) for +: 'dict' and 'dict'",
     "output_type": "error",
     "traceback": [
      "\u001b[1;31m---------------------------------------------------------------------------\u001b[0m",
      "\u001b[1;31mTypeError\u001b[0m                                 Traceback (most recent call last)",
      "\u001b[1;32m<ipython-input-13-e67189ef2c84>\u001b[0m in \u001b[0;36m<module>\u001b[1;34m\u001b[0m\n\u001b[0;32m      1\u001b[0m \u001b[0md1\u001b[0m\u001b[1;33m=\u001b[0m\u001b[1;33m{\u001b[0m\u001b[1;36m1\u001b[0m\u001b[1;33m:\u001b[0m\u001b[1;36m2\u001b[0m\u001b[1;33m,\u001b[0m\u001b[1;36m3\u001b[0m\u001b[1;33m:\u001b[0m\u001b[1;36m4\u001b[0m\u001b[1;33m}\u001b[0m\u001b[1;33m\u001b[0m\u001b[1;33m\u001b[0m\u001b[0m\n\u001b[0;32m      2\u001b[0m \u001b[0md2\u001b[0m\u001b[1;33m=\u001b[0m\u001b[1;33m{\u001b[0m\u001b[1;36m5\u001b[0m\u001b[1;33m:\u001b[0m\u001b[1;36m6\u001b[0m\u001b[1;33m,\u001b[0m\u001b[1;36m7\u001b[0m\u001b[1;33m:\u001b[0m\u001b[1;36m8\u001b[0m\u001b[1;33m}\u001b[0m\u001b[1;33m\u001b[0m\u001b[1;33m\u001b[0m\u001b[0m\n\u001b[1;32m----> 3\u001b[1;33m \u001b[0md1\u001b[0m\u001b[1;33m+\u001b[0m\u001b[0md2\u001b[0m\u001b[1;33m\u001b[0m\u001b[1;33m\u001b[0m\u001b[0m\n\u001b[0m",
      "\u001b[1;31mTypeError\u001b[0m: unsupported operand type(s) for +: 'dict' and 'dict'"
     ]
    }
   ],
   "source": [
    "d1={1:2,3:4}\n",
    "d2={5:6,7:8}\n",
    "d1+d2"
   ]
  },
  {
   "cell_type": "code",
   "execution_count": 14,
   "metadata": {},
   "outputs": [
    {
     "name": "stdout",
     "output_type": "stream",
     "text": [
      "30\n"
     ]
    },
    {
     "ename": "TypeError",
     "evalue": "unsupported operand type(s) for +: 'DB' and 'DB'",
     "output_type": "error",
     "traceback": [
      "\u001b[1;31m---------------------------------------------------------------------------\u001b[0m",
      "\u001b[1;31mTypeError\u001b[0m                                 Traceback (most recent call last)",
      "\u001b[1;32m<ipython-input-14-9e310a66b03c>\u001b[0m in \u001b[0;36m<module>\u001b[1;34m\u001b[0m\n\u001b[0;32m     13\u001b[0m \u001b[0md1\u001b[0m\u001b[1;33m=\u001b[0m\u001b[0mDB\u001b[0m\u001b[1;33m(\u001b[0m\u001b[0mname\u001b[0m\u001b[1;33m=\u001b[0m\u001b[1;34m\"jay\"\u001b[0m\u001b[1;33m,\u001b[0m\u001b[0mage\u001b[0m\u001b[1;33m=\u001b[0m\u001b[1;36m3\u001b[0m\u001b[1;33m)\u001b[0m\u001b[1;33m\u001b[0m\u001b[1;33m\u001b[0m\u001b[0m\n\u001b[0;32m     14\u001b[0m \u001b[0md2\u001b[0m\u001b[1;33m=\u001b[0m\u001b[0mDB\u001b[0m\u001b[1;33m(\u001b[0m\u001b[0mname\u001b[0m\u001b[1;33m=\u001b[0m\u001b[1;34m\"vedha\"\u001b[0m\u001b[1;33m,\u001b[0m\u001b[0mage\u001b[0m\u001b[1;33m=\u001b[0m\u001b[1;36m2\u001b[0m\u001b[1;33m,\u001b[0m\u001b[0madhar\u001b[0m\u001b[1;33m=\u001b[0m\u001b[1;34m\"sdfsdfd\"\u001b[0m\u001b[1;33m)\u001b[0m\u001b[1;33m\u001b[0m\u001b[1;33m\u001b[0m\u001b[0m\n\u001b[1;32m---> 15\u001b[1;33m \u001b[0mprint\u001b[0m\u001b[1;33m(\u001b[0m\u001b[0md1\u001b[0m\u001b[1;33m+\u001b[0m\u001b[0md2\u001b[0m\u001b[1;33m)\u001b[0m\u001b[1;33m\u001b[0m\u001b[1;33m\u001b[0m\u001b[0m\n\u001b[0m",
      "\u001b[1;31mTypeError\u001b[0m: unsupported operand type(s) for +: 'DB' and 'DB'"
     ]
    }
   ],
   "source": [
    "a=10\n",
    "b=20\n",
    "print(a+b)\n",
    "# operator overloading\n",
    "class DB:\n",
    "    def __init__(self, name,age,adhar=None, *data, **context):\n",
    "        self.name=name\n",
    "        self.age=age\n",
    "        self.adhar=adhar\n",
    "        self.data=data\n",
    "        self.context=context\n",
    "        \n",
    "d1=DB(name=\"jay\",age=3)\n",
    "d2=DB(name=\"vedha\",age=2,adhar=\"sdfsdfd\")\n",
    "print(d1+d2)\n"
   ]
  },
  {
   "cell_type": "code",
   "execution_count": 15,
   "metadata": {},
   "outputs": [],
   "source": [
    "a=10\n",
    "a=int(10)"
   ]
  },
  {
   "cell_type": "code",
   "execution_count": 16,
   "metadata": {},
   "outputs": [
    {
     "name": "stdout",
     "output_type": "stream",
     "text": [
      "20\n"
     ]
    }
   ],
   "source": [
    "a=int(10)\n",
    "b=int(10)\n",
    "print(a+b)"
   ]
  },
  {
   "cell_type": "code",
   "execution_count": 17,
   "metadata": {},
   "outputs": [
    {
     "data": {
      "text/plain": [
       "['1', '2', '3', '3', '4', '5']"
      ]
     },
     "execution_count": 17,
     "metadata": {},
     "output_type": "execute_result"
    }
   ],
   "source": [
    "a=list(\"123\")\n",
    "b=list(\"345\")\n",
    "a+b"
   ]
  },
  {
   "cell_type": "code",
   "execution_count": 18,
   "metadata": {},
   "outputs": [
    {
     "name": "stdout",
     "output_type": "stream",
     "text": [
      "30\n",
      "20\n"
     ]
    }
   ],
   "source": [
    "a=10\n",
    "b=20\n",
    "print(a+b)\n",
    "# operator overloading\n",
    "class DB:\n",
    "    def __init__(self, name,age,adhar=None, *data, **context):\n",
    "        self.name=name\n",
    "        self.age=age\n",
    "        self.adhar=adhar\n",
    "        self.data=data\n",
    "        self.context=context\n",
    "    def __add__(self1,self2): # meta methods, \n",
    "        return 20\n",
    "        \n",
    "d1=DB(name=\"jay\",age=3)\n",
    "d2=DB(name=\"vedha\",age=2,adhar=\"sdfsdfd\")\n",
    "print(d1+d2)\n"
   ]
  },
  {
   "cell_type": "code",
   "execution_count": 19,
   "metadata": {},
   "outputs": [
    {
     "name": "stdout",
     "output_type": "stream",
     "text": [
      "['__abs__', '__add__', '__and__', '__bool__', '__ceil__', '__class__', '__delattr__', '__dir__', '__divmod__', '__doc__', '__eq__', '__float__', '__floor__', '__floordiv__', '__format__', '__ge__', '__getattribute__', '__getnewargs__', '__gt__', '__hash__', '__index__', '__init__', '__init_subclass__', '__int__', '__invert__', '__le__', '__lshift__', '__lt__', '__mod__', '__mul__', '__ne__', '__neg__', '__new__', '__or__', '__pos__', '__pow__', '__radd__', '__rand__', '__rdivmod__', '__reduce__', '__reduce_ex__', '__repr__', '__rfloordiv__', '__rlshift__', '__rmod__', '__rmul__', '__ror__', '__round__', '__rpow__', '__rrshift__', '__rshift__', '__rsub__', '__rtruediv__', '__rxor__', '__setattr__', '__sizeof__', '__str__', '__sub__', '__subclasshook__', '__truediv__', '__trunc__', '__xor__', 'as_integer_ratio', 'bit_length', 'conjugate', 'denominator', 'from_bytes', 'imag', 'numerator', 'real', 'to_bytes']\n"
     ]
    }
   ],
   "source": [
    "a=10\n",
    "print(dir(a))"
   ]
  },
  {
   "cell_type": "code",
   "execution_count": 20,
   "metadata": {},
   "outputs": [
    {
     "name": "stdout",
     "output_type": "stream",
     "text": [
      "30\n",
      "{'name': 'jayvedha'}\n"
     ]
    }
   ],
   "source": [
    "a=10\n",
    "b=20\n",
    "print(a+b)\n",
    "# operator overloading\n",
    "class DB:\n",
    "    def __init__(self, name,age,adhar=None, *data, **context):\n",
    "        self.name=name\n",
    "        self.age=age\n",
    "        self.adhar=adhar\n",
    "        self.data=data\n",
    "        self.context=context\n",
    "    def __add__(self1,self2): # meta methods, \n",
    "        return {\"name\":self1.name+self2.name}\n",
    "        \n",
    "d1=DB(name=\"jay\",age=3)\n",
    "d2=DB(name=\"vedha\",age=2,adhar=\"sdfsdfd\")\n",
    "print(d1+d2)\n"
   ]
  },
  {
   "cell_type": "code",
   "execution_count": 21,
   "metadata": {},
   "outputs": [
    {
     "name": "stdout",
     "output_type": "stream",
     "text": [
      "{'name': 'jayvedha'}\n",
      "were\n",
      "MUL\n"
     ]
    }
   ],
   "source": [
    "class DB:\n",
    "    def __init__(self, name):\n",
    "        self.name=name\n",
    "    def __add__(self1,self2): # meta methods, \n",
    "        return {\"name\":self1.name+self2.name}\n",
    "    def __sub__(self1,self2):\n",
    "        return \"were\"\n",
    "    def __mul__(self1,self2):\n",
    "        return \"MUL\"\n",
    "        \n",
    "d1=DB(name=\"jay\")\n",
    "d2=DB(name=\"vedha\")\n",
    "print(d1+d2)\n",
    "print(d1-d2)\n",
    "print(d1*d2)"
   ]
  },
  {
   "cell_type": "code",
   "execution_count": 22,
   "metadata": {},
   "outputs": [
    {
     "name": "stdout",
     "output_type": "stream",
     "text": [
      "p\n",
      "y\n",
      "t\n",
      "o\n",
      "n\n"
     ]
    }
   ],
   "source": [
    "for i in \"pyton\":\n",
    "    print(i)"
   ]
  },
  {
   "cell_type": "code",
   "execution_count": 24,
   "metadata": {},
   "outputs": [
    {
     "ename": "TypeError",
     "evalue": "'int' object is not iterable",
     "output_type": "error",
     "traceback": [
      "\u001b[1;31m---------------------------------------------------------------------------\u001b[0m",
      "\u001b[1;31mTypeError\u001b[0m                                 Traceback (most recent call last)",
      "\u001b[1;32m<ipython-input-24-665a8c31cf25>\u001b[0m in \u001b[0;36m<module>\u001b[1;34m\u001b[0m\n\u001b[1;32m----> 1\u001b[1;33m \u001b[1;32mfor\u001b[0m \u001b[0mi\u001b[0m \u001b[1;32min\u001b[0m \u001b[1;36m10\u001b[0m\u001b[1;33m:\u001b[0m\u001b[1;33m\u001b[0m\u001b[1;33m\u001b[0m\u001b[0m\n\u001b[0m\u001b[0;32m      2\u001b[0m     \u001b[0mprint\u001b[0m\u001b[1;33m(\u001b[0m\u001b[0mi\u001b[0m\u001b[1;33m)\u001b[0m\u001b[1;33m\u001b[0m\u001b[1;33m\u001b[0m\u001b[0m\n",
      "\u001b[1;31mTypeError\u001b[0m: 'int' object is not iterable"
     ]
    }
   ],
   "source": [
    "for i in 10:\n",
    "    print(i)"
   ]
  },
  {
   "cell_type": "code",
   "execution_count": 25,
   "metadata": {},
   "outputs": [
    {
     "ename": "TypeError",
     "evalue": "'DB' object is not iterable",
     "output_type": "error",
     "traceback": [
      "\u001b[1;31m---------------------------------------------------------------------------\u001b[0m",
      "\u001b[1;31mTypeError\u001b[0m                                 Traceback (most recent call last)",
      "\u001b[1;32m<ipython-input-25-36414f3cf5f5>\u001b[0m in \u001b[0;36m<module>\u001b[1;34m\u001b[0m\n\u001b[0;32m     10\u001b[0m \u001b[1;33m\u001b[0m\u001b[0m\n\u001b[0;32m     11\u001b[0m \u001b[0md1\u001b[0m\u001b[1;33m=\u001b[0m\u001b[0mDB\u001b[0m\u001b[1;33m(\u001b[0m\u001b[0mname\u001b[0m\u001b[1;33m=\u001b[0m\u001b[1;34m\"jay\"\u001b[0m\u001b[1;33m)\u001b[0m\u001b[1;33m\u001b[0m\u001b[1;33m\u001b[0m\u001b[0m\n\u001b[1;32m---> 12\u001b[1;33m \u001b[1;32mfor\u001b[0m \u001b[0mi\u001b[0m \u001b[1;32min\u001b[0m \u001b[0md1\u001b[0m\u001b[1;33m:\u001b[0m\u001b[1;33m\u001b[0m\u001b[1;33m\u001b[0m\u001b[0m\n\u001b[0m\u001b[0;32m     13\u001b[0m     \u001b[0mprint\u001b[0m\u001b[1;33m(\u001b[0m\u001b[0mi\u001b[0m\u001b[1;33m)\u001b[0m\u001b[1;33m\u001b[0m\u001b[1;33m\u001b[0m\u001b[0m\n",
      "\u001b[1;31mTypeError\u001b[0m: 'DB' object is not iterable"
     ]
    }
   ],
   "source": [
    "class DB:\n",
    "    def __init__(self, name):\n",
    "        self.name=name\n",
    "        \n",
    "        \n",
    "d1=DB(name=\"jay\")\n",
    "for i in d1:\n",
    "    print(i)"
   ]
  },
  {
   "cell_type": "code",
   "execution_count": 27,
   "metadata": {},
   "outputs": [
    {
     "name": "stdout",
     "output_type": "stream",
     "text": [
      "hi\n",
      "i= 10\n",
      "hello\n",
      "i= 20\n",
      "bye\n",
      "i= 30\n"
     ]
    }
   ],
   "source": [
    "class DB:\n",
    "    def __init__(self, name):\n",
    "        self.name=name\n",
    "    def __iter__(self):\n",
    "        print(\"hi\")\n",
    "        yield 10\n",
    "        print(\"hello\")\n",
    "        yield 20 \n",
    "        print(\"bye\")\n",
    "        yield 30\n",
    "        \n",
    "d1=DB(name=\"jay\")\n",
    "for i in d1:\n",
    "    print(\"i=\",i)"
   ]
  },
  {
   "cell_type": "code",
   "execution_count": 32,
   "metadata": {},
   "outputs": [
    {
     "name": "stdout",
     "output_type": "stream",
     "text": [
      "i= ('name', 'jay')\n",
      "i= ('age', 3)\n"
     ]
    }
   ],
   "source": [
    "class DB:\n",
    "    def __init__(self, name,age):\n",
    "        self.name=name\n",
    "        self.age=age\n",
    "    def __iter__(self):\n",
    "        for atr in self.__dict__.items():\n",
    "            yield atr\n",
    "        \n",
    "d1=DB(name=\"jay\",age=3)\n",
    "for i in d1:\n",
    "    print(\"i=\",i)"
   ]
  },
  {
   "cell_type": "code",
   "execution_count": 33,
   "metadata": {},
   "outputs": [
    {
     "data": {
      "text/plain": [
       "{'name': 'jay', 'age': 3}"
      ]
     },
     "execution_count": 33,
     "metadata": {},
     "output_type": "execute_result"
    }
   ],
   "source": [
    "d1.__dict__"
   ]
  },
  {
   "cell_type": "code",
   "execution_count": 34,
   "metadata": {},
   "outputs": [
    {
     "ename": "TypeError",
     "evalue": "unsupported operand type(s) for +: 'dict' and 'dict'",
     "output_type": "error",
     "traceback": [
      "\u001b[1;31m---------------------------------------------------------------------------\u001b[0m",
      "\u001b[1;31mTypeError\u001b[0m                                 Traceback (most recent call last)",
      "\u001b[1;32m<ipython-input-34-2c19be3ec4a6>\u001b[0m in \u001b[0;36m<module>\u001b[1;34m\u001b[0m\n\u001b[0;32m      1\u001b[0m \u001b[0md1\u001b[0m\u001b[1;33m=\u001b[0m\u001b[1;33m{\u001b[0m\u001b[1;36m1\u001b[0m\u001b[1;33m:\u001b[0m\u001b[1;36m2\u001b[0m\u001b[1;33m}\u001b[0m\u001b[1;33m\u001b[0m\u001b[1;33m\u001b[0m\u001b[0m\n\u001b[0;32m      2\u001b[0m \u001b[0md2\u001b[0m\u001b[1;33m=\u001b[0m\u001b[1;33m{\u001b[0m\u001b[1;36m1\u001b[0m\u001b[1;33m:\u001b[0m\u001b[1;36m3\u001b[0m\u001b[1;33m}\u001b[0m\u001b[1;33m\u001b[0m\u001b[1;33m\u001b[0m\u001b[0m\n\u001b[1;32m----> 3\u001b[1;33m \u001b[0md1\u001b[0m\u001b[1;33m+\u001b[0m\u001b[0md2\u001b[0m\u001b[1;33m\u001b[0m\u001b[1;33m\u001b[0m\u001b[0m\n\u001b[0m",
      "\u001b[1;31mTypeError\u001b[0m: unsupported operand type(s) for +: 'dict' and 'dict'"
     ]
    }
   ],
   "source": [
    "# write your own dictionary class, which will exactly work like a dictionary with this aditional functionality\n",
    "# 1: it should work for +\n",
    "# 2: when we iterate it should give values, not the keys\n",
    "d1={1:2}\n",
    "d2={1:3}\n",
    "d1+d2"
   ]
  },
  {
   "cell_type": "code",
   "execution_count": 36,
   "metadata": {},
   "outputs": [
    {
     "data": {
      "text/plain": [
       "{1: 2, 4: 3}"
      ]
     },
     "execution_count": 36,
     "metadata": {},
     "output_type": "execute_result"
    }
   ],
   "source": [
    "dict([(1,2),(4,3)])"
   ]
  },
  {
   "cell_type": "code",
   "execution_count": 37,
   "metadata": {},
   "outputs": [
    {
     "name": "stdout",
     "output_type": "stream",
     "text": [
      "{1: 2}\n",
      "{3: 4}\n"
     ]
    }
   ],
   "source": [
    "class OwnDict(dict):\n",
    "    def __add__(self1,self2):\n",
    "        return 20\n",
    "d1 = OwnDict([(1,2)])\n",
    "d2 = OwnDict([(3,4)])\n",
    "print(d1)\n",
    "print(d2)"
   ]
  },
  {
   "cell_type": "code",
   "execution_count": 38,
   "metadata": {},
   "outputs": [
    {
     "name": "stdout",
     "output_type": "stream",
     "text": [
      "30\n",
      "30\n"
     ]
    }
   ],
   "source": [
    "class OwnDict(dict):\n",
    "    def __add__(self1,self2):\n",
    "        return 20\n",
    "    def __str__(self):\n",
    "        return \"30\"\n",
    "d1 = OwnDict([(1,2)])\n",
    "d2 = OwnDict([(3,4)])\n",
    "print(d1)\n",
    "print(d2)"
   ]
  },
  {
   "cell_type": "code",
   "execution_count": 39,
   "metadata": {},
   "outputs": [
    {
     "name": "stdout",
     "output_type": "stream",
     "text": [
      "1\n",
      "3\n",
      "5\n"
     ]
    }
   ],
   "source": [
    "class OwnDict(dict):\n",
    "    def __add__(self1,self2):\n",
    "        return 20\n",
    "    def __str__(self):\n",
    "        return \"30\"\n",
    "d1 = OwnDict([(1,2),(3,4),(5,6)])\n",
    "d2 = OwnDict([(3,4),(7,8),(8,9)])\n",
    "for i in d1:\n",
    "    print(i)"
   ]
  },
  {
   "cell_type": "code",
   "execution_count": 44,
   "metadata": {},
   "outputs": [
    {
     "name": "stdout",
     "output_type": "stream",
     "text": [
      "0\n",
      "1\n",
      "2\n"
     ]
    }
   ],
   "source": [
    "class OwnDict(dict):\n",
    "    def __add__(self1,self2):\n",
    "        return 20\n",
    "    def __str__(self):\n",
    "        return \"30\"\n",
    "    def __iter__(self):\n",
    "        for i in range(3):\n",
    "            yield i\n",
    "d1 = OwnDict([(1,2),(3,4),(5,6)])\n",
    "d2 = OwnDict([(3,4),(7,8),(8,9)])\n",
    "for i in d1:\n",
    "    print(i)"
   ]
  },
  {
   "cell_type": "code",
   "execution_count": 46,
   "metadata": {},
   "outputs": [
    {
     "name": "stdout",
     "output_type": "stream",
     "text": [
      "2\n",
      "4\n",
      "6\n",
      "dict_items([(1, 2), (3, 4), (5, 6)])\n"
     ]
    }
   ],
   "source": [
    "class OwnDict(dict):\n",
    "    def __add__(self1,self2):\n",
    "        return 20\n",
    "    def __str__(self):\n",
    "        return \"30\"\n",
    "    def __iter__(self):\n",
    "        for i in self.values():\n",
    "            yield i\n",
    "d1 = OwnDict([(1,2),(3,4),(5,6)])\n",
    "d2 = OwnDict([(3,4),(7,8),(8,9)])\n",
    "for i in d1:\n",
    "    print(i)\n",
    "print(d1.items())"
   ]
  },
  {
   "cell_type": "code",
   "execution_count": 47,
   "metadata": {},
   "outputs": [],
   "source": [
    "# sales.py: v3 ### v4\n",
    "class Customer:\n",
    "    def __init__(self,name,address):\n",
    "        self.name=name\n",
    "        self.address = address\n",
    "    def create(self):\n",
    "        pass\n",
    "    def delivery(self):\n",
    "        pass\n",
    "    def addresschanage(self):\n",
    "        pass\n",
    "    \n",
    "# installed sales.py in my project\n",
    "# some extra functionalities: add phonenumber, email to the customer, it has to verify the data before going to create\n"
   ]
  },
  {
   "cell_type": "code",
   "execution_count": 48,
   "metadata": {},
   "outputs": [],
   "source": [
    "# sales.py: v3\n",
    "class Customer:\n",
    "    def __init__(self,name,address,phone,email):\n",
    "        self.name=name\n",
    "        self.address = address\n",
    "        self.phone=phone\n",
    "        self.email = email\n",
    "    def create(self):\n",
    "        # add code to valildate\n",
    "        pass\n",
    "    def delivery(self):\n",
    "        pass\n",
    "    def addresschanage(self):\n",
    "        pass\n",
    "    # add extra functionalitites which you want.\n",
    "    \n",
    "# installed sales.py in my project\n",
    "# some extra functionalities: add phonenumber, email to the customer, it has to verify the data before going to create\n"
   ]
  },
  {
   "cell_type": "code",
   "execution_count": 49,
   "metadata": {},
   "outputs": [],
   "source": [
    "# consider the scenario sales.py v4 come up with lot off functionalities which you need in your project.\n",
    "# if you install the new version, you lost your changes.\n",
    "# aftter installtion you need to write your changes again."
   ]
  },
  {
   "cell_type": "code",
   "execution_count": null,
   "metadata": {},
   "outputs": [],
   "source": [
    "# sales.py: v3\n",
    "class Customer:\n",
    "    def __init__(self,name,address):\n",
    "        self.name=name\n",
    "        self.address = address\n",
    "    def create(self):\n",
    "        pass\n",
    "    def delivery(self):\n",
    "        pass\n",
    "    def addresschanage(self):\n",
    "        pass\n",
    "    \n",
    "# Ownsales.py\n",
    "# from sales import Customer\n",
    "class OwnCustomer(Customer):\n",
    "    def __init__(self,name,address,phone,email):\n",
    "        self.email=email\n",
    "        self.phone=phone\n",
    "        Customer.__init__(self, name, address)\n",
    "        \n",
    "    def create(self):\n",
    "        # validation code\n",
    "        Customer.create(self)\n",
    "    # add your own operations.\n",
    "# now if the sales guys release the new sales module v4. then you can install hapily, that wont effects your OwnCustomer class much.\n"
   ]
  },
  {
   "cell_type": "code",
   "execution_count": 2,
   "metadata": {},
   "outputs": [
    {
     "name": "stdout",
     "output_type": "stream",
     "text": [
      "this is class method\n",
      "<class '__main__.Emp'>\n",
      "this is class method\n",
      "<class '__main__.Emp'>\n",
      "this is static method\n",
      "this is static method\n"
     ]
    }
   ],
   "source": [
    "class Emp:\n",
    "    company_name=\"Khyaathi\"\n",
    "    def __init__(self, name):\n",
    "        self.name=name\n",
    "    def get(self): # instance method\n",
    "        return self.name\n",
    "    @classmethod\n",
    "    def clm(cls): # class method\n",
    "        print(\"this is class method\")\n",
    "        print(cls,)\n",
    "    @staticmethod\n",
    "    def sta(x,y):\n",
    "        print(\"this is static method\")\n",
    "jay=Emp(\"jayaram\")\n",
    "jay.get() # Emp.get(jay)\n",
    "jay.clm() # Emp.clm(Emp) because it's a class method, it will pass class object as first argument\n",
    "Emp.clm() # Emp.clm(Emp)\n",
    "jay.sta(10,20) # Emp.sta(10,20) it will not pass class/data object as a first argument, because it's a static method.\n",
    "Emp.sta(10,20)"
   ]
  },
  {
   "cell_type": "code",
   "execution_count": 3,
   "metadata": {},
   "outputs": [
    {
     "name": "stdout",
     "output_type": "stream",
     "text": [
      "('jayaram', 'Khyaathi')\n",
      "Khyaathi\n"
     ]
    }
   ],
   "source": [
    "class Emp:\n",
    "    company_name=\"Khyaathi\"\n",
    "    def __init__(self, name):\n",
    "        self.name=name\n",
    "    def get_emp(self):\n",
    "        return self.name, self.company_name\n",
    "    def get_company(self):\n",
    "        return self.company_name\n",
    "jay = Emp(\"jayaram\")\n",
    "print(jay.get_emp())\n",
    "print(jay.get_company())"
   ]
  },
  {
   "cell_type": "code",
   "execution_count": 5,
   "metadata": {},
   "outputs": [
    {
     "name": "stdout",
     "output_type": "stream",
     "text": [
      "('jayaram', 'Khyaathi')\n",
      "Khyaathi\n"
     ]
    }
   ],
   "source": [
    "class Emp:\n",
    "    company_name=\"Khyaathi\"\n",
    "    def __init__(self, name):\n",
    "        self.name=name\n",
    "    def get_emp(self):\n",
    "        return self.name, self.company_name\n",
    "    \n",
    "    @classmethod\n",
    "    def get_company(self):\n",
    "        return self.company_name\n",
    "jay = Emp(\"jayaram\")\n",
    "print(jay.get_emp())\n",
    "print(jay.get_company())"
   ]
  },
  {
   "cell_type": "code",
   "execution_count": 6,
   "metadata": {},
   "outputs": [
    {
     "name": "stdout",
     "output_type": "stream",
     "text": [
      "('jayaram', 'Khyaathi')\n",
      "Khyaathi\n"
     ]
    }
   ],
   "source": [
    "class Emp:\n",
    "    company_name=\"Khyaathi\"\n",
    "    def __init__(self, name):\n",
    "        self.name=name\n",
    "    def get_emp(self):\n",
    "        return self.name, self.company_name\n",
    "    def get_company(self):\n",
    "        return self.company_name\n",
    "jay = Emp(\"jayaram\")\n",
    "print(jay.get_emp())\n",
    "print(jay.get_company())\n",
    "vedha=Emp(\"Vedhanvesh\")\n",
    "sai=Emp(\"Sai laxmi\")"
   ]
  },
  {
   "cell_type": "code",
   "execution_count": 7,
   "metadata": {},
   "outputs": [
    {
     "name": "stdout",
     "output_type": "stream",
     "text": [
      "('jayaram', 'Khyaathi')\n",
      "Khyaathi\n"
     ]
    }
   ],
   "source": [
    "class Emp:\n",
    "    company_name=\"Khyaathi\"\n",
    "    def __init__(self, name):\n",
    "        self.name=name\n",
    "    def get_emp(self):\n",
    "        return self.name, self.company_name\n",
    "    \n",
    "    @classmethod\n",
    "    def get_company(cls):\n",
    "        return cls.company_name\n",
    "jay = Emp(\"jayaram\")\n",
    "print(jay.get_emp())\n",
    "print(jay.get_company())\n",
    "vedha=Emp(\"Vedhanvesh\")\n",
    "sai=Emp(\"Sai laxmi\")"
   ]
  },
  {
   "cell_type": "code",
   "execution_count": 8,
   "metadata": {},
   "outputs": [
    {
     "name": "stdout",
     "output_type": "stream",
     "text": [
      "Guduru Jayaram\n"
     ]
    }
   ],
   "source": [
    "class Emp:\n",
    "    def __init__(self, firstname, lastname):\n",
    "        self.firstname = firstname\n",
    "        self.lastname = lastname\n",
    "        self.name = self.firstname + \" \" + self.lastname\n",
    "jay = Emp(\"Guduru\", \"Jayaram\")\n",
    "vedha = Emp(\"Guduru\", \"Vedhanvesh\")\n",
    "print(jay.name)"
   ]
  },
  {
   "cell_type": "code",
   "execution_count": 9,
   "metadata": {},
   "outputs": [
    {
     "name": "stdout",
     "output_type": "stream",
     "text": [
      "Guduru Jayaram\n",
      "Guduru Jayaram\n"
     ]
    }
   ],
   "source": [
    "class Emp:\n",
    "    def __init__(self, firstname, lastname):\n",
    "        self.firstname = firstname\n",
    "        self.lastname = lastname\n",
    "        self.name = self.firstname + \" \" + self.lastname\n",
    "jay = Emp(\"Guduru\", \"Jayaram\")\n",
    "vedha = Emp(\"Guduru\", \"Vedhanvesh\")\n",
    "print(jay.name)\n",
    "jay.firstname = \"GUDURU\"\n",
    "print(jay.name)"
   ]
  },
  {
   "cell_type": "code",
   "execution_count": 10,
   "metadata": {},
   "outputs": [
    {
     "name": "stdout",
     "output_type": "stream",
     "text": [
      "Guduru Jayaram\n",
      "GUDURU Jayaram\n"
     ]
    }
   ],
   "source": [
    "class Emp:\n",
    "    def __init__(self, firstname, lastname):\n",
    "        self.firstname = firstname\n",
    "        self.lastname = lastname\n",
    "    def name(self):\n",
    "        return self.firstname + \" \" + self.lastname\n",
    "jay = Emp(\"Guduru\", \"Jayaram\")\n",
    "vedha = Emp(\"Guduru\", \"Vedhanvesh\")\n",
    "print(jay.name())\n",
    "jay.firstname = \"GUDURU\"\n",
    "print(jay.name())"
   ]
  },
  {
   "cell_type": "code",
   "execution_count": 11,
   "metadata": {},
   "outputs": [
    {
     "name": "stdout",
     "output_type": "stream",
     "text": [
      "Guduru Jayaram\n",
      "GUDURU Jayaram\n"
     ]
    }
   ],
   "source": [
    "class Emp:\n",
    "    def __init__(self, firstname, lastname):\n",
    "        self.firstname = firstname\n",
    "        self.lastname = lastname\n",
    "        \n",
    "    @property\n",
    "    def name(self):\n",
    "        return self.firstname + \" \" + self.lastname\n",
    "jay = Emp(\"Guduru\", \"Jayaram\")\n",
    "vedha = Emp(\"Guduru\", \"Vedhanvesh\")\n",
    "print(jay.name)\n",
    "jay.firstname = \"GUDURU\"\n",
    "print(jay.name)"
   ]
  },
  {
   "cell_type": "code",
   "execution_count": 13,
   "metadata": {},
   "outputs": [
    {
     "name": "stdout",
     "output_type": "stream",
     "text": [
      "this seteer\n",
      "firstname\n",
      "Guduru\n",
      "this seteer\n",
      "lastname\n",
      "Jayaram\n"
     ]
    },
    {
     "ename": "AttributeError",
     "evalue": "'Emp' object has no attribute 'firstname'",
     "output_type": "error",
     "traceback": [
      "\u001b[1;31m---------------------------------------------------------------------------\u001b[0m",
      "\u001b[1;31mAttributeError\u001b[0m                            Traceback (most recent call last)",
      "\u001b[1;32m<ipython-input-13-acf1bff4fd9b>\u001b[0m in \u001b[0;36m<module>\u001b[1;34m\u001b[0m\n\u001b[0;32m     11\u001b[0m \u001b[1;33m\u001b[0m\u001b[0m\n\u001b[0;32m     12\u001b[0m \u001b[1;33m\u001b[0m\u001b[0m\n\u001b[1;32m---> 13\u001b[1;33m \u001b[0mjay\u001b[0m \u001b[1;33m=\u001b[0m \u001b[0mEmp\u001b[0m\u001b[1;33m(\u001b[0m\u001b[1;34m\"Guduru\"\u001b[0m\u001b[1;33m,\u001b[0m \u001b[1;34m\"Jayaram\"\u001b[0m\u001b[1;33m)\u001b[0m\u001b[1;33m\u001b[0m\u001b[1;33m\u001b[0m\u001b[0m\n\u001b[0m\u001b[0;32m     14\u001b[0m \u001b[0mvedha\u001b[0m \u001b[1;33m=\u001b[0m \u001b[0mEmp\u001b[0m\u001b[1;33m(\u001b[0m\u001b[1;34m\"Guduru\"\u001b[0m\u001b[1;33m,\u001b[0m \u001b[1;34m\"Vedhanvesh\"\u001b[0m\u001b[1;33m)\u001b[0m\u001b[1;33m\u001b[0m\u001b[1;33m\u001b[0m\u001b[0m\n\u001b[0;32m     15\u001b[0m \u001b[0mprint\u001b[0m\u001b[1;33m(\u001b[0m\u001b[0mjay\u001b[0m\u001b[1;33m.\u001b[0m\u001b[0mname\u001b[0m\u001b[1;33m)\u001b[0m\u001b[1;33m\u001b[0m\u001b[1;33m\u001b[0m\u001b[0m\n",
      "\u001b[1;32m<ipython-input-13-acf1bff4fd9b>\u001b[0m in \u001b[0;36m__init__\u001b[1;34m(self, firstname, lastname)\u001b[0m\n\u001b[0;32m      3\u001b[0m         \u001b[0mself\u001b[0m\u001b[1;33m.\u001b[0m\u001b[0mfirstname\u001b[0m \u001b[1;33m=\u001b[0m \u001b[0mfirstname\u001b[0m\u001b[1;33m\u001b[0m\u001b[1;33m\u001b[0m\u001b[0m\n\u001b[0;32m      4\u001b[0m         \u001b[0mself\u001b[0m\u001b[1;33m.\u001b[0m\u001b[0mlastname\u001b[0m \u001b[1;33m=\u001b[0m \u001b[0mlastname\u001b[0m\u001b[1;33m\u001b[0m\u001b[1;33m\u001b[0m\u001b[0m\n\u001b[1;32m----> 5\u001b[1;33m         \u001b[0mself\u001b[0m\u001b[1;33m.\u001b[0m\u001b[0mname\u001b[0m \u001b[1;33m=\u001b[0m \u001b[0mself\u001b[0m\u001b[1;33m.\u001b[0m\u001b[0mfirstname\u001b[0m \u001b[1;33m+\u001b[0m \u001b[1;34m\" \"\u001b[0m \u001b[1;33m+\u001b[0m \u001b[0mself\u001b[0m\u001b[1;33m.\u001b[0m\u001b[0mlastname\u001b[0m\u001b[1;33m\u001b[0m\u001b[1;33m\u001b[0m\u001b[0m\n\u001b[0m\u001b[0;32m      6\u001b[0m \u001b[1;33m\u001b[0m\u001b[0m\n\u001b[0;32m      7\u001b[0m     \u001b[1;32mdef\u001b[0m \u001b[0m__setattr__\u001b[0m\u001b[1;33m(\u001b[0m\u001b[0mself\u001b[0m\u001b[1;33m,\u001b[0m \u001b[0mattr\u001b[0m\u001b[1;33m,\u001b[0m \u001b[0mvalue\u001b[0m\u001b[1;33m)\u001b[0m\u001b[1;33m:\u001b[0m\u001b[1;33m\u001b[0m\u001b[1;33m\u001b[0m\u001b[0m\n",
      "\u001b[1;31mAttributeError\u001b[0m: 'Emp' object has no attribute 'firstname'"
     ]
    }
   ],
   "source": [
    "class Emp:\n",
    "    def __init__(self, firstname, lastname):\n",
    "        self.firstname = firstname\n",
    "        self.lastname = lastname\n",
    "        self.name = self.firstname + \" \" + self.lastname\n",
    "        \n",
    "    def __setattr__(self, attr, value):\n",
    "        print(\"this seteer\")\n",
    "        print(attr)\n",
    "        print(value)\n",
    "        \n",
    "        \n",
    "jay = Emp(\"Guduru\", \"Jayaram\")\n",
    "vedha = Emp(\"Guduru\", \"Vedhanvesh\")\n",
    "print(jay.name)\n",
    "jay.firstname = \"GUDURU\"\n",
    "print(jay.name)"
   ]
  },
  {
   "cell_type": "code",
   "execution_count": 14,
   "metadata": {},
   "outputs": [
    {
     "name": "stdout",
     "output_type": "stream",
     "text": [
      "Guduru Jayaram\n",
      "Guduru Jayaram\n"
     ]
    }
   ],
   "source": [
    "class Emp:\n",
    "    def __init__(self, firstname, lastname):\n",
    "        self.firstname = firstname\n",
    "        self.lastname = lastname\n",
    "        self.name = self.firstname + \" \" + self.lastname\n",
    "        \n",
    "    def __setattr__(self, attr, value):\n",
    "        \n",
    "        return super(Emp,self).__setattr__(attr, value)\n",
    "        \n",
    "        \n",
    "jay = Emp(\"Guduru\", \"Jayaram\")\n",
    "vedha = Emp(\"Guduru\", \"Vedhanvesh\")\n",
    "print(jay.name)\n",
    "jay.firstname = \"GUDURU\"\n",
    "print(jay.name)"
   ]
  },
  {
   "cell_type": "code",
   "execution_count": 17,
   "metadata": {},
   "outputs": [
    {
     "name": "stdout",
     "output_type": "stream",
     "text": [
      "Guduru Jayaram\n",
      "GUDURU Jayaram\n"
     ]
    }
   ],
   "source": [
    "class Emp:\n",
    "    def __init__(self, firstname, lastname):\n",
    "        self.firstname = firstname\n",
    "        self.lastname = lastname\n",
    "        #self.name = self.firstname + \" \" + self.lastname\n",
    "        \n",
    "    def __setattr__(self, attr, value):\n",
    "        if attr == 'firstname':\n",
    "            if 'lastname' in self.__dict__:\n",
    "                super(Emp,self).__setattr__('name',value+ \" \"+ self.lastname)\n",
    "        elif attr== \"lastname\":\n",
    "            if 'firstname' in self.__dict__:\n",
    "                super(Emp,self).__setattr__('name',self.firstname+ \" \"+ value)\n",
    "        return super(Emp,self).__setattr__(attr, value)\n",
    "\n",
    "        \n",
    "        \n",
    "jay = Emp(\"Guduru\", \"Jayaram\")\n",
    "vedha = Emp(\"Guduru\", \"Vedhanvesh\")\n",
    "print(jay.name)\n",
    "jay.firstname = \"GUDURU\"\n",
    "print(jay.name)"
   ]
  },
  {
   "cell_type": "code",
   "execution_count": 19,
   "metadata": {},
   "outputs": [
    {
     "name": "stdout",
     "output_type": "stream",
     "text": [
      "Guduru Jayaram\n",
      "GUDURU Jayaram\n"
     ]
    }
   ],
   "source": [
    "class Emp:\n",
    "    def __init__(self, firstname, lastname):\n",
    "        self.firstname = firstname\n",
    "        self.lastname = lastname\n",
    "        #self.name = self.firstname + \" \" + self.lastname\n",
    "        \n",
    "    def __getattribute__(self, attribute):\n",
    "        if attribute == \"name\":\n",
    "            return self.firstname+ \" \" + self.lastname\n",
    "        return super(Emp, self).__getattribute__(attribute)\n",
    "\n",
    "        \n",
    "        \n",
    "jay = Emp(\"Guduru\", \"Jayaram\")\n",
    "vedha = Emp(\"Guduru\", \"Vedhanvesh\")\n",
    "print(jay.name)\n",
    "jay.firstname = \"GUDURU\"\n",
    "print(jay.name)"
   ]
  },
  {
   "cell_type": "code",
   "execution_count": null,
   "metadata": {},
   "outputs": [],
   "source": [
    "# single ton..\n"
   ]
  }
 ],
 "metadata": {
  "kernelspec": {
   "display_name": "Python 3",
   "language": "python",
   "name": "python3"
  },
  "language_info": {
   "codemirror_mode": {
    "name": "ipython",
    "version": 3
   },
   "file_extension": ".py",
   "mimetype": "text/x-python",
   "name": "python",
   "nbconvert_exporter": "python",
   "pygments_lexer": "ipython3",
   "version": "3.8.3"
  }
 },
 "nbformat": 4,
 "nbformat_minor": 4
}

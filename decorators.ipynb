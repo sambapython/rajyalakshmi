{
 "cells": [
  {
   "cell_type": "code",
   "execution_count": 1,
   "metadata": {},
   "outputs": [
    {
     "name": "stdout",
     "output_type": "stream",
     "text": [
      "<function fun at 0x000001320556C8B0>\n"
     ]
    }
   ],
   "source": [
    "def fun():\n",
    "    print(\"this is fun\")\n",
    "print(fun)"
   ]
  },
  {
   "cell_type": "code",
   "execution_count": 2,
   "metadata": {},
   "outputs": [
    {
     "name": "stdout",
     "output_type": "stream",
     "text": [
      "<function fun at 0x000001320556C310>\n"
     ]
    }
   ],
   "source": [
    "def fun():\n",
    "    print(\"this is fun\")\n",
    "res=fun\n",
    "print(res)"
   ]
  },
  {
   "cell_type": "code",
   "execution_count": 3,
   "metadata": {},
   "outputs": [
    {
     "name": "stdout",
     "output_type": "stream",
     "text": [
      "<function fun at 0x000001320556C9D0>\n",
      "this is fun\n",
      "this is fun\n"
     ]
    }
   ],
   "source": [
    "def fun():\n",
    "    print(\"this is fun\")\n",
    "res=fun\n",
    "print(res)\n",
    "res()\n",
    "fun()"
   ]
  },
  {
   "cell_type": "code",
   "execution_count": 4,
   "metadata": {},
   "outputs": [
    {
     "name": "stdout",
     "output_type": "stream",
     "text": [
      "res\n",
      "<function add at 0x000001320556C310>\n"
     ]
    }
   ],
   "source": [
    "def add(x,y):\n",
    "    return x+y\n",
    "def res():\n",
    "    print(\"res\")\n",
    "    return add\n",
    "r1=res()\n",
    "print(r1)"
   ]
  },
  {
   "cell_type": "code",
   "execution_count": 5,
   "metadata": {},
   "outputs": [
    {
     "name": "stdout",
     "output_type": "stream",
     "text": [
      "res\n",
      "30\n"
     ]
    }
   ],
   "source": [
    "def add(x,y):\n",
    "    return x+y\n",
    "def res():\n",
    "    print(\"res\")\n",
    "    return add\n",
    "r1=res()\n",
    "print(r1(10,20))"
   ]
  },
  {
   "cell_type": "code",
   "execution_count": 6,
   "metadata": {},
   "outputs": [
    {
     "ename": "AttributeError",
     "evalue": "'function' object has no attribute 'lower'",
     "output_type": "error",
     "traceback": [
      "\u001b[1;31m---------------------------------------------------------------------------\u001b[0m",
      "\u001b[1;31mAttributeError\u001b[0m                            Traceback (most recent call last)",
      "\u001b[1;32m<ipython-input-6-5d3c39ad9103>\u001b[0m in \u001b[0;36m<module>\u001b[1;34m\u001b[0m\n\u001b[0;32m      5\u001b[0m     \u001b[1;32mreturn\u001b[0m \u001b[0mlower\u001b[0m\u001b[1;33m\u001b[0m\u001b[1;33m\u001b[0m\u001b[0m\n\u001b[0;32m      6\u001b[0m \u001b[1;33m\u001b[0m\u001b[0m\n\u001b[1;32m----> 7\u001b[1;33m \u001b[0mprint\u001b[0m\u001b[1;33m(\u001b[0m\u001b[0mupper\u001b[0m\u001b[1;33m.\u001b[0m\u001b[0mlower\u001b[0m\u001b[1;33m(\u001b[0m\u001b[1;36m10\u001b[0m\u001b[1;33m,\u001b[0m\u001b[1;36m20\u001b[0m\u001b[1;33m)\u001b[0m\u001b[1;33m)\u001b[0m\u001b[1;33m\u001b[0m\u001b[1;33m\u001b[0m\u001b[0m\n\u001b[0m",
      "\u001b[1;31mAttributeError\u001b[0m: 'function' object has no attribute 'lower'"
     ]
    }
   ],
   "source": [
    "def upper():\n",
    "    print(\"upper\")\n",
    "    def lower(x,y):\n",
    "        return x+y\n",
    "    return lower\n",
    "\n",
    "print(upper.lower(10,20))"
   ]
  },
  {
   "cell_type": "code",
   "execution_count": 7,
   "metadata": {},
   "outputs": [
    {
     "name": "stdout",
     "output_type": "stream",
     "text": [
      "upper\n",
      "<function upper.<locals>.lower at 0x0000013205625280>\n"
     ]
    }
   ],
   "source": [
    "def upper():\n",
    "    print(\"upper\")\n",
    "    def lower(x,y):\n",
    "        return x+y\n",
    "    return lower\n",
    "res=upper()\n",
    "print(res)"
   ]
  },
  {
   "cell_type": "code",
   "execution_count": 8,
   "metadata": {},
   "outputs": [
    {
     "name": "stdout",
     "output_type": "stream",
     "text": [
      "upper\n",
      "<function upper.<locals>.lower at 0x00000132056251F0>\n",
      "300\n"
     ]
    }
   ],
   "source": [
    "def upper(): # closure\n",
    "    print(\"upper\")\n",
    "    def lower(x,y):\n",
    "        return x+y\n",
    "    return lower\n",
    "res=upper()\n",
    "print(res)\n",
    "print(res(100,200))"
   ]
  },
  {
   "cell_type": "code",
   "execution_count": 9,
   "metadata": {},
   "outputs": [
    {
     "name": "stdout",
     "output_type": "stream",
     "text": [
      "30\n",
      "200\n",
      "5.0\n"
     ]
    }
   ],
   "source": [
    "def add(x,y):\n",
    "    return x+y\n",
    "def mul(x,y):\n",
    "    return x*y\n",
    "def div(x,y):\n",
    "    return x/y\n",
    "print(add(10,20))\n",
    "print(mul(10,20))\n",
    "print(div(100,20))"
   ]
  },
  {
   "cell_type": "code",
   "execution_count": 11,
   "metadata": {},
   "outputs": [
    {
     "name": "stdout",
     "output_type": "stream",
     "text": [
      "30\n",
      "200\n",
      "5.0\n"
     ]
    }
   ],
   "source": [
    "def validatel(x):\n",
    "    return isinstance(x,(int,float))\n",
    "def add(x,y):\n",
    "    if validatel(x) and validate(y):\n",
    "        return x+y\n",
    "    else:\n",
    "        print(\"not a valid\")\n",
    "def mul(x,y):\n",
    "    if validatel(x) and validate(y):\n",
    "        return x*y\n",
    "    else:\n",
    "        print(\"not a valid\")\n",
    "def div(x,y):\n",
    "    if validatel(x) and validate(y):\n",
    "        return x/y\n",
    "    else:\n",
    "        print(\"not a valid\")\n",
    "print(add(10,20))\n",
    "print(mul(10,20))\n",
    "print(div(100,20))"
   ]
  },
  {
   "cell_type": "code",
   "execution_count": 12,
   "metadata": {},
   "outputs": [
    {
     "name": "stdout",
     "output_type": "stream",
     "text": [
      "<function validate.<locals>.inner at 0x0000013206802AF0>\n"
     ]
    }
   ],
   "source": [
    "def add(x,y):\n",
    "    return x+y\n",
    "def validate(fun): # fun =add\n",
    "    def inner(x,y):\n",
    "        if isinstance(x,(int, float)) and isinstance(y,(int,float)):\n",
    "            return fun(x,y)\n",
    "        else:\n",
    "            print(\"not a valid data\")\n",
    "    return inner\n",
    "fun_ref = validate(add) # fun_ref=inner\n",
    "print(fun_ref)"
   ]
  },
  {
   "cell_type": "code",
   "execution_count": 13,
   "metadata": {},
   "outputs": [
    {
     "name": "stdout",
     "output_type": "stream",
     "text": [
      "30\n"
     ]
    }
   ],
   "source": [
    "def add(x,y):\n",
    "    return x+y\n",
    "def validate(fun): # fun =add\n",
    "    def inner(x,y):\n",
    "        if isinstance(x,(int, float)) and isinstance(y,(int,float)):\n",
    "            return fun(x,y)\n",
    "        else:\n",
    "            print(\"not a valid data\")\n",
    "    return inner\n",
    "fun_ref = validate(add) # fun_ref=inner\n",
    "print(fun_ref(10,20))\n"
   ]
  },
  {
   "cell_type": "code",
   "execution_count": 15,
   "metadata": {},
   "outputs": [
    {
     "name": "stdout",
     "output_type": "stream",
     "text": [
      "30\n",
      "not a valid data\n"
     ]
    }
   ],
   "source": [
    "def add(x,y):\n",
    "    return x+y\n",
    "def validate(fun): # fun =add\n",
    "    def inner(x,y):\n",
    "        if isinstance(x,(int, float)) and isinstance(y,(int,float)):\n",
    "            return fun(x,y)\n",
    "        else:\n",
    "            return \"not a valid data\"\n",
    "    return inner\n",
    "fun_ref = validate(add) # fun_ref=inner\n",
    "print(fun_ref(10,20))\n",
    "print(fun_ref(10,\"abcd\"))"
   ]
  },
  {
   "cell_type": "code",
   "execution_count": 16,
   "metadata": {},
   "outputs": [
    {
     "name": "stdout",
     "output_type": "stream",
     "text": [
      "30\n"
     ]
    }
   ],
   "source": [
    "def validate(fun): # fun =add\n",
    "    def inner(x,y):\n",
    "        if isinstance(x,(int, float)) and isinstance(y,(int,float)):\n",
    "            return fun(x,y)\n",
    "        else:\n",
    "            return \"not a valid data\"\n",
    "    return inner\n",
    "def add(x,y):\n",
    "    return x+y\n",
    "def mul(x,y):\n",
    "    return x*y\n",
    "def div(x,y):\n",
    "    return x/y\n",
    "print(add(10,20))"
   ]
  },
  {
   "cell_type": "code",
   "execution_count": 17,
   "metadata": {},
   "outputs": [
    {
     "name": "stdout",
     "output_type": "stream",
     "text": [
      "30\n"
     ]
    },
    {
     "ename": "TypeError",
     "evalue": "unsupported operand type(s) for +: 'int' and 'str'",
     "output_type": "error",
     "traceback": [
      "\u001b[1;31m---------------------------------------------------------------------------\u001b[0m",
      "\u001b[1;31mTypeError\u001b[0m                                 Traceback (most recent call last)",
      "\u001b[1;32m<ipython-input-17-f21091fdd70c>\u001b[0m in \u001b[0;36m<module>\u001b[1;34m\u001b[0m\n\u001b[0;32m     13\u001b[0m     \u001b[1;32mreturn\u001b[0m \u001b[0mx\u001b[0m\u001b[1;33m/\u001b[0m\u001b[0my\u001b[0m\u001b[1;33m\u001b[0m\u001b[1;33m\u001b[0m\u001b[0m\n\u001b[0;32m     14\u001b[0m \u001b[0mprint\u001b[0m\u001b[1;33m(\u001b[0m\u001b[0madd\u001b[0m\u001b[1;33m(\u001b[0m\u001b[1;36m10\u001b[0m\u001b[1;33m,\u001b[0m\u001b[1;36m20\u001b[0m\u001b[1;33m)\u001b[0m\u001b[1;33m)\u001b[0m\u001b[1;33m\u001b[0m\u001b[1;33m\u001b[0m\u001b[0m\n\u001b[1;32m---> 15\u001b[1;33m \u001b[0mprint\u001b[0m\u001b[1;33m(\u001b[0m\u001b[0madd\u001b[0m\u001b[1;33m(\u001b[0m\u001b[1;36m10\u001b[0m\u001b[1;33m,\u001b[0m\u001b[1;34m\"sdfd\"\u001b[0m\u001b[1;33m)\u001b[0m\u001b[1;33m)\u001b[0m\u001b[1;33m\u001b[0m\u001b[1;33m\u001b[0m\u001b[0m\n\u001b[0m",
      "\u001b[1;32m<ipython-input-17-f21091fdd70c>\u001b[0m in \u001b[0;36madd\u001b[1;34m(x, y)\u001b[0m\n\u001b[0;32m      7\u001b[0m     \u001b[1;32mreturn\u001b[0m \u001b[0minner\u001b[0m\u001b[1;33m\u001b[0m\u001b[1;33m\u001b[0m\u001b[0m\n\u001b[0;32m      8\u001b[0m \u001b[1;32mdef\u001b[0m \u001b[0madd\u001b[0m\u001b[1;33m(\u001b[0m\u001b[0mx\u001b[0m\u001b[1;33m,\u001b[0m\u001b[0my\u001b[0m\u001b[1;33m)\u001b[0m\u001b[1;33m:\u001b[0m\u001b[1;33m\u001b[0m\u001b[1;33m\u001b[0m\u001b[0m\n\u001b[1;32m----> 9\u001b[1;33m     \u001b[1;32mreturn\u001b[0m \u001b[0mx\u001b[0m\u001b[1;33m+\u001b[0m\u001b[0my\u001b[0m\u001b[1;33m\u001b[0m\u001b[1;33m\u001b[0m\u001b[0m\n\u001b[0m\u001b[0;32m     10\u001b[0m \u001b[1;32mdef\u001b[0m \u001b[0mmul\u001b[0m\u001b[1;33m(\u001b[0m\u001b[0mx\u001b[0m\u001b[1;33m,\u001b[0m\u001b[0my\u001b[0m\u001b[1;33m)\u001b[0m\u001b[1;33m:\u001b[0m\u001b[1;33m\u001b[0m\u001b[1;33m\u001b[0m\u001b[0m\n\u001b[0;32m     11\u001b[0m     \u001b[1;32mreturn\u001b[0m \u001b[0mx\u001b[0m\u001b[1;33m*\u001b[0m\u001b[0my\u001b[0m\u001b[1;33m\u001b[0m\u001b[1;33m\u001b[0m\u001b[0m\n",
      "\u001b[1;31mTypeError\u001b[0m: unsupported operand type(s) for +: 'int' and 'str'"
     ]
    }
   ],
   "source": [
    "def validate(fun): # fun =add\n",
    "    def inner(x,y):\n",
    "        if isinstance(x,(int, float)) and isinstance(y,(int,float)):\n",
    "            return fun(x,y)\n",
    "        else:\n",
    "            return \"not a valid data\"\n",
    "    return inner\n",
    "def add(x,y):\n",
    "    return x+y\n",
    "def mul(x,y):\n",
    "    return x*y\n",
    "def div(x,y):\n",
    "    return x/y\n",
    "print(add(10,20))\n",
    "print(add(10,\"sdfd\"))"
   ]
  },
  {
   "cell_type": "code",
   "execution_count": 18,
   "metadata": {},
   "outputs": [
    {
     "name": "stdout",
     "output_type": "stream",
     "text": [
      "30\n",
      "not a valid data\n"
     ]
    }
   ],
   "source": [
    "def validate(fun):\n",
    "    def inner(x,y):\n",
    "        if isinstance(x,(int, float)) and isinstance(y,(int,float)):\n",
    "            return fun(x,y)\n",
    "        else:\n",
    "            return \"not a valid data\"\n",
    "    return inner\n",
    "@validate # validate decorator\n",
    "def add(x,y):\n",
    "    return x+y\n",
    "@validate\n",
    "def mul(x,y):\n",
    "    return x*y\n",
    "@validate\n",
    "def div(x,y):\n",
    "    return x/y\n",
    "print(add(10,20)) #validate(add)(10,20)\n",
    "print(add(10,\"sdfd\"))"
   ]
  },
  {
   "cell_type": "code",
   "execution_count": 19,
   "metadata": {},
   "outputs": [
    {
     "name": "stdout",
     "output_type": "stream",
     "text": [
      "30\n",
      "not a valid data\n",
      "200\n",
      "not a valid data\n"
     ]
    }
   ],
   "source": [
    "def validate(fun):\n",
    "    def inner(x,y):\n",
    "        if isinstance(x,(int, float)) and isinstance(y,(int,float)):\n",
    "            return fun(x,y)\n",
    "        else:\n",
    "            return \"not a valid data\"\n",
    "    return inner\n",
    "@validate # validate decorator\n",
    "def add(x,y):\n",
    "    return x+y\n",
    "@validate\n",
    "def mul(x,y):\n",
    "    return x*y\n",
    "@validate\n",
    "def div(x,y):\n",
    "    return x/y\n",
    "print(add(10,20)) #validate(add)(10,20)\n",
    "print(add(10,\"sdfd\"))\n",
    "print(mul(10,20))\n",
    "print(mul(10,\"sdfsd\"))"
   ]
  },
  {
   "cell_type": "code",
   "execution_count": null,
   "metadata": {},
   "outputs": [],
   "source": [
    "@validate # if x,y are even numbers then only add it, otherwise return invalid data\n",
    "def add(x,y):\n",
    "    return x+y"
   ]
  }
 ],
 "metadata": {
  "kernelspec": {
   "display_name": "Python 3",
   "language": "python",
   "name": "python3"
  },
  "language_info": {
   "codemirror_mode": {
    "name": "ipython",
    "version": 3
   },
   "file_extension": ".py",
   "mimetype": "text/x-python",
   "name": "python",
   "nbconvert_exporter": "python",
   "pygments_lexer": "ipython3",
   "version": "3.8.3"
  }
 },
 "nbformat": 4,
 "nbformat_minor": 4
}

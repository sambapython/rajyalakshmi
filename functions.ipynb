{
 "cells": [
  {
   "cell_type": "code",
   "execution_count": 1,
   "metadata": {},
   "outputs": [
    {
     "name": "stdout",
     "output_type": "stream",
     "text": [
      "started\n",
      "ended\n"
     ]
    }
   ],
   "source": [
    "print(\"started\")\n",
    "# function definition\n",
    "def fun(): # function signature\n",
    "    print(\"hello\")\n",
    "    print(\"this is fun\") # function body\n",
    "print(\"ended\")"
   ]
  },
  {
   "cell_type": "code",
   "execution_count": 2,
   "metadata": {},
   "outputs": [
    {
     "name": "stdout",
     "output_type": "stream",
     "text": [
      "started\n",
      "ended\n",
      "hello\n",
      "this is fun\n"
     ]
    }
   ],
   "source": [
    "print(\"started\")\n",
    "# function definition\n",
    "def fun(): # function signature\n",
    "    print(\"hello\")\n",
    "    print(\"this is fun\") # function body\n",
    "print(\"ended\")\n",
    "fun() # function call"
   ]
  },
  {
   "cell_type": "code",
   "execution_count": 3,
   "metadata": {},
   "outputs": [
    {
     "name": "stdout",
     "output_type": "stream",
     "text": [
      "started\n",
      "ended\n",
      "hello\n",
      "this is fun\n",
      "hello\n",
      "this is fun\n"
     ]
    }
   ],
   "source": [
    "print(\"started\")\n",
    "def fun():\n",
    "    print(\"hello\")\n",
    "    print(\"this is fun\")\n",
    "print(\"ended\")\n",
    "fun()\n",
    "fun()"
   ]
  },
  {
   "cell_type": "code",
   "execution_count": 4,
   "metadata": {},
   "outputs": [
    {
     "name": "stdout",
     "output_type": "stream",
     "text": [
      "started\n",
      "ended\n",
      "hello\n",
      "this is fun\n",
      "hello\n",
      "this is fun\n",
      "hello\n",
      "this is fun\n",
      "hello\n",
      "this is fun\n"
     ]
    }
   ],
   "source": [
    "print(\"started\")\n",
    "def fun():\n",
    "    print(\"hello\")\n",
    "    print(\"this is fun\")\n",
    "print(\"ended\")\n",
    "fun()\n",
    "fun()\n",
    "fun()\n",
    "fun()"
   ]
  },
  {
   "cell_type": "code",
   "execution_count": 5,
   "metadata": {},
   "outputs": [
    {
     "name": "stdout",
     "output_type": "stream",
     "text": [
      "started\n",
      "ended\n"
     ]
    }
   ],
   "source": [
    "print(\"started\")\n",
    "def add(x,y):\n",
    "    print(x,y)\n",
    "print(\"ended\")"
   ]
  },
  {
   "cell_type": "code",
   "execution_count": 7,
   "metadata": {},
   "outputs": [
    {
     "name": "stdout",
     "output_type": "stream",
     "text": [
      "started\n",
      "ended\n",
      "x=10,y=20\n",
      "x=100,y=200\n",
      "x=1000,y=2000\n"
     ]
    }
   ],
   "source": [
    "print(\"started\")\n",
    "def add(x,y): # x,y parameters\n",
    "    print(f\"x={x},y={y}\")\n",
    "print(\"ended\")\n",
    "add(10,20)# 10,20 arguments\n",
    "add(100,200)\n",
    "add(1000,2000)"
   ]
  },
  {
   "cell_type": "code",
   "execution_count": 8,
   "metadata": {},
   "outputs": [
    {
     "name": "stdout",
     "output_type": "stream",
     "text": [
      "started\n",
      "ended\n",
      "x=10,y=20\n",
      "z=30\n",
      "x=100,y=200\n",
      "z=300\n",
      "x=1000,y=2000\n",
      "z=3000\n"
     ]
    }
   ],
   "source": [
    "print(\"started\")\n",
    "def add(x,y): # x,y parameters\n",
    "    print(f\"x={x},y={y}\")\n",
    "    z=x+y\n",
    "    print(f\"z={z}\")\n",
    "print(\"ended\")\n",
    "add(10,20)# 10,20 arguments\n",
    "add(100,200)\n",
    "add(1000,2000)"
   ]
  },
  {
   "cell_type": "code",
   "execution_count": 9,
   "metadata": {},
   "outputs": [
    {
     "name": "stdout",
     "output_type": "stream",
     "text": [
      "started\n",
      "ended\n",
      "x=10,y=20\n",
      "summation=30\n",
      "x=100,y=200\n",
      "summation=300\n",
      "x=1000,y=2000\n",
      "summation=3000\n"
     ]
    }
   ],
   "source": [
    "print(\"started\")\n",
    "def add(x,y): # x,y parameters\n",
    "    print(f\"x={x},y={y}\")\n",
    "    z=x+y\n",
    "    print(f\"summation={z}\")\n",
    "print(\"ended\")\n",
    "add(10,20)# 10,20 arguments\n",
    "add(100,200)\n",
    "add(1000,2000)"
   ]
  },
  {
   "cell_type": "code",
   "execution_count": 10,
   "metadata": {},
   "outputs": [
    {
     "name": "stdout",
     "output_type": "stream",
     "text": [
      "started\n",
      "ended\n"
     ]
    },
    {
     "ename": "TypeError",
     "evalue": "add() missing 1 required positional argument: 'y'",
     "output_type": "error",
     "traceback": [
      "\u001b[1;31m---------------------------------------------------------------------------\u001b[0m",
      "\u001b[1;31mTypeError\u001b[0m                                 Traceback (most recent call last)",
      "\u001b[1;32m<ipython-input-10-66e759531a56>\u001b[0m in \u001b[0;36m<module>\u001b[1;34m\u001b[0m\n\u001b[0;32m      5\u001b[0m     \u001b[0mprint\u001b[0m\u001b[1;33m(\u001b[0m\u001b[1;34mf\"summation={z}\"\u001b[0m\u001b[1;33m)\u001b[0m\u001b[1;33m\u001b[0m\u001b[1;33m\u001b[0m\u001b[0m\n\u001b[0;32m      6\u001b[0m \u001b[0mprint\u001b[0m\u001b[1;33m(\u001b[0m\u001b[1;34m\"ended\"\u001b[0m\u001b[1;33m)\u001b[0m\u001b[1;33m\u001b[0m\u001b[1;33m\u001b[0m\u001b[0m\n\u001b[1;32m----> 7\u001b[1;33m \u001b[0madd\u001b[0m\u001b[1;33m(\u001b[0m\u001b[1;36m100\u001b[0m\u001b[1;33m)\u001b[0m\u001b[1;33m\u001b[0m\u001b[1;33m\u001b[0m\u001b[0m\n\u001b[0m",
      "\u001b[1;31mTypeError\u001b[0m: add() missing 1 required positional argument: 'y'"
     ]
    }
   ],
   "source": [
    "print(\"started\")\n",
    "def add(x,y): # x,y are mandatory prameters \n",
    "    print(f\"x={x},y={y}\")\n",
    "    z=x+y\n",
    "    print(f\"summation={z}\")\n",
    "print(\"ended\")\n",
    "add(100)"
   ]
  },
  {
   "cell_type": "code",
   "execution_count": 11,
   "metadata": {},
   "outputs": [
    {
     "name": "stdout",
     "output_type": "stream",
     "text": [
      "started\n",
      "ended\n",
      "x=100,y=0\n",
      "summation=100\n"
     ]
    }
   ],
   "source": [
    "print(\"started\")\n",
    "def add(x,y=0): # x is mandatory prameter, y is an optional parameter\n",
    "    print(f\"x={x},y={y}\")\n",
    "    z=x+y\n",
    "    print(f\"summation={z}\")\n",
    "print(\"ended\")\n",
    "add(100)"
   ]
  },
  {
   "cell_type": "code",
   "execution_count": 12,
   "metadata": {},
   "outputs": [
    {
     "name": "stdout",
     "output_type": "stream",
     "text": [
      "started\n",
      "ended\n",
      "x=100,y=200\n",
      "summation=300\n"
     ]
    }
   ],
   "source": [
    "print(\"started\")\n",
    "def add(x,y=0): # x is mandatory prameter, y is an optional parameter\n",
    "    print(f\"x={x},y={y}\")\n",
    "    z=x+y\n",
    "    print(f\"summation={z}\")\n",
    "print(\"ended\")\n",
    "add(100,200)"
   ]
  },
  {
   "cell_type": "code",
   "execution_count": 13,
   "metadata": {},
   "outputs": [
    {
     "name": "stdout",
     "output_type": "stream",
     "text": [
      "started\n",
      "ended\n",
      "x=100,y=200,z=0\n",
      "summation=300\n"
     ]
    }
   ],
   "source": [
    "print(\"started\")\n",
    "def add(x,y=0,z=0): # x is mandatory prameter, y is an optional parameter\n",
    "    print(f\"x={x},y={y},z={z}\")\n",
    "    k=x+y+z\n",
    "    print(f\"summation={k}\")\n",
    "print(\"ended\")\n",
    "add(100,200)"
   ]
  },
  {
   "cell_type": "code",
   "execution_count": 14,
   "metadata": {},
   "outputs": [
    {
     "name": "stdout",
     "output_type": "stream",
     "text": [
      "started\n",
      "ended\n",
      "x=100,y=0,z=200\n",
      "summation=300\n"
     ]
    }
   ],
   "source": [
    "print(\"started\")\n",
    "def add(x,y=0,z=0): # x is mandatory prameter, y is an optional parameter\n",
    "    print(f\"x={x},y={y},z={z}\")\n",
    "    k=x+y+z\n",
    "    print(f\"summation={k}\")\n",
    "print(\"ended\")\n",
    "add(100,0,200)"
   ]
  },
  {
   "cell_type": "code",
   "execution_count": 15,
   "metadata": {},
   "outputs": [],
   "source": [
    "import pandas as pd\n",
    "pd.read_csv?"
   ]
  },
  {
   "cell_type": "code",
   "execution_count": 17,
   "metadata": {},
   "outputs": [
    {
     "name": "stdout",
     "output_type": "stream",
     "text": [
      "started\n",
      "ended\n",
      "x=100,y=0,z=200\n",
      "summation=300\n",
      "x=100,y=200,z=300\n",
      "summation=600\n"
     ]
    }
   ],
   "source": [
    "print(\"started\")\n",
    "def add(x,y=0,z=0): # x is mandatory prameter, y is an optional parameter\n",
    "    print(f\"x={x},y={y},z={z}\")\n",
    "    k=x+y+z\n",
    "    print(f\"summation={k}\")\n",
    "print(\"ended\")\n",
    "add(100,z=200) # 100 positional argument, z=200 keyword argument\n",
    "add(z=300,x=100,y=200)"
   ]
  },
  {
   "cell_type": "code",
   "execution_count": 18,
   "metadata": {},
   "outputs": [
    {
     "name": "stdout",
     "output_type": "stream",
     "text": [
      "started\n",
      "ended\n",
      "x=100,y=0,z=200\n",
      "summation=300\n",
      "x=100,y=200,z=300\n",
      "summation=600\n"
     ]
    }
   ],
   "source": [
    "print(\"started\")\n",
    "def add(x,y=0,z=0): # x is mandatory parameter, y is an optional parameter\n",
    "    print(f\"x={x},y={y},z={z}\")\n",
    "    k=x+y+z\n",
    "    print(f\"summation={k}\")\n",
    "print(\"ended\")\n",
    "add(100,z=200) # 100 positional argument, z=200 keyword argument\n",
    "add(z=300,x=100,y=200)"
   ]
  },
  {
   "cell_type": "code",
   "execution_count": 19,
   "metadata": {},
   "outputs": [
    {
     "name": "stdout",
     "output_type": "stream",
     "text": [
      "() <class 'tuple'>\n",
      "(1,) <class 'tuple'>\n",
      "(1, 2, 3, 4, 5, 6, 7, 8, 9) <class 'tuple'>\n"
     ]
    }
   ],
   "source": [
    "# develop a program for calculator: 14 numbers to do operations\n",
    "#def (a=0,b=0,c=0,d=0,...)\n",
    "def add(*k): # *args\n",
    "    print(k,type(k))\n",
    "add()\n",
    "add(1)\n",
    "add(1,2,3,4,5,6,7,8,9)"
   ]
  },
  {
   "cell_type": "code",
   "execution_count": 21,
   "metadata": {},
   "outputs": [
    {
     "data": {
      "text/plain": [
       "0"
      ]
     },
     "execution_count": 21,
     "metadata": {},
     "output_type": "execute_result"
    }
   ],
   "source": [
    "sum(())"
   ]
  },
  {
   "cell_type": "code",
   "execution_count": 22,
   "metadata": {},
   "outputs": [
    {
     "name": "stdout",
     "output_type": "stream",
     "text": [
      "() <class 'tuple'>\n",
      "0\n",
      "(1,) <class 'tuple'>\n",
      "1\n",
      "(1, 2, 3, 4, 5, 6, 7, 8, 9) <class 'tuple'>\n",
      "45\n"
     ]
    }
   ],
   "source": [
    "# develop a program for calculator: 14 numbers to do operations\n",
    "#def (a=0,b=0,c=0,d=0,...)\n",
    "def add(*k): # *args\n",
    "    print(k,type(k))\n",
    "    print(sum(k))\n",
    "add()\n",
    "add(1)\n",
    "add(1,2,3,4,5,6,7,8,9)"
   ]
  },
  {
   "cell_type": "code",
   "execution_count": 23,
   "metadata": {},
   "outputs": [
    {
     "data": {
      "text/plain": [
       "10"
      ]
     },
     "execution_count": 23,
     "metadata": {},
     "output_type": "execute_result"
    }
   ],
   "source": [
    "sum([1,2,3,4])"
   ]
  },
  {
   "cell_type": "code",
   "execution_count": 24,
   "metadata": {},
   "outputs": [
    {
     "data": {
      "text/plain": [
       "22"
      ]
     },
     "execution_count": 24,
     "metadata": {},
     "output_type": "execute_result"
    }
   ],
   "source": [
    "sum((1,5,7,9))"
   ]
  },
  {
   "cell_type": "code",
   "execution_count": 26,
   "metadata": {},
   "outputs": [
    {
     "name": "stdout",
     "output_type": "stream",
     "text": [
      "1\n",
      "1\n",
      "362880\n"
     ]
    }
   ],
   "source": [
    "# develop a program for calculator: 14 numbers to do operations\n",
    "#def (a=0,b=0,c=0,d=0,...)\n",
    "def mul(*k): # *args\n",
    "    res=1\n",
    "    for i in k:\n",
    "        res=res*i\n",
    "    print(res)\n",
    "    \n",
    "mul()\n",
    "mul(1)\n",
    "mul(1,2,3,4,5,6,7,8,9)"
   ]
  },
  {
   "cell_type": "code",
   "execution_count": 27,
   "metadata": {},
   "outputs": [
    {
     "name": "stdout",
     "output_type": "stream",
     "text": [
      "name: jay Adhar: 123214 election card number:  Driving licence: \n"
     ]
    }
   ],
   "source": [
    "def set_person(name,adhar,pan=\"\",election=\"\",driving=\"\"):\n",
    "    print(\"name:\",name,\"Adhar:\",adhar,\"election card number:\", election,\"Driving licence:\",driving)\n",
    "set_person(\"jay\",123214)"
   ]
  },
  {
   "cell_type": "code",
   "execution_count": 28,
   "metadata": {},
   "outputs": [
    {
     "name": "stdout",
     "output_type": "stream",
     "text": [
      "name: jay Adhar: 123214 election card number:  Driving licence: \n"
     ]
    }
   ],
   "source": [
    "def set_person(name,adhar,pan=\"\",election=\"\",driving=\"\"):\n",
    "    print(\"name:\",name,\"Adhar:\",adhar,\"election card number:\", election,\"Driving licence:\",driving)\n",
    "set_person(\"jay\",123214)"
   ]
  },
  {
   "cell_type": "code",
   "execution_count": 30,
   "metadata": {},
   "outputs": [
    {
     "name": "stdout",
     "output_type": "stream",
     "text": [
      "name: jay Adhar: 123214 election card number:  Driving licence: \n"
     ]
    },
    {
     "ename": "TypeError",
     "evalue": "set_person() got an unexpected keyword argument 'citigen'",
     "output_type": "error",
     "traceback": [
      "\u001b[1;31m---------------------------------------------------------------------------\u001b[0m",
      "\u001b[1;31mTypeError\u001b[0m                                 Traceback (most recent call last)",
      "\u001b[1;32m<ipython-input-30-ed7e637ea4e5>\u001b[0m in \u001b[0;36m<module>\u001b[1;34m\u001b[0m\n\u001b[0;32m      2\u001b[0m     \u001b[0mprint\u001b[0m\u001b[1;33m(\u001b[0m\u001b[1;34m\"name:\"\u001b[0m\u001b[1;33m,\u001b[0m\u001b[0mname\u001b[0m\u001b[1;33m,\u001b[0m\u001b[1;34m\"Adhar:\"\u001b[0m\u001b[1;33m,\u001b[0m\u001b[0madhar\u001b[0m\u001b[1;33m,\u001b[0m\u001b[1;34m\"election card number:\"\u001b[0m\u001b[1;33m,\u001b[0m \u001b[0melection\u001b[0m\u001b[1;33m,\u001b[0m\u001b[1;34m\"Driving licence:\"\u001b[0m\u001b[1;33m,\u001b[0m\u001b[0mdriving\u001b[0m\u001b[1;33m)\u001b[0m\u001b[1;33m\u001b[0m\u001b[1;33m\u001b[0m\u001b[0m\n\u001b[0;32m      3\u001b[0m \u001b[0mset_person\u001b[0m\u001b[1;33m(\u001b[0m\u001b[1;34m\"jay\"\u001b[0m\u001b[1;33m,\u001b[0m\u001b[1;36m123214\u001b[0m\u001b[1;33m)\u001b[0m\u001b[1;33m\u001b[0m\u001b[1;33m\u001b[0m\u001b[0m\n\u001b[1;32m----> 4\u001b[1;33m \u001b[0mset_person\u001b[0m\u001b[1;33m(\u001b[0m\u001b[0mname\u001b[0m\u001b[1;33m=\u001b[0m\u001b[1;34m\"vedha\"\u001b[0m\u001b[1;33m,\u001b[0m\u001b[0madhar\u001b[0m\u001b[1;33m=\u001b[0m\u001b[1;36m423\u001b[0m\u001b[1;33m,\u001b[0m\u001b[0mcitigen\u001b[0m\u001b[1;33m=\u001b[0m\u001b[1;36m1234\u001b[0m\u001b[1;33m)\u001b[0m\u001b[1;33m\u001b[0m\u001b[1;33m\u001b[0m\u001b[0m\n\u001b[0m",
      "\u001b[1;31mTypeError\u001b[0m: set_person() got an unexpected keyword argument 'citigen'"
     ]
    }
   ],
   "source": [
    "def set_person(name,adhar,pan=\"\",election=\"\",driving=\"\"):\n",
    "    print(\"name:\",name,\"Adhar:\",adhar,\"election card number:\", election,\"Driving licence:\",driving)\n",
    "set_person(\"jay\",123214)\n",
    "set_person(name=\"vedha\",adhar=423,citigen=1234)"
   ]
  },
  {
   "cell_type": "code",
   "execution_count": 31,
   "metadata": {},
   "outputs": [
    {
     "name": "stdout",
     "output_type": "stream",
     "text": [
      "name: jay Adhar: 123214 election card number:  Driving licence: \n",
      "{} <class 'dict'>\n",
      "name: vedha Adhar: 423 election card number:  Driving licence: \n",
      "{'citigen': 1234} <class 'dict'>\n"
     ]
    }
   ],
   "source": [
    "def set_person(name,adhar,pan=\"\",election=\"\",driving=\"\", **context): #** kwargs\n",
    "    print(\"name:\",name,\"Adhar:\",adhar,\"election card number:\", election,\"Driving licence:\",driving)\n",
    "    print(context, type(context))\n",
    "set_person(\"jay\",123214)\n",
    "set_person(name=\"vedha\",adhar=423,citigen=1234)"
   ]
  },
  {
   "cell_type": "code",
   "execution_count": 32,
   "metadata": {},
   "outputs": [
    {
     "name": "stdout",
     "output_type": "stream",
     "text": [
      "name: vedha Adhar: 423 election card number: 367 Driving licence: \n",
      "{'citigen': 1234} <class 'dict'>\n"
     ]
    }
   ],
   "source": [
    "def set_person(name,adhar,pan=\"\",election=\"\",driving=\"\", **context): #** kwargs\n",
    "    print(\"name:\",name,\"Adhar:\",adhar,\"election card number:\", election,\"Driving licence:\",driving)\n",
    "    print(context, type(context))\n",
    "set_person(name=\"vedha\",adhar=423,citigen=1234, election=367)"
   ]
  },
  {
   "cell_type": "code",
   "execution_count": 33,
   "metadata": {},
   "outputs": [
    {
     "name": "stdout",
     "output_type": "stream",
     "text": [
      "name: vedha Adhar: 423 election card number: 367 Driving licence: \n",
      "{'citigen': 1234, 'x': 23, 'y': 34, 'a': 45} <class 'dict'>\n"
     ]
    }
   ],
   "source": [
    "def set_person(name,adhar,pan=\"\",election=\"\",driving=\"\", **context): #** kwargs\n",
    "    print(\"name:\",name,\"Adhar:\",adhar,\"election card number:\", election,\"Driving licence:\",driving)\n",
    "    print(context, type(context))\n",
    "set_person(name=\"vedha\",adhar=423,citigen=1234, election=367,x=23,y=34,a=45)"
   ]
  },
  {
   "cell_type": "code",
   "execution_count": null,
   "metadata": {},
   "outputs": [],
   "source": []
  }
 ],
 "metadata": {
  "kernelspec": {
   "display_name": "Python 3",
   "language": "python",
   "name": "python3"
  },
  "language_info": {
   "codemirror_mode": {
    "name": "ipython",
    "version": 3
   },
   "file_extension": ".py",
   "mimetype": "text/x-python",
   "name": "python",
   "nbconvert_exporter": "python",
   "pygments_lexer": "ipython3",
   "version": "3.8.3"
  }
 },
 "nbformat": 4,
 "nbformat_minor": 4
}
